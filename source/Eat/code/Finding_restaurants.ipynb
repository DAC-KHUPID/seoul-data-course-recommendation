{
 "cells": [
  {
   "cell_type": "code",
   "execution_count": 3,
   "metadata": {
    "scrolled": true
   },
   "outputs": [],
   "source": [
    "from selenium import webdriver\n",
    "import time"
   ]
  },
  {
   "cell_type": "code",
   "execution_count": 4,
   "metadata": {},
   "outputs": [],
   "source": [
    "#서울시 구 정의 : 총 24개의 구\n",
    "gu_list = [\"강남구\",\"강동구\",\"강북구\",\"강서구\",\"관악구\",\"광진구\",\"구로구\",\"금천구\",\n",
    "          \"노원구\",\"도봉구\",\"동대문구\",\"동작구\",\"마포구\",\"서대문구\",\"서초구\",\"성북구\",\n",
    "           \"송파구\",\"양천구\",\"영등포구\",\"용산구\",\"은평구\",\"종로구\",\"중구\", \"중랑구\"]"
   ]
  },
  {
   "cell_type": "markdown",
   "metadata": {},
   "source": [
    "# 다이닝코드"
   ]
  },
  {
   "cell_type": "code",
   "execution_count": 3,
   "metadata": {},
   "outputs": [],
   "source": [
    "def get_links_DiningCode(gu):\n",
    "    \n",
    "    driver.get(\"https://www.diningcode.com/list.php?query=서울%20\"+gu)\n",
    "    \n",
    "    while True:\n",
    "        try:\n",
    "            click_more = driver.find_element_by_xpath(\"\"\"//*[@id=\"div_list_more\"]\"\"\")\n",
    "            click_more.click()\n",
    "        except:\n",
    "            break\n",
    "        time.sleep(0.5)\n",
    "        \n",
    "    link_list = driver.find_elements_by_tag_name(\"a\")\n",
    "    res_links_raw = [link.get_attribute('href') for link in link_list]\n",
    "    count=0\n",
    "    for link in res_links_raw:\n",
    "        if link.find('profile')!=-1:\n",
    "            count+=1\n",
    "            Diningcode_links.append(link)\n",
    "    print(gu+\"에서 \"+str(count)+\"곳의 맛집을 크롤링 했습니다.\")"
   ]
  },
  {
   "cell_type": "code",
   "execution_count": null,
   "metadata": {},
   "outputs": [],
   "source": [
    "driver = webdriver.Chrome('../driver/chromedriver')\n",
    "Diningcode_links = []"
   ]
  },
  {
   "cell_type": "code",
   "execution_count": null,
   "metadata": {},
   "outputs": [],
   "source": [
    "for gu in gu_list:\n",
    "    get_links_DiningCode(gu)"
   ]
  },
  {
   "cell_type": "code",
   "execution_count": null,
   "metadata": {},
   "outputs": [],
   "source": [
    "len(Diningcode_links)"
   ]
  },
  {
   "cell_type": "code",
   "execution_count": null,
   "metadata": {},
   "outputs": [],
   "source": [
    "with open(\"../data/restaurants_DiningCode.txt\",\"w\") as f:\n",
    "    f.write('\\n'.join(Diningcode_links))"
   ]
  },
  {
   "cell_type": "markdown",
   "metadata": {},
   "source": [
    "# 망고플레이트"
   ]
  },
  {
   "cell_type": "code",
   "execution_count": 5,
   "metadata": {},
   "outputs": [],
   "source": [
    "def get_links_MangoPlate(gu):\n",
    "    \n",
    "    try:\n",
    "        driver.get(\"https://www.mangoplate.com/search/서울%20\"+gu)\n",
    "    except:\n",
    "        return\n",
    "\n",
    "    count = 0\n",
    "    for i in range(1,11):\n",
    "        try:\n",
    "            click_more = driver.find_element_by_xpath(\"\"\"/html/body/main/article/div[2]/div/div/section/div[4]/p/a[\"\"\"+str(i)+\"\"\"]\"\"\")\n",
    "            click_more.click()\n",
    "            time.sleep(0.5)\n",
    "        \n",
    "            link_list = driver.find_elements_by_tag_name(\"a\")\n",
    "            res_links_raw = [link.get_attribute('href') for link in link_list]\n",
    "            res_links_raw = list(set(res_links_raw))\n",
    "        except:\n",
    "            continue\n",
    "            \n",
    "        for link in res_links_raw:\n",
    "            if link.find('restaurants')!=-1:\n",
    "                count+=1\n",
    "                MangoPlate_links.append(link)\n",
    "    \n",
    "    print(gu+\"에서 \"+str(count)+\"곳의 맛집을 크롤링 했습니다.\")"
   ]
  },
  {
   "cell_type": "code",
   "execution_count": 6,
   "metadata": {},
   "outputs": [],
   "source": [
    "driver = webdriver.Chrome('../driver/chromedriver')\n",
    "MangoPlate_links = []"
   ]
  },
  {
   "cell_type": "code",
   "execution_count": 7,
   "metadata": {
    "scrolled": true
   },
   "outputs": [
    {
     "name": "stdout",
     "output_type": "stream",
     "text": [
      "강남구에서 200곳의 맛집을 크롤링 했습니다.\n",
      "강동구에서 200곳의 맛집을 크롤링 했습니다.\n",
      "강북구에서 200곳의 맛집을 크롤링 했습니다.\n",
      "강서구에서 200곳의 맛집을 크롤링 했습니다.\n",
      "관악구에서 200곳의 맛집을 크롤링 했습니다.\n",
      "광진구에서 180곳의 맛집을 크롤링 했습니다.\n",
      "구로구에서 200곳의 맛집을 크롤링 했습니다.\n",
      "금천구에서 200곳의 맛집을 크롤링 했습니다.\n",
      "노원구에서 200곳의 맛집을 크롤링 했습니다.\n",
      "도봉구에서 200곳의 맛집을 크롤링 했습니다.\n",
      "동대문구에서 200곳의 맛집을 크롤링 했습니다.\n",
      "동작구에서 200곳의 맛집을 크롤링 했습니다.\n",
      "마포구에서 200곳의 맛집을 크롤링 했습니다.\n",
      "서대문구에서 200곳의 맛집을 크롤링 했습니다.\n",
      "서초구에서 200곳의 맛집을 크롤링 했습니다.\n",
      "성북구에서 200곳의 맛집을 크롤링 했습니다.\n",
      "송파구에서 200곳의 맛집을 크롤링 했습니다.\n",
      "양천구에서 200곳의 맛집을 크롤링 했습니다.\n",
      "영등포구에서 200곳의 맛집을 크롤링 했습니다.\n",
      "용산구에서 180곳의 맛집을 크롤링 했습니다.\n",
      "은평구에서 200곳의 맛집을 크롤링 했습니다.\n",
      "종로구에서 200곳의 맛집을 크롤링 했습니다.\n",
      "중구에서 0곳의 맛집을 크롤링 했습니다.\n"
     ]
    }
   ],
   "source": [
    "for gu in gu_list:\n",
    "    get_links_MangoPlate(gu)"
   ]
  },
  {
   "cell_type": "code",
   "execution_count": 25,
   "metadata": {},
   "outputs": [],
   "source": [
    "#중구는 driver.get(\"https://www.mangoplate.com/search/서울%20\"+gu)에서 에러가 발생한다..."
   ]
  },
  {
   "cell_type": "code",
   "execution_count": 20,
   "metadata": {
    "scrolled": false
   },
   "outputs": [
    {
     "data": {
      "text/plain": [
       "4360"
      ]
     },
     "execution_count": 20,
     "metadata": {},
     "output_type": "execute_result"
    }
   ],
   "source": [
    "len(MangoPlate_links)"
   ]
  },
  {
   "cell_type": "code",
   "execution_count": 23,
   "metadata": {},
   "outputs": [],
   "source": [
    "MangoPlate_links = list(set(MangoPlate_links))"
   ]
  },
  {
   "cell_type": "code",
   "execution_count": 24,
   "metadata": {},
   "outputs": [],
   "source": [
    "with open(\"../data/restaurants_MangoPlate.txt\",\"w\") as f:\n",
    "    f.write('\\n'.join(MangoPlate_links))"
   ]
  }
 ],
 "metadata": {
  "kernelspec": {
   "display_name": "Python 3",
   "language": "python",
   "name": "python3"
  },
  "language_info": {
   "codemirror_mode": {
    "name": "ipython",
    "version": 3
   },
   "file_extension": ".py",
   "mimetype": "text/x-python",
   "name": "python",
   "nbconvert_exporter": "python",
   "pygments_lexer": "ipython3",
   "version": "3.7.4"
  }
 },
 "nbformat": 4,
 "nbformat_minor": 2
}
