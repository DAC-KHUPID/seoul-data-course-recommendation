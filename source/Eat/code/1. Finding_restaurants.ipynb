{
 "cells": [
  {
   "cell_type": "code",
   "execution_count": 1,
   "metadata": {
    "scrolled": true
   },
   "outputs": [],
   "source": [
    "from selenium import webdriver\n",
    "import time"
   ]
  },
  {
   "cell_type": "code",
   "execution_count": 2,
   "metadata": {},
   "outputs": [],
   "source": [
    "#서울시 구 정의 : 총 24개의 구\n",
    "gu_list = [\"강남구\",\"강동구\",\"강북구\",\"강서구\",\"관악구\",\"광진구\",\"구로구\",\"금천구\",\n",
    "          \"노원구\",\"도봉구\",\"동대문구\",\"동작구\",\"마포구\",\"서대문구\",\"서초구\",\"성북구\",\n",
    "           \"송파구\",\"양천구\",\"영등포구\",\"용산구\",\"은평구\",\"종로구\",\"중구\", \"중랑구\"]"
   ]
  },
  {
   "cell_type": "markdown",
   "metadata": {},
   "source": [
    "# 다이닝코드"
   ]
  },
  {
   "cell_type": "code",
   "execution_count": 3,
   "metadata": {},
   "outputs": [],
   "source": [
    "#다이닝 코드에서 식당 링크 가져오기\n",
    "def get_links_DiningCode(gu):\n",
    "    driver = webdriver.Chrome('../driver/chromedriver')\n",
    "    driver.get(\"https://www.diningcode.com/list.php?query=서울%20\"+gu)\n",
    "    \n",
    "    while True:\n",
    "        try:\n",
    "            click_more = driver.find_element_by_xpath(\"\"\"//*[@id=\"div_list_more\"]\"\"\")\n",
    "            click_more.click()\n",
    "        except:\n",
    "            break\n",
    "        time.sleep(0.5)\n",
    "        \n",
    "    link_list = driver.find_elements_by_tag_name(\"a\")\n",
    "    res_links_raw = [link.get_attribute('href') for link in link_list]\n",
    "    res_links = []\n",
    "    for link in res_links_raw:\n",
    "        if link.find('profile')!=-1:\n",
    "            res_links.append(link)\n",
    "            \n",
    "    res_links = list(set(res_links))\n",
    "    Diningcode_links.extend(res_links)\n",
    "    print('Found',len(res_links),'places from '+gu)\n",
    "    \n",
    "    # If get not enough data\n",
    "    if len(res_links) < 80 :\n",
    "        retry.append(gu)\n",
    "    \n",
    "    driver.close()"
   ]
  },
  {
   "cell_type": "code",
   "execution_count": 4,
   "metadata": {},
   "outputs": [],
   "source": [
    "Diningcode_links = []\n",
    "retry = []"
   ]
  },
  {
   "cell_type": "code",
   "execution_count": 5,
   "metadata": {
    "scrolled": true
   },
   "outputs": [
    {
     "name": "stdout",
     "output_type": "stream",
     "text": [
      "Found 101 places from 강남구\n",
      "Found 101 places from 강동구\n",
      "Found 101 places from 강북구\n",
      "Found 101 places from 강서구\n",
      "Found 101 places from 관악구\n",
      "Found 101 places from 광진구\n",
      "Found 101 places from 구로구\n",
      "Found 31 places from 금천구\n",
      "Found 101 places from 노원구\n",
      "Found 101 places from 도봉구\n",
      "Found 101 places from 동대문구\n",
      "Found 101 places from 동작구\n",
      "Found 101 places from 마포구\n",
      "Found 21 places from 서대문구\n",
      "Found 101 places from 서초구\n",
      "Found 101 places from 성북구\n",
      "Found 101 places from 송파구\n",
      "Found 101 places from 양천구\n",
      "Found 101 places from 영등포구\n",
      "Found 101 places from 용산구\n",
      "Found 101 places from 은평구\n",
      "Found 101 places from 종로구\n",
      "Found 101 places from 중구\n",
      "Found 101 places from 중랑구\n"
     ]
    }
   ],
   "source": [
    "for gu in gu_list:\n",
    "    get_links_DiningCode(gu)"
   ]
  },
  {
   "cell_type": "code",
   "execution_count": 6,
   "metadata": {},
   "outputs": [
    {
     "name": "stdout",
     "output_type": "stream",
     "text": [
      "Found 41 places from 금천구\n",
      "Found 101 places from 서대문구\n",
      "Found 101 places from 금천구\n"
     ]
    }
   ],
   "source": [
    "for gu in retry:\n",
    "    get_links_DiningCode(gu)"
   ]
  },
  {
   "cell_type": "code",
   "execution_count": 7,
   "metadata": {},
   "outputs": [
    {
     "data": {
      "text/plain": [
       "2517"
      ]
     },
     "execution_count": 7,
     "metadata": {},
     "output_type": "execute_result"
    }
   ],
   "source": [
    "len(Diningcode_links)"
   ]
  },
  {
   "cell_type": "code",
   "execution_count": 8,
   "metadata": {},
   "outputs": [],
   "source": [
    "Diningcode_links = list(set(Diningcode_links))\n",
    "\n",
    "# save into text\n",
    "with open(\"../data/restaurants_DiningCode.txt\",\"w\") as f:\n",
    "    f.write('\\n'.join(Diningcode_links))"
   ]
  },
  {
   "cell_type": "markdown",
   "metadata": {},
   "source": [
    "# 망고플레이트"
   ]
  },
  {
   "cell_type": "code",
   "execution_count": 15,
   "metadata": {},
   "outputs": [],
   "source": [
    "#망고플레이트에서 식당 링크 가져오기\n",
    "def get_links_MangoPlate(gu):    \n",
    "    try:\n",
    "        driver.get(\"https://www.mangoplate.com/search/서울%20\"+gu)\n",
    "    except:\n",
    "        return\n",
    "\n",
    "    count = 0\n",
    "    res_links = []\n",
    "    \n",
    "    for i in range(1,11):\n",
    "        try:\n",
    "            click_more = driver.find_element_by_xpath(\"\"\"/html/body/main/article/div[2]/div/div/section/div[4]/p/a[\"\"\"+str(i)+\"\"\"]\"\"\")\n",
    "            click_more.click()\n",
    "            time.sleep(0.5)\n",
    "        \n",
    "            link_list = driver.find_elements_by_tag_name(\"a\")\n",
    "            res_links_raw = [link.get_attribute('href') for link in link_list]\n",
    "            res_links_raw = list(set(res_links_raw))\n",
    "        except:\n",
    "            continue\n",
    "        \n",
    "        \n",
    "        for link in res_links_raw:\n",
    "            if link.find('restaurants')!=-1:\n",
    "                res_links.append(link)\n",
    "\n",
    "    res_links = list(set(res_links))            \n",
    "    MangoPlate_links.extend(res_links)\n",
    "    print('Found',len(res_links),'places from '+gu)\n",
    "    \n",
    "    # If get not enough data\n",
    "    if len(res_links) < 80 :\n",
    "        retry.append(gu)"
   ]
  },
  {
   "cell_type": "code",
   "execution_count": 16,
   "metadata": {},
   "outputs": [],
   "source": [
    "driver = webdriver.Chrome('../driver/chromedriver')\n",
    "MangoPlate_links = []\n",
    "retry = []\n",
    "driver.get(\"https://www.mangoplate.com/search/서울%20강남구\")"
   ]
  },
  {
   "cell_type": "code",
   "execution_count": 17,
   "metadata": {
    "scrolled": false
   },
   "outputs": [
    {
     "name": "stdout",
     "output_type": "stream",
     "text": [
      "Found 200 places from 강남구\n",
      "Found 180 places from 강동구\n",
      "Found 200 places from 강북구\n",
      "Found 100 places from 강서구\n",
      "Found 180 places from 관악구\n",
      "Found 200 places from 광진구\n",
      "Found 200 places from 구로구\n",
      "Found 0 places from 금천구\n",
      "Found 60 places from 노원구\n",
      "Found 200 places from 도봉구\n",
      "Found 200 places from 동대문구\n",
      "Found 160 places from 동작구\n",
      "Found 200 places from 마포구\n",
      "Found 200 places from 서대문구\n",
      "Found 160 places from 서초구\n",
      "Found 0 places from 성북구\n",
      "Found 80 places from 송파구\n",
      "Found 200 places from 양천구\n",
      "Found 200 places from 영등포구\n",
      "Found 120 places from 용산구\n",
      "Found 0 places from 은평구\n",
      "Found 0 places from 종로구\n",
      "Found 200 places from 중구\n",
      "Found 200 places from 중랑구\n"
     ]
    }
   ],
   "source": [
    "for gu in gu_list:\n",
    "    get_links_MangoPlate(gu)"
   ]
  },
  {
   "cell_type": "code",
   "execution_count": 18,
   "metadata": {},
   "outputs": [
    {
     "name": "stdout",
     "output_type": "stream",
     "text": [
      "Found 200 places from 금천구\n",
      "Found 180 places from 노원구\n",
      "Found 0 places from 성북구\n",
      "Found 140 places from 은평구\n",
      "Found 180 places from 종로구\n",
      "Found 140 places from 성북구\n"
     ]
    }
   ],
   "source": [
    "for gu in retry:\n",
    "    get_links_MangoPlate(gu)"
   ]
  },
  {
   "cell_type": "code",
   "execution_count": 20,
   "metadata": {},
   "outputs": [
    {
     "name": "stdout",
     "output_type": "stream",
     "text": [
      "Found 200 places from 성북구\n"
     ]
    }
   ],
   "source": [
    "get_links_MangoPlate('성북구')"
   ]
  },
  {
   "cell_type": "code",
   "execution_count": 21,
   "metadata": {
    "scrolled": false
   },
   "outputs": [
    {
     "data": {
      "text/plain": [
       "4279"
      ]
     },
     "execution_count": 21,
     "metadata": {},
     "output_type": "execute_result"
    }
   ],
   "source": [
    "driver.close()\n",
    "\n",
    "MangoPlate_links = list(set(MangoPlate_links))\n",
    "len(MangoPlate_links)"
   ]
  },
  {
   "cell_type": "code",
   "execution_count": 22,
   "metadata": {},
   "outputs": [],
   "source": [
    "\n",
    "# save into text\n",
    "with open(\"../data/restaurants_MangoPlate.txt\",\"w\") as f:\n",
    "    f.write('\\n'.join(MangoPlate_links))"
   ]
  }
 ],
 "metadata": {
  "kernelspec": {
   "display_name": "Python 3",
   "language": "python",
   "name": "python3"
  },
  "language_info": {
   "codemirror_mode": {
    "name": "ipython",
    "version": 3
   },
   "file_extension": ".py",
   "mimetype": "text/x-python",
   "name": "python",
   "nbconvert_exporter": "python",
   "pygments_lexer": "ipython3",
   "version": "3.7.3"
  }
 },
 "nbformat": 4,
 "nbformat_minor": 2
}
