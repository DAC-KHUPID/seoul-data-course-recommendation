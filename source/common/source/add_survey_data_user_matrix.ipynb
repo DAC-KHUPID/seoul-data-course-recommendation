{
 "cells": [
  {
   "cell_type": "code",
   "execution_count": 3,
   "metadata": {},
   "outputs": [],
   "source": [
    "import pandas as pd\n",
    "sv = pd.read_csv('../data/survey_result.csv')"
   ]
  },
  {
   "cell_type": "code",
   "execution_count": 4,
   "metadata": {},
   "outputs": [
    {
     "data": {
      "text/plain": [
       "['타임스탬프',\n",
       " 'u_id',\n",
       " 'u_email',\n",
       " '이국적인',\n",
       " '가격이 싼',\n",
       " '스릴있는',\n",
       " '고전적인',\n",
       " '감성적인',\n",
       " '전망좋은',\n",
       " '자연적인',\n",
       " '모험적인',\n",
       " '차분한',\n",
       " '예쁜',\n",
       " '문화적인',\n",
       " '친절한',\n",
       " '심플한',\n",
       " '신나는',\n",
       " '감동적인',\n",
       " '종교적인',\n",
       " '다채로운',\n",
       " '깔끔한',\n",
       " '숨겨진',\n",
       " '자극적인',\n",
       " '짭쪼름한',\n",
       " '무제한의',\n",
       " '정성스러운',\n",
       " '전문적인',\n",
       " '평범한',\n",
       " '의미있는',\n",
       " '신비한',\n",
       " '시끌벅적한',\n",
       " '흥미로운',\n",
       " '웅장한',\n",
       " '눈물나는',\n",
       " '비현실적인',\n",
       " '동물의',\n",
       " '십대의',\n",
       " 'Eat',\n",
       " 'Go',\n",
       " 'Watch',\n",
       " 'District']"
      ]
     },
     "execution_count": 4,
     "metadata": {},
     "output_type": "execute_result"
    }
   ],
   "source": [
    "list(sv)"
   ]
  },
  {
   "cell_type": "code",
   "execution_count": 4,
   "metadata": {},
   "outputs": [],
   "source": [
    "test = sv.iloc[0]"
   ]
  },
  {
   "cell_type": "code",
   "execution_count": 5,
   "metadata": {},
   "outputs": [],
   "source": [
    "adv_categories = {\n",
    "    '이국적인' : ['group_93', '24', 'group_43'],\n",
    "    '가격이 싼' : ['group_45', '48' , 'group_42'],\n",
    "    '스릴있는' : ['group_74' , '29', 'group_55'],\n",
    "    '고전적인' : ['group_1', '35', 'group_25'],\n",
    "    '감성적인' : ['group_69', '22', 'group_69'],\n",
    "    '전망좋은' : ['group_22', '11', 'group_53'],\n",
    "    '자연적인' : ['group_42', '38', 'group_47'],\n",
    "    '모험적인' : ['group_60','42','group_77'],\n",
    "    '차분한' : ['group_13','88','group_22'],\n",
    "    '예쁜': ['group_107','86','group_85'],\n",
    "    #10\n",
    "    '문화적인' : ['','51','group_56'],\n",
    "    '친절한' : ['group_3','43',''],\n",
    "    '심플한' : ['','52','group_23'],\n",
    "    '신나는' : ['group_19','85',''],\n",
    "    '감동적인' : ['group_54','','group_4'],\n",
    "    '종교적인' : ['','26','group_16'],\n",
    "    '다채로운' : ['group_109','','group_17'],\n",
    "    '깔끔한' : ['group_66','','group_36'],\n",
    "    '숨겨진' : ['group_116','','group_87'],\n",
    "    #6,5,7\n",
    "    '자극적인' : ['group_15','',''],\n",
    "    '짭쪼름한' : ['group_34','',''],\n",
    "    '무제한의' : ['group_11','',''],\n",
    "    '정성스러운' :['group_20','',''],\n",
    "    '전문적인' :['group_39','',''],\n",
    "    #5\n",
    "    '평범한' : ['','98',''],\n",
    "    '의미있는' : ['','59',''],\n",
    "    '신비한' : ['','82',''],\n",
    "    '시끌벅적한' : ['','9',''],\n",
    "    '흥미로운' : ['','20',''],\n",
    "    #5\n",
    "    '웅장한' : ['','','group_98'],\n",
    "    '눈물나는' : ['','','group_76'],\n",
    "    '비현실적인' : ['','','group_8'],\n",
    "    '동물의' : ['','','group_67'],\n",
    "    '십대의' : ['','','group_30']\n",
    "    #5\n",
    "}"
   ]
  },
  {
   "cell_type": "code",
   "execution_count": 6,
   "metadata": {},
   "outputs": [
    {
     "data": {
      "text/plain": [
       "34"
      ]
     },
     "execution_count": 6,
     "metadata": {},
     "output_type": "execute_result"
    }
   ],
   "source": [
    "len(adv_categories)"
   ]
  },
  {
   "cell_type": "code",
   "execution_count": 7,
   "metadata": {},
   "outputs": [
    {
     "name": "stdout",
     "output_type": "stream",
     "text": [
      "이국적인 group_93\n",
      "가격이 싼 group_45\n",
      "스릴있는 group_74\n",
      "고전적인 group_1\n",
      "감성적인 group_69\n",
      "전망좋은 group_22\n",
      "자연적인 group_42\n",
      "모험적인 group_60\n",
      "차분한 group_13\n",
      "예쁜 group_107\n",
      "문화적인 \n",
      "친절한 group_3\n",
      "심플한 \n",
      "신나는 group_19\n",
      "감동적인 group_54\n",
      "종교적인 \n",
      "다채로운 group_109\n",
      "깔끔한 group_66\n",
      "숨겨진 group_116\n",
      "자극적인 group_15\n",
      "짭쪼름한 group_34\n",
      "무제한의 group_11\n",
      "정성스러운 group_20\n",
      "전문적인 group_39\n",
      "평범한 \n",
      "의미있는 \n",
      "신비한 \n",
      "시끌벅적한 \n",
      "흥미로운 \n",
      "웅장한 \n",
      "눈물나는 \n",
      "비현실적인 \n",
      "동물의 \n",
      "십대의 \n"
     ]
    }
   ],
   "source": [
    "\n",
    "for i in adv_categories:\n",
    "    print(i, adv_categories[i][0])"
   ]
  },
  {
   "cell_type": "code",
   "execution_count": 12,
   "metadata": {},
   "outputs": [],
   "source": [
    "categories = ['eat', 'go', 'watch']\n",
    "for category_index in range (0, len(categories)):\n",
    "    #일단 카테고리별 데이터를 불러오고\n",
    "    category = categories[category_index]\n",
    "    ex_u_mx = pd.read_csv(f'../../{category}/data/user_adj_matrix.csv')\n",
    "    #index reset\n",
    "    ex_u_mx.reset_index(inplace=True)\n",
    "                        \n",
    "    for survey_data_row in range (0, len(sv)):\n",
    "        total_cnt = 0;\n",
    "        user_dict = {}\n",
    "                        \n",
    "        for i in adv_categories:\n",
    "            #user_adj_matrix에 추가하기 위해서 col_name를 매칭하고\n",
    "            col_name= adv_categories[i][category_index]\n",
    "            if col_name!='':\n",
    "                #survey_data에 있는 값을 매칭해서 rate를 가져옴\n",
    "                rate = sv.iloc[survey_data_row][i]\n",
    "                #정규화를 위해 값 추가\n",
    "                total_cnt = total_cnt + rate\n",
    "                #dictionary에 추가\n",
    "                user_dict[col_name] = rate\n",
    "        \n",
    "        \n",
    "        if category == 'go' :\n",
    "            user_dict['total_count'] = total_cnt\n",
    "            \n",
    "        #아이디 추가\n",
    "        user_dict['u_id'] = 'u1s2&'+sv.iloc[survey_data_row]['u_id']\n",
    "               \n",
    "        ex_u_mx = ex_u_mx.append(user_dict, ignore_index=True)\n",
    "        \n",
    "    ex_u_mx.fillna(0, inplace=True)\n",
    "    del ex_u_mx['index']\n",
    "    ex_u_mx.to_csv(f'../../{category}/data/user_adj_matrix.csv', index=False)\n"
   ]
  },
  {
   "cell_type": "code",
   "execution_count": null,
   "metadata": {},
   "outputs": [],
   "source": []
  }
 ],
 "metadata": {
  "kernelspec": {
   "display_name": "Python reco_base",
   "language": "python",
   "name": "my_env_name"
  },
  "language_info": {
   "codemirror_mode": {
    "name": "ipython",
    "version": 3
   },
   "file_extension": ".py",
   "mimetype": "text/x-python",
   "name": "python",
   "nbconvert_exporter": "python",
   "pygments_lexer": "ipython3",
   "version": "3.6.10"
  }
 },
 "nbformat": 4,
 "nbformat_minor": 4
}
