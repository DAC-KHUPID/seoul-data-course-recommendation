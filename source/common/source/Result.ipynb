{
 "cells": [
  {
   "cell_type": "code",
   "execution_count": 1,
   "metadata": {},
   "outputs": [
    {
     "name": "stderr",
     "output_type": "stream",
     "text": [
      "Using TensorFlow backend.\n"
     ]
    }
   ],
   "source": [
    "import pandas as pd\n",
    "import numpy as np\n",
    "from keras.models import load_model\n",
    "import cornac.models.recommender as cmr\n",
    "import math"
   ]
  },
  {
   "cell_type": "code",
   "execution_count": 2,
   "metadata": {},
   "outputs": [],
   "source": [
    "def Eat_recommendation():\n",
    "    #Eat_contents_based\n",
    "\n",
    "    return;"
   ]
  },
  {
   "cell_type": "code",
   "execution_count": 15,
   "metadata": {},
   "outputs": [],
   "source": [
    "#Go_contents_based\n",
    "def Go_recommendation(user_id):\n",
    "    # 0. preprocess place_matrix\n",
    "    place_matrix = pd.read_csv('../../Go/data/normalized_item_matrix.csv')\n",
    "    cbf = place_matrix[['p_id']]\n",
    "    del place_matrix['total_count']\n",
    "    place_matrix.set_index('p_id', inplace=True)\n",
    "    \n",
    "    # 1. preprocess user_matrix\n",
    "    user_matrix = pd.read_csv('../../Go/data/normalized_user_matrix.csv')\n",
    "    user_id  = 'u1s2&'+user_id\n",
    "    user_index = user_matrix[user_matrix['u_id']==user_id].index[0]\n",
    "    del user_matrix['u_id']\n",
    "    del user_matrix['total_count']\n",
    "    \n",
    "    # 2. cbf result\n",
    "    cbf_result = cosine_similarity(place_matrix, user_matrix, user_index)\n",
    "    cbf['cbf'] = cbf_result\n",
    "    cbf.set_index('p_id', inplace=True, drop=True)\n",
    "    print(cbf)\n",
    "    print('Got Go - contents_based result')\n",
    "    \n",
    "    # 3. ncf result\n",
    "    \n",
    "    # 4. make_matrix\n",
    "    go_info =  pd.read_csv('../../Go/data/item_info.csv')\n",
    "    go_info = pd.DataFrame(go_info, columns=['p_id','p_name','address'])\n",
    "    go_info.set_index('p_id', inplace=True, drop=True)\n",
    "    \n",
    "    # 5. join more\n",
    "    go_info = go_info.join(cbf, how='left')\n",
    "    \n",
    "    # 6. fillNA with 0\n",
    "    go_info.fillna(0, inplace=True)\n",
    "    \n",
    "    \n",
    "    # 7. 두개 더한값 결과로\n",
    "    \n",
    "    # 8. decs 정렬\n",
    "    \n",
    "    return go_info;"
   ]
  },
  {
   "cell_type": "code",
   "execution_count": 4,
   "metadata": {},
   "outputs": [],
   "source": [
    "#Watch_contents_based\n",
    "def Watch_recommendation(user_id):\n",
    "    \n",
    "    return;"
   ]
  },
  {
   "cell_type": "code",
   "execution_count": 3,
   "metadata": {},
   "outputs": [],
   "source": [
    "def mag(x): return math.sqrt(sum(i**2 for i in x))"
   ]
  },
  {
   "cell_type": "code",
   "execution_count": 4,
   "metadata": {},
   "outputs": [],
   "source": [
    "def cosine_similarity(p_m, u_m, user_id):\n",
    "    cos_sim = []\n",
    "    \n",
    "    u_vec = u_m.loc[user_id,:]\n",
    "    u_size = mag(u_vec)\n",
    "\n",
    "    for i in range(len(p_m)):\n",
    "        p_vec = p_m.iloc[i,:]\n",
    "        p_size = mag(p_vec)\n",
    "        cos_sim.append(np.dot(p_vec, u_vec)/(p_size*u_size))\n",
    "        \n",
    "    return cos_sim"
   ]
  },
  {
   "cell_type": "code",
   "execution_count": 40,
   "metadata": {},
   "outputs": [],
   "source": [
    "def get_preferred_district(u_id):\n",
    "    user_survey_df = pd.read_csv('../data/survey_result.csv')\n",
    "    district = user_survey_df[user_survey_df['u_id'] == u_id]['District'].values[0]\n",
    "    return district.split(', ')"
   ]
  },
  {
   "cell_type": "code",
   "execution_count": 51,
   "metadata": {},
   "outputs": [],
   "source": [
    "def Search_Recommendable_Places(matrix, u_id):\n",
    "    dist_ls = get_preferred_district(u_id)\n",
    "    matrix.sort_values(by=['cbf'], ascending=False, inplace=True)\n",
    "    matrix.reset_index(inplace=True)\n",
    "    for i in range(0, len(matrix)):\n",
    "        try:\n",
    "            address = matrix['address'][i]\n",
    "            for j in dist_ls:\n",
    "                if j in address:\n",
    "                    return matrix['p_name'][i];\n",
    "        except:\n",
    "            pass"
   ]
  },
  {
   "cell_type": "code",
   "execution_count": 53,
   "metadata": {},
   "outputs": [],
   "source": [
    "def main():\n",
    "    u_id = input('Enter User ID: ')\n",
    "    go = Go_recommendation(u_id)\n",
    "    print(Search_Recommendable_Places(go, u_id))"
   ]
  },
  {
   "cell_type": "code",
   "execution_count": 54,
   "metadata": {},
   "outputs": [
    {
     "name": "stdout",
     "output_type": "stream",
     "text": [
      "Enter User ID: 쥬\n"
     ]
    },
    {
     "name": "stderr",
     "output_type": "stream",
     "text": [
      "/Users/ryeonju/miniconda3/envs/reco_base/lib/python3.6/site-packages/ipykernel_launcher.py:10: RuntimeWarning: invalid value encountered in double_scalars\n",
      "  # Remove the CWD from sys.path while we load stuff.\n"
     ]
    },
    {
     "name": "stdout",
     "output_type": "stream",
     "text": [
      "           cbf\n",
      "p_id          \n",
      "f239  0.274559\n",
      "b209       NaN\n",
      "e810  0.000000\n",
      "a211  0.341404\n",
      "b44   0.131585\n",
      "...        ...\n",
      "1482  0.218520\n",
      "1484  0.274702\n",
      "1485       NaN\n",
      "1500  0.249071\n",
      "1510  0.204560\n",
      "\n",
      "[1206 rows x 1 columns]\n",
      "Got Go - contents_based result\n",
      "에덴도자기\n"
     ]
    },
    {
     "name": "stderr",
     "output_type": "stream",
     "text": [
      "/Users/ryeonju/miniconda3/envs/reco_base/lib/python3.6/site-packages/ipykernel_launcher.py:18: SettingWithCopyWarning: \n",
      "A value is trying to be set on a copy of a slice from a DataFrame.\n",
      "Try using .loc[row_indexer,col_indexer] = value instead\n",
      "\n",
      "See the caveats in the documentation: https://pandas.pydata.org/pandas-docs/stable/user_guide/indexing.html#returning-a-view-versus-a-copy\n"
     ]
    }
   ],
   "source": [
    "main()"
   ]
  },
  {
   "cell_type": "code",
   "execution_count": null,
   "metadata": {},
   "outputs": [],
   "source": []
  }
 ],
 "metadata": {
  "kernelspec": {
   "display_name": "Python reco_base",
   "language": "python",
   "name": "my_env_name"
  },
  "language_info": {
   "codemirror_mode": {
    "name": "ipython",
    "version": 3
   },
   "file_extension": ".py",
   "mimetype": "text/x-python",
   "name": "python",
   "nbconvert_exporter": "python",
   "pygments_lexer": "ipython3",
   "version": "3.6.10"
  }
 },
 "nbformat": 4,
 "nbformat_minor": 4
}
