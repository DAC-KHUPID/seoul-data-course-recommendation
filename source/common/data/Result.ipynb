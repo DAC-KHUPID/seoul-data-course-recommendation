{
 "cells": [
  {
   "cell_type": "code",
   "execution_count": null,
   "metadata": {},
   "outputs": [],
   "source": [
    "#1.userID를 인풋으로 넣음\n",
    "#2.맛집, 데이트 명소, 영화 ncf_matrix에 user-id - place-id를 매칭하여 각각 row추가\n",
    "#3.ncf 결과 가져오기\n",
    "#4.contents-based result와 ncf_result를 곱해 최종 prediction이 높은 순서로 정렬\n",
    "#5.지역구 리스트 내에 있는 곳들을 loop로 돌며 통해 맛집,데이트 명소 모두 충족시키는 지역구가 있는 지역구와 장소를 선정\n"
   ]
  }
 ],
 "metadata": {
  "kernelspec": {
   "display_name": "Python reco_base",
   "language": "python",
   "name": "my_env_name"
  },
  "language_info": {
   "codemirror_mode": {
    "name": "ipython",
    "version": 3
   },
   "file_extension": ".py",
   "mimetype": "text/x-python",
   "name": "python",
   "nbconvert_exporter": "python",
   "pygments_lexer": "ipython3",
   "version": "3.6.10"
  }
 },
 "nbformat": 4,
 "nbformat_minor": 4
}
