{
 "cells": [
  {
   "cell_type": "code",
   "execution_count": 1,
   "metadata": {},
   "outputs": [],
   "source": [
    "import pandas as pd\n",
    "from pypapago import Translator\n",
    "from tqdm import tqdm\n",
    "import re"
   ]
  },
  {
   "cell_type": "code",
   "execution_count": 2,
   "metadata": {},
   "outputs": [],
   "source": [
    "file=pd.read_csv(\"movie_watcha_review.csv\", index_col=0)"
   ]
  },
  {
   "cell_type": "code",
   "execution_count": 3,
   "metadata": {},
   "outputs": [
    {
     "name": "stderr",
     "output_type": "stream",
     "text": [
      "  1%|          | 324/29683 [03:32<4:12:57,  1.93it/s]"
     ]
    },
    {
     "name": "stdout",
     "output_type": "stream",
     "text": [
      "323\n"
     ]
    },
    {
     "name": "stderr",
     "output_type": "stream",
     "text": [
      "  4%|▎         | 1101/29683 [13:00<6:39:50,  1.19it/s]"
     ]
    },
    {
     "name": "stdout",
     "output_type": "stream",
     "text": [
      "1100\n"
     ]
    },
    {
     "name": "stderr",
     "output_type": "stream",
     "text": [
      "  4%|▎         | 1107/29683 [13:09<7:04:18,  1.12it/s] "
     ]
    },
    {
     "name": "stdout",
     "output_type": "stream",
     "text": [
      "1106\n"
     ]
    },
    {
     "name": "stderr",
     "output_type": "stream",
     "text": [
      "  4%|▍         | 1124/29683 [13:26<5:18:46,  1.49it/s] "
     ]
    },
    {
     "name": "stdout",
     "output_type": "stream",
     "text": [
      "1123\n"
     ]
    },
    {
     "name": "stderr",
     "output_type": "stream",
     "text": [
      "  4%|▍         | 1135/29683 [13:36<5:50:31,  1.36it/s]"
     ]
    },
    {
     "name": "stdout",
     "output_type": "stream",
     "text": [
      "1134\n"
     ]
    },
    {
     "name": "stderr",
     "output_type": "stream",
     "text": [
      "  5%|▍         | 1368/29683 [16:53<6:14:34,  1.26it/s] "
     ]
    },
    {
     "name": "stdout",
     "output_type": "stream",
     "text": [
      "1367\n"
     ]
    },
    {
     "name": "stderr",
     "output_type": "stream",
     "text": [
      "  5%|▍         | 1370/29683 [16:54<5:06:37,  1.54it/s]"
     ]
    },
    {
     "name": "stdout",
     "output_type": "stream",
     "text": [
      "1369\n"
     ]
    },
    {
     "name": "stderr",
     "output_type": "stream",
     "text": [
      "  5%|▍         | 1408/29683 [17:33<4:50:34,  1.62it/s] "
     ]
    },
    {
     "name": "stdout",
     "output_type": "stream",
     "text": [
      "1407\n"
     ]
    },
    {
     "name": "stderr",
     "output_type": "stream",
     "text": [
      "  5%|▍         | 1481/29683 [18:32<5:29:27,  1.43it/s] "
     ]
    },
    {
     "name": "stdout",
     "output_type": "stream",
     "text": [
      "1480\n"
     ]
    },
    {
     "name": "stderr",
     "output_type": "stream",
     "text": [
      " 11%|█         | 3166/29683 [37:15<4:25:47,  1.66it/s] "
     ]
    },
    {
     "name": "stdout",
     "output_type": "stream",
     "text": [
      "3165\n"
     ]
    },
    {
     "name": "stderr",
     "output_type": "stream",
     "text": [
      " 11%|█         | 3168/29683 [37:16<3:35:15,  2.05it/s]"
     ]
    },
    {
     "name": "stdout",
     "output_type": "stream",
     "text": [
      "3167\n"
     ]
    },
    {
     "name": "stderr",
     "output_type": "stream",
     "text": [
      " 11%|█         | 3173/29683 [37:27<13:16:00,  1.80s/it]"
     ]
    },
    {
     "name": "stdout",
     "output_type": "stream",
     "text": [
      "3172\n"
     ]
    },
    {
     "name": "stderr",
     "output_type": "stream",
     "text": [
      " 15%|█▌        | 4468/29683 [52:41<6:09:59,  1.14it/s] "
     ]
    },
    {
     "name": "stdout",
     "output_type": "stream",
     "text": [
      "4468\n"
     ]
    },
    {
     "name": "stderr",
     "output_type": "stream",
     "text": [
      " 16%|█▌        | 4817/29683 [56:46<6:14:31,  1.11it/s]"
     ]
    },
    {
     "name": "stdout",
     "output_type": "stream",
     "text": [
      "4817\n"
     ]
    },
    {
     "name": "stderr",
     "output_type": "stream",
     "text": [
      " 21%|██        | 6099/29683 [1:11:06<3:13:42,  2.03it/s] "
     ]
    },
    {
     "name": "stdout",
     "output_type": "stream",
     "text": [
      "6098\n"
     ]
    },
    {
     "name": "stderr",
     "output_type": "stream",
     "text": [
      " 21%|██        | 6265/29683 [1:13:05<3:52:30,  1.68it/s]"
     ]
    },
    {
     "name": "stdout",
     "output_type": "stream",
     "text": [
      "6264\n"
     ]
    },
    {
     "name": "stderr",
     "output_type": "stream",
     "text": [
      " 24%|██▎       | 7021/29683 [1:21:40<4:49:42,  1.30it/s]"
     ]
    },
    {
     "name": "stdout",
     "output_type": "stream",
     "text": [
      "7020\n"
     ]
    },
    {
     "name": "stderr",
     "output_type": "stream",
     "text": [
      " 25%|██▍       | 7335/29683 [1:25:21<3:53:14,  1.60it/s] "
     ]
    },
    {
     "name": "stdout",
     "output_type": "stream",
     "text": [
      "7334\n"
     ]
    },
    {
     "name": "stderr",
     "output_type": "stream",
     "text": [
      " 29%|██▊       | 8498/29683 [1:37:43<2:49:51,  2.08it/s] "
     ]
    },
    {
     "name": "stdout",
     "output_type": "stream",
     "text": [
      "8497\n"
     ]
    },
    {
     "name": "stderr",
     "output_type": "stream",
     "text": [
      " 31%|███▏      | 9347/29683 [1:46:51<5:47:43,  1.03s/it]"
     ]
    },
    {
     "name": "stdout",
     "output_type": "stream",
     "text": [
      "9347\n"
     ]
    },
    {
     "name": "stderr",
     "output_type": "stream",
     "text": [
      " 34%|███▎      | 10007/29683 [1:53:51<3:05:04,  1.77it/s]"
     ]
    },
    {
     "name": "stdout",
     "output_type": "stream",
     "text": [
      "10006\n"
     ]
    },
    {
     "name": "stderr",
     "output_type": "stream",
     "text": [
      " 39%|███▊      | 11442/29683 [2:10:19<4:21:30,  1.16it/s] "
     ]
    },
    {
     "name": "stdout",
     "output_type": "stream",
     "text": [
      "11442\n"
     ]
    },
    {
     "name": "stderr",
     "output_type": "stream",
     "text": [
      " 40%|████      | 12005/29683 [2:16:33<3:52:46,  1.27it/s]"
     ]
    },
    {
     "name": "stdout",
     "output_type": "stream",
     "text": [
      "12004\n"
     ]
    },
    {
     "name": "stderr",
     "output_type": "stream",
     "text": [
      " 42%|████▏     | 12615/29683 [2:22:37<2:08:32,  2.21it/s]"
     ]
    },
    {
     "name": "stdout",
     "output_type": "stream",
     "text": [
      "12614\n"
     ]
    },
    {
     "name": "stderr",
     "output_type": "stream",
     "text": [
      " 46%|████▌     | 13532/29683 [2:31:59<1:26:02,  3.13it/s]"
     ]
    },
    {
     "name": "stdout",
     "output_type": "stream",
     "text": [
      "13532\n"
     ]
    },
    {
     "name": "stderr",
     "output_type": "stream",
     "text": [
      " 46%|████▌     | 13616/29683 [2:32:50<3:48:27,  1.17it/s]"
     ]
    },
    {
     "name": "stdout",
     "output_type": "stream",
     "text": [
      "13616\n"
     ]
    },
    {
     "name": "stderr",
     "output_type": "stream",
     "text": [
      " 47%|████▋     | 13953/29683 [2:35:55<8:40:07,  1.98s/it]"
     ]
    },
    {
     "name": "stdout",
     "output_type": "stream",
     "text": [
      "13952\n"
     ]
    },
    {
     "name": "stderr",
     "output_type": "stream",
     "text": [
      " 49%|████▉     | 14610/29683 [2:42:09<1:54:42,  2.19it/s]"
     ]
    },
    {
     "name": "stdout",
     "output_type": "stream",
     "text": [
      "14610\n"
     ]
    },
    {
     "name": "stderr",
     "output_type": "stream",
     "text": [
      " 50%|████▉     | 14771/29683 [2:43:30<1:33:18,  2.66it/s]"
     ]
    },
    {
     "name": "stdout",
     "output_type": "stream",
     "text": [
      "14771\n"
     ]
    },
    {
     "name": "stderr",
     "output_type": "stream",
     "text": [
      " 50%|█████     | 14893/29683 [2:44:38<2:53:55,  1.42it/s]"
     ]
    },
    {
     "name": "stdout",
     "output_type": "stream",
     "text": [
      "14893\n"
     ]
    },
    {
     "name": "stderr",
     "output_type": "stream",
     "text": [
      " 51%|█████▏    | 15214/29683 [2:47:45<1:36:25,  2.50it/s]"
     ]
    },
    {
     "name": "stdout",
     "output_type": "stream",
     "text": [
      "15214\n"
     ]
    },
    {
     "name": "stderr",
     "output_type": "stream",
     "text": [
      " 53%|█████▎    | 15681/29683 [2:51:51<1:53:44,  2.05it/s]"
     ]
    },
    {
     "name": "stdout",
     "output_type": "stream",
     "text": [
      "15681\n"
     ]
    },
    {
     "name": "stderr",
     "output_type": "stream",
     "text": [
      " 55%|█████▍    | 16273/29683 [2:57:10<1:07:29,  3.31it/s]"
     ]
    },
    {
     "name": "stdout",
     "output_type": "stream",
     "text": [
      "16271\n"
     ]
    },
    {
     "name": "stderr",
     "output_type": "stream",
     "text": [
      " 55%|█████▍    | 16288/29683 [2:57:16<1:18:25,  2.85it/s]"
     ]
    },
    {
     "name": "stdout",
     "output_type": "stream",
     "text": [
      "16288\n"
     ]
    },
    {
     "name": "stderr",
     "output_type": "stream",
     "text": [
      " 58%|█████▊    | 17308/29683 [3:06:10<1:57:31,  1.76it/s]"
     ]
    },
    {
     "name": "stdout",
     "output_type": "stream",
     "text": [
      "17308\n"
     ]
    },
    {
     "name": "stderr",
     "output_type": "stream",
     "text": [
      " 61%|██████    | 18052/29683 [3:13:28<2:10:24,  1.49it/s]"
     ]
    },
    {
     "name": "stdout",
     "output_type": "stream",
     "text": [
      "18052\n"
     ]
    },
    {
     "name": "stderr",
     "output_type": "stream",
     "text": [
      " 62%|██████▏   | 18299/29683 [3:15:47<1:48:22,  1.75it/s]"
     ]
    },
    {
     "name": "stdout",
     "output_type": "stream",
     "text": [
      "18299\n"
     ]
    },
    {
     "name": "stderr",
     "output_type": "stream",
     "text": [
      " 62%|██████▏   | 18508/29683 [3:17:27<1:30:53,  2.05it/s]"
     ]
    },
    {
     "name": "stdout",
     "output_type": "stream",
     "text": [
      "18508\n"
     ]
    },
    {
     "name": "stderr",
     "output_type": "stream",
     "text": [
      " 63%|██████▎   | 18737/29683 [3:19:09<1:16:42,  2.38it/s]"
     ]
    },
    {
     "name": "stdout",
     "output_type": "stream",
     "text": [
      "18737\n"
     ]
    },
    {
     "name": "stderr",
     "output_type": "stream",
     "text": [
      " 63%|██████▎   | 18814/29683 [3:19:57<1:39:39,  1.82it/s]"
     ]
    },
    {
     "name": "stdout",
     "output_type": "stream",
     "text": [
      "18814\n"
     ]
    },
    {
     "name": "stderr",
     "output_type": "stream",
     "text": [
      " 64%|██████▍   | 19065/29683 [3:22:23<1:24:44,  2.09it/s]"
     ]
    },
    {
     "name": "stdout",
     "output_type": "stream",
     "text": [
      "19065\n"
     ]
    },
    {
     "name": "stderr",
     "output_type": "stream",
     "text": [
      " 65%|██████▌   | 19439/29683 [3:25:55<1:07:32,  2.53it/s]"
     ]
    },
    {
     "name": "stdout",
     "output_type": "stream",
     "text": [
      "19438\n"
     ]
    },
    {
     "name": "stderr",
     "output_type": "stream",
     "text": [
      " 66%|██████▋   | 19670/29683 [3:27:53<1:27:11,  1.91it/s]"
     ]
    },
    {
     "name": "stdout",
     "output_type": "stream",
     "text": [
      "19670\n"
     ]
    },
    {
     "name": "stderr",
     "output_type": "stream",
     "text": [
      " 80%|███████▉  | 23717/29683 [4:03:50<57:57,  1.72it/s]  "
     ]
    },
    {
     "name": "stdout",
     "output_type": "stream",
     "text": [
      "23717\n"
     ]
    },
    {
     "name": "stderr",
     "output_type": "stream",
     "text": [
      " 80%|███████▉  | 23744/29683 [4:04:04<50:29,  1.96it/s]  "
     ]
    },
    {
     "name": "stdout",
     "output_type": "stream",
     "text": [
      "23744\n"
     ]
    },
    {
     "name": "stderr",
     "output_type": "stream",
     "text": [
      "100%|█████████▉| 29641/29683 [4:56:42<00:24,  1.69it/s]  "
     ]
    },
    {
     "name": "stdout",
     "output_type": "stream",
     "text": [
      "29641\n"
     ]
    },
    {
     "name": "stderr",
     "output_type": "stream",
     "text": [
      "100%|██████████| 29683/29683 [4:57:03<00:00,  1.67it/s]\n"
     ]
    }
   ],
   "source": [
    "en_review=[]\n",
    "error_list=[]\n",
    "ts = Translator()\n",
    "for i in tqdm(range(len(file))):\n",
    "    try:\n",
    "        raw=file.iloc[i,4]\n",
    "        raw=raw.replace(\"\\n\",'').replace(\"\\r\",'')\n",
    "        text = re.sub('[-=+,#/\\?:^$.@*\\\"※~&%ㆍ!』\\\\‘|\\(\\)\\[\\]\\<\\>`\\'…》]', ' ', raw)\n",
    "        en_review.append(ts.translate(text, source='ko', target='en', verbose=False))\n",
    "    except:\n",
    "        print(i)\n",
    "        error_list.append(i)\n",
    "        en_review.append(\"여기\")"
   ]
  },
  {
   "cell_type": "code",
   "execution_count": 5,
   "metadata": {},
   "outputs": [
    {
     "data": {
      "text/plain": [
       "['an outstanding masterpiece',\n",
       " 'a really nice movie about two people drifting in the huge framework of society.',\n",
       " 'I really want to tell you that this is one of the best performances of Jung Jae-young. At the end of a fresh work that talks about the disconnection of relationships and communication in real society, everyone seems to want to eat jajangmyeon.',\n",
       " 'I like movies like this. The director must be a warm person.',\n",
       " 'The most difficult thing in this movie is the poster.',\n",
       " \"Jung Jae-young isn't the only Kim. It's a scene where Jeong Ryeo-won, Kim, Kim, Kim, and Kim meet each other while drifting in society and see hope in the price of the hopeful consumer.\",\n",
       " 'Where better a hopeless city and a hopeful uninhabited island to live?',\n",
       " \"a masterpiece that breaks the mold of Chungmuro's typical comedy with wit, lingering feelings, message, and no forced emotion.\",\n",
       " \"be good at solving messages If this is the case, it's polite not to reveal the weak points.\",\n",
       " 'I sincerely repent for the many moments of arrogance and self-righteousness that have reflected on my past life and rejected jajangmyeon.',\n",
       " 'Who are you? If we have our goals and hopes in the drift, it will no longer be a voyage with a direction, not a drift.',\n",
       " \"I thought it was a strange movie when I was in middle school, but today, six years later, I watched it again and cried.Who hasn't tried to hide behind his back? Words are lovely.\",\n",
       " \"I feel like I've seen one well-made and one plain piece after another.\",\n",
       " \"Living does not make sense and drift away.Even if you touch it, it's drifting.If you were to stay in a flowing place, you could barely live with vain hope, and resentment is even more difficult.\",\n",
       " \"Why do you think it's a good idea to live in a deserted house lol\",\n",
       " 'Communication to grow the inner side of solitude suturing wounds. An uninhabited island becoming an archipelago through the communication of ugly ducklings.',\n",
       " 'a humorous and meaningful portrayal of the dark subject of suicide and hermit-type loners, pleasantly guiding the meaning of hope and the process of approaching it to modern people living in isolation on their own islands.',\n",
       " 'The vice-principal created by the break-up found hope through this strange communication.',\n",
       " 'From Driving to Sailing in a Quirky indie esque comedy for those who live to enjoy the little happiness that everyone else enjoys.',\n",
       " \"I ask you, don't kick the briquettes at all. After seeing who was hot, I ask you, Ando-hyun. That phrase suddenly popped up in my mind. After I got the escape from Jjajangmyeon Island that I made myself, I feel empty.\",\n",
       " 'From HELP to HELLO from Desired Retail Price to Hope',\n",
       " 'A masterpiece and a masterpiece that fails to see the hope of a drifting Korean film.',\n",
       " 'The hair color of the Kim woman was caught in my eye. The new black hair was coming out and the hair dye was way down.  She would have dyed her hair in the past, what kind of facial expression was she wearing at the salon, how long did she not go out of the house when she saw a lot of black hair coming down? What was she doing outside when her hair was yellow?',\n",
       " 'The moment the siren sounded, even the air felt warm.',\n",
       " 'Best Healing Movie of My Life',\n",
       " 'The most important reason is that the last name Kim is Kim, not the flag bearer of Park, is to show the appearance of all modern people who live in a busy and cold life. Both voluntary drifting men Kim and female Kim chose voluntary drift.  Mr. Kim chooses to avoid escape and live on Bamseom Island.  The woman, Mr. Kim, adrift in her room.  His room is Earth, and the rest is outer space. A man named Kim makes jjajangmyeon and cries while making and eating jjajangmyeon. He made hope that there was no hope in the world at Bamseom Island.  The nickname \"Dolores,\" which was used on the Internet by a woman named Kim, means sorrowful sorrow and sorrow. It seems to symbolize the character of Kim, who stole other people\\'s photos and drew attention by stealing other people\\'s attention.  The biggest problem with Kim is the problem of identity confusion. She pretends to be someone else on the cyber and communicates with Kim. She communicates well for a long time, but when asked \"Who Are You,\" she avoids the conversation.  This question is unanswerable to Kim, a woman who has only lived as a fictitious creature.  The importance of communication Mr. Kim feels hope when he sees the message in Mrs. Kim\\'s illness.  Kim, a woman, comes out of the room for the first time to see a man Kim planting corn, talks to his mother, and plants corn in a can. A woman who was afraid to reveal her identity eventually takes courage to meet a man and reveal her name.  I feel the hope of living in my real name.  In the end, modern people living in extreme loneliness can make the world a place to live if they desperately communicate and try to reveal each other\\'s existence like the two Kims.',\n",
       " \"I couldn't laugh as I watched the process of steadily extracting the hopes of a man who was seriously overwhelmed by the misery of looking at himself so weak in a repressed society.  Is it possible that we are drifting alone on a remote island? 1 The escape is not necessarily wrong. The responsibility of living life is not inevitable every time. Sometimes I want to give up my hard and tired life.  You don't have to face it when you don't have the strength to stand on your own feet anymore.  In that case, escape is cited.  Sometimes the weak act of escape turns despair into hope, so the process of men Kim Jung Jae-young and women Kim Jung Ryeo-won was a bit messy, but as a result, the hopes they gained are very precious. 2 Social rejection is so important.                                                       The way I looked down on them was a little exaggerated, but I could fully sympathize with them.  The strange bond created by men and women who reject society and reject society on their own is as sentimental as the movie's unique feeling, as the movie's best scene, 🎥 1 afterimage, all of which are faced with each other, as society first acts strangely and distantly. As people than I thought carry the weight of the trials to be easily spent force, very heavy. Kim's men swim ashore and when the state of mind is hard to live on the world to give up. However, drowned last come to mind pain when the brink of drowning by harsh social be a strong game enough to compete in the future.Black-bean-sauce noodles, and chicken 🐦 and two grilled fish, 🐟 jjajang noodle dinner, soon after.Sizzle at a food and a eating broadcasts to God a number of works of Jung Jae-young.My mouth was watering as if it had stimulated my taste buds. It must not taste as good as usual, but I was quickly immersed in the character and the stimuli of visual x auditory imagery were also strong.                                                                                                   The scene in which a woman refuses Kim's favor and craves for her chosen hope is like jajangmyeon, which is not just a message that she can't easily cross hope and that she can't give up, but that she wants to keep her eternal expectations.\",\n",
       " \"It's nice to see a warm movie. It's very calm, but it's good to see  It's a shame that many people don't know this good movie because of the poster and title that seems to be nothing special.\",\n",
       " 'I love the narration of two actors who locked themselves up in a bowl of jajangmyeon.',\n",
       " \"There's no place you can't go to Jjajangmyeon.\",\n",
       " 'I thought it was just a comedy movie, but I laughed and cried at the end because it was such a warm and emotional movie.In HELP, the process of changing from communication despair to hope is warmly approached and comforted.After watching the movie, I want to eat jajangmyeon at dawn.',\n",
       " 'Can you affirm that you are not drifting?',\n",
       " 'A land that is not lonely because there is no one in the world who shouts and turns around.',\n",
       " 'A film for the useless and useless.',\n",
       " 'I should have seen it with just as much concentration as the poster.  Although the relationship and self-establishment in social disconnection were neither touching nor powerful ending, it was good because the Korean satire was well permeated.',\n",
       " \"I don't feel lonely because there's no one in the movie that shows me how I live, not how people look at me.\",\n",
       " 'The movie that I hoped would make the two main characters happy after the movie.',\n",
       " \"Actor Jung Jae-young did this kind of acting. Ha Ok-soo jjajangmyeon. If he achieves his hope with that kind of effort, I think he would look like that's what he would look like.\",\n",
       " 'Reality was a question mark, but it was meaningful enough that a person really had a role as a person when there was something that needed him or her.',\n",
       " 'A consolation song for the sad losers, but it is more beautiful and hopeful.',\n",
       " \"Black bean noodles are hope.  Two men and women drifting in their respective worlds learn to communicate with each other, although the theme is different, it was Robinson Crusoe's adrift on Bamseom Island in Seoul, which was devalued at the time of its release.  P S 1 Hikikomori Jeong Ryeo-won is reminiscent of Aoi Youuu, who appeared in the film directed by Bong Joon-ho of Omnibus Tokyo Tokyo Tokyo 2008. 2 ET 1992 and Cast Away 2000 Omage scenes are fun.  Wilson 3 son paused while watching the movie and ate Sacheon Chapagetti 4 English is also an official language of the world. His son will watch the movie for the first time.\",\n",
       " \"For those who disapproved that civil defense training was the background of the meeting, it would be fair to say that it was a moment of stark distinction between those who followed control and those who did not. And anyway, I don't think such romantic, beautiful and touching scenes are common.\",\n",
       " \"Foster's Anti\",\n",
       " 'There is an island between man and man.',\n",
       " 'drifting on the island of Bam, drifting in society, from there to there, to the countless Kims of our time.',\n",
       " \"How many people can understand this movie? If you think it's a unique story of individuals, you've only seen half the movie. If you want to know what gas lighting is, sometimes violence against women begins without a sound.\",\n",
       " 'Guys, the guy who hits you is so ugly.',\n",
       " \"It's hard to watch because all the actresses have similar faces. If you miss the beginning of the movie, it's hard to watch.  I want you to focus on the beginning.\",\n",
       " \"In some cases, movies based on the novel are slow to progress or worse to produce than books. This movie is slow to progress, but the production fills it up. By the way, it's been a long time since I've seen a scumbag character.\",\n",
       " \"If you look at the mental abuse you're doing to an eternal truth spouse that makes you shed tears of blood, you'll naturally dream of a non-marriage, the best of which is gaslighting.\",\n",
       " \"Emily Blunt's struggles in a development pretending to be a psychological thriller.\",\n",
       " \"Emily Blunt's acting is breathtaking. the most female-viewed film I've seen recently.\",\n",
       " 'It seems like a list of processes solely for the ending, not just for the ending 😭😭',\n",
       " 'Their lives, watching over the car windows, get off the comic train and their lives watching from the side are tragic.',\n",
       " \"The way the story unfolds was a bit crude, and the past and the present frequently come and go.  But I first realized Emily Blunt was so good at acting. The detailed emotional acting made me focus on the movie. The camera and the production made the movie more interesting. You seem to be able to control your calmness and tension, but you're weaker than you are to find me.\",\n",
       " 'The fear of distorted facts. Personally, I think it was a movie with a strong suction power. A movie that is interesting and fun to watch in a stable home, home and baby, and a distorted story, which is the dream and realistic desire of women.',\n",
       " 'The bitter smell of alcohol in the cold, soggy night, like the slow spread of the clear early morning air.',\n",
       " \"As expected, if you had bought the book with the excuse that you were busy because the original book was stuck in the bookshelf, stop reading it. But the evaluation was not that good, so it was just normal. I realized for sure how cruel and scary gas lighting was, and Emily Blunt's alcoholism performance, which was so refreshing that she loved the ending of her life, was a bit of a cliche. Like I've always been.\",\n",
       " 'I like the sense of immersion in the beginning. In the middle and the latter half, the lines flow without the background sound of the original novel, so I can feel the thrill of the oriental medicine at the end and the music that flows from then to the ending credits. The successful movie that I want to watch the original movie.',\n",
       " \"If you're curious about the ending of the good thriller 1, I think it's a good one. If the main character gets to cheer for him, he's got both of these. It's an important check for Tate Taylor.\",\n",
       " \"The movie is boring, but the meaning of the message is touching. There is a person who wants to curse, but if I write more, I get angry because I can't write a spoiler.\",\n",
       " \"ᅮ From start to finish, it's just boring\",\n",
       " 'What was more unbearable than verbal and psychological violence was that when the heroine tried to stand up in the midst of the devastation to tell the truth, no one was on her side, no one was on her side, no one listened to her, no one was lying, and everyone was pushing her to lie, which is even greater violence.  Therefore, one should not judge a person or a situation just by looking at it.  How can I not be the woman on that train?',\n",
       " \"It's not that funny. It's just that I don't feel good about the actors and actresses. Three actresses are pretty. I don't know what to do when I'much.\",\n",
       " 'I thought you were in a hurry to find me, but this is why I have to stop drinking.',\n",
       " 'great directing performances that fit the genre of the gray story without boring rather than a great feat.',\n",
       " \"Emily Blunt expressed an alcoholic well.  It's a relief that the last justice and the happy ending are realized.\",\n",
       " \"the unpleasantness of seeing the victim's guilt in relationships that trampled on self-esteem, and the unwitting shame of the assailant who used it as a double portion to strengthen the subordination.\",\n",
       " \"There's not enough intensity to find me, but I'm impressed by Emily Blunt's performance, which has made me quite suspicious.\",\n",
       " 'The meaning and contrast of train, house and counseling space are impressive Lotte Cinema Tongyeong 1420',\n",
       " 'The hostess was so stuffy when she was drunk or sober.  You\\'d better watch \"Find Me\" one more time.',\n",
       " 'Angcco-free steamed bun suspense and thrill-free thriller',\n",
       " \"If I hadn't made a movie just for the ending,\",\n",
       " 'Tom is more uncomfortable than the movies where the wretched psychopaths serial murder.',\n",
       " 'I translated a best-selling novel into a movie. In the British and American regions, the novel seems to have been a smash hit, but the only noteworthy feature is that depression permeates the skin, and it feels like returning home alone on a late evening in November when it rains and alcohol-holic and depression-free.',\n",
       " \"Thanks to the unexpected twist and Emily Blunt's performance, it was worth seeing.\",\n",
       " 'Although all the actresses perform brilliantly, deeply digging and weaving into three women with family scars and worries, and decorating the hood with unstable speakers, I feel sorry for the predictable early ending and feeble male characters.',\n",
       " 'a chic thriller that bowls McGuffin for a twist.',\n",
       " 'Emily Blunt, the most sincere alcoholic, was horrified by the pure and fierce mirror of anger.',\n",
       " 'The overall atmosphere and immersion of Mugunghwa-ho was sufficient for the first class performance.',\n",
       " 'a dull mystery created by somber and dreary characters.',\n",
       " 'It\\'s a bit disappointing to see a plot that isn\\'t as dense as Tate Taylor\\'s previous film \"Help 2011,\" which deals with black human rights, but it\\'s somewhat rewarded by Emily Blunt\\'s performance.   2017 3 12 Appreciation',\n",
       " 'Emily Blunt\\'s performance was good, though it seemed to be in line with the twist thriller, \"Find Me\" and \"Find Me.\"',\n",
       " \"It's not easy to keep up with the story. The relationships between the characters are twisted and the stories between them are a bit complicated and complicated at the same time. The story is a thriller, but rather quiet and calm, and boring, but in the second half of the story, it becomes interesting and unexpected.  In the end, the assailant's story of how he uses violence against his victims, and because of one of the worst men in the world who lowers his opponent's self-esteem, makes him lethargic, and gives in.\",\n",
       " \"I'm not good at squeezing things out when I'm not good at it.\",\n",
       " 'More than anything else, the moment you doubt yourself, it becomes dangerous.',\n",
       " 'Be careful of your drinking, be careful of your bottom.',\n",
       " \"As you can see from the title, women's position thriller is a crime, and you can just go.\",\n",
       " \"cling to one's past passing out of the car window leaning against the glass window The truth is that I live far away from my old neighborhood, but now I live far away from the rising and falling waters of the year, but the imagination of the author's thriller style is well directed. Megan, played by Haley Bennett, seems to be somewhat of a female consumerist in terms of the movie.  Shaking with everyone's psychology, I followed them with great strength, but I'm sorry about the mishap of falling on the root of the stone.\",\n",
       " 'A well-made thriller is as important as a story-telling process.  If you play basketball, not only the spectacular crossover dribble, but also the weakness of the train, which took almost a month to shoot, is not visible when the production ability until the middle part of the story is settled. You can enjoy it too easily and stably, but it is not outstanding.',\n",
       " \"I was ashamed of the movie's social calling, but for the first time, I could truly feel the current situation in Greece.a couple who don't even have a second chance, a couple who turns away, and a couple who catches.\",\n",
       " \"We look different, but we look the same when we love each other. It was refreshing because it was the first love story with Greek political situation, although it wasn't the romantic feeling of Greece that only saw the poster and the title.  🥰\",\n",
       " 'The human consciousness of love that can make all these things understood by politics, religion, race, rich and poor. But how can the Korean title be?',\n",
       " 'Where the story of Eros and Psyche resides, there was still love.  And there was a heavier reality.',\n",
       " 'If I had Daniel Blake in 2016, 2017 would be my love Greece, of course, but if I had expected a sweet romance based on a domestic release, I might be surprised by the realistic and heavy content, but I put a serious romantic and philosophical review of love on top of it. After the movie is over, I start to think again about what each subtitle means.  By the way, the poster is so sweet that I\\'m beginning to feel like I\\'m in a movie like \"I Love New York.\"',\n",
       " 'Greece is collapsing for many reasons, and the families that make up the country are collapsing together. The Greeks longed for overcoming the crisis through love.',\n",
       " \"My professor Fletcher has changed. There's no shouting at Andrew, and there's only Sebastian left. Simmons Ong, who's been reborn as a professional lover, should've seen him on April 29th, but he couldn't cancel his reservation because he fell asleep after taking medicine for a cold, and he just lost his money. I was just trying to pass it over, but it was like a poster. The director's production was definitely outstanding in that it was not boring, even though the material could be cliche in terms of the epi, the scene in which the relationship between the seemingly unrelated people was revealed at once.\",\n",
       " 'The love that comes first, the love that stays in the middle of the body, the love that fills the heart, and the love that fills the heart, cannot let it go, so it faces something lost.  1810 24 1235',\n",
       " 'And furthermore, love for the world.',\n",
       " \"At the intersection of three complex stories, like 21 grams of three different love stories in a world of tragedy in Greece's economic crisis and refugee crisis, the greatness of love is emphasized, leaving a lingering impression as a climax of the tragic growth hope.\",\n",
       " \"It's not too late.  You're enough to have a second chance.\",\n",
       " 'Ironically, when love blossomed the most was the wartime and economic crisis, when humans who swam in the sea of boredom and lethargy always found the buoyant sign of love.',\n",
       " \"Director BIFF 21st, fulfilling the artist's mission when attention is needed, not the answer.\",\n",
       " \"In the end, the theme of the return to the classic value of love was good, but the way the story was told was a little cliche and boring.  Eros is far from realistic, expressive, and insightful enough to have a universal love with only his lover's love. He gave me another chance to think about the current troubled international situation, but it is regrettable that he limited the solution to his personal love, but I would like to praise him for his clear message that he wants to convey based on difficult topics.\",\n",
       " \"In 2011, I went to Greece, where I wanted to go since I was a kid. Greece was a fertile and hot city, and when the blue Mediterranean horizon, which can't be seen from the Greek island, was tinted with pink sunset, I could see why people here have made such a myth and why they have become great people who have influenced culture around the world.  It was so warm and beautiful that I thought it wouldn't be strange if the gods lived here.  At that time, the Greek economy was already collapsing, and I hoped that pain would not come to such a beautiful place.   To the extent that the playful analogy of life being a war is overshadowed by the playful analogy of real war and catastrophe, the suffering of the second and third people on Earth, blaming external immigrants for the toughness of reality and planting Genopovia to separate the world, I hope there will be a minimum of respect for human rights pushed and chased by their own choices, even though the key is unquestionably simple, but love.  As the fruits of Psyche and Eros mythology suggest, love has long been the greatest joy human beings can have in the midst of external disorders and suffering.  There are a lot of obvious and childish old-fashioned angles and developments, but it's a movie that expresses the temperature and five senses of love between eyes, touch, and love. Korea has a reputation as a poster terrorist country, but it's a little different from the domestic poster who pretends to be an omnibus romanticist, but it's not because the marketers are sincere, but because they want to sell it well, more people are afraid of their families.\",\n",
       " \"We're all different people, but we look the same when we fall in love.  Against the backdrop of the grim reality of the economic situation affecting each other's situation, the focus is on the effort or willingness to love rather than the love itself. Abnormal love that commits an affair is, in other words, the downfall of an individual who is sick in this movie.  I think that love and separation and second chance mean the hope that Greece should have.  A movie for those who need love that can touch their hurt heart, not just happy love.\",\n",
       " 'The problem of love is the problem of politics and the problem of politics is the problem of love  They never play, but they seem to be one body, but they are one body, showing clearly the current situation of fascism in Europe, which is at the opposite point of love, and the image of Korea in globalization comes to mind again amid constant restructuring and the whirlpool of extreme right.',\n",
       " 'Not all the places where Greek situation and love are intertwined are understood, but not everyone is understood. There is a lot of desire to produce drama, and the beginning that seems to be the end is repeated. The difficult situation always tightens us as if nothing can be done, but the love that will shake our love like hope is blooming somewhere, and three of them are here.',\n",
       " 'The movie is not just about love because it depicts people suffering from the current situation in Greece.  So the title of the movie was really bad.',\n",
       " 'When I saw the poster of the current Greek movie, I thought it would be similar to \"I Love New York Love Paris Love Actually Valentine\\'s Day,\" which is different from the movies mentioned above. It is an omnibus-style movie with a wide spectrum of love between men and women in their 20s and 40s and 60s.  The film\\'s director Christopher Papacallatis appears as the main character in the second story, 50 mg of Los Angeles and Daphne Roséft, a Greek man with 50 mg depression, and Giogo, a Greek man with 50 mg depression and Elyse Second Chance, a Swedish woman, and Sebastian and a Greek woman with depression, who one day suffered from the nation\\'s fault, and his life suffered from the burden of debt. Because I can\\'t help but think that I can be.  Nevertheless, it is love in many forms that supports the reality.  Ch How to communicate with others in different languages Second Chance, the third subtitle of the movie, contains a message that represents the entire movie. The couple that appear uses different languages and the movie reveals various opinions and expressions of different people when it finds solutions to problem recognition when communicating in different languages, and throws national awareness of Greece and Italy, where the entire nation suffers from excessive national debt for the migration of ordinary people to the European Union and the rest of the world, and in a positive way, it can have a second chance of violence against the present nation, but in a negative way.will be th  Love for men and women, love for the family, love for the country as a whole. The great thing about the beginning of the movie is that JK Simmons, who plays Sebastian, says everything starts with love.  The story of Eros and Psyche, the main characters of Greek mythology, goes very well with the unique culture of actors and Greeks in the first half of the movie 🖌 BIBIANE S TALK. We yearn for love and want to end with love. The movie posters and phrases touched a lot. We all look different but the same when we fall in love.',\n",
       " 'Unlike the title, I want to be with you for a long time, JK Simmons. He is a strong and gentle actor. He is very impressive. He is a very impressive actor.',\n",
       " \"Love is the power to live without losing hope in this war-like reality, as well as Greece, but love before it's too late.\",\n",
       " \"In the social chaos and crisis facing Greece, I feel like I've read a book that is never light, which contains the sacrifice of love in my 20s, 40s and 60s, the comfort and courage that love pays, the fear of reality, the pain, and the philosophy of life that they have to endure.\",\n",
       " \"I thought it was a sweet movie that made me want to go on a trip to Greece and fall in love, but it was a profound movie that went through the entire political and social philosophy classics and re-established the idea and attitude of love. If anyone said they didn't know what love was, I wouldn't hesitate to recommend this movie.\",\n",
       " 'The classic message that hatred returns to hatred and salvation comes from love was quite resonating.',\n",
       " 'The cruel reality that I turned a blind eye to not being my reality is horribly holding me.',\n",
       " \"I know the message that the power of love that has always penetrated the history of mankind will save us from the present crisis, but it's too false.\",\n",
       " \"It's romantic, but it's true. It's so good.  I don't think love can solve everything, but this movie is not bad either.\",\n",
       " \"Realistic Greece and cinematic Greece's exquisite love come together to make a story. Let's watch the beautiful three love in Greece.\",\n",
       " 'Love is not a fantasy but a reality.',\n",
       " \"The second chance of the love of Eros and Psyche in Greece's situation and in it, the end of which will be joyous freedom.\",\n",
       " 'Greece, which turned love into a god even in a confused economic society, somehow the world apart is my love Greece.',\n",
       " 'Every moment of love added realistic elements.Is it because of these three couples that feel more frustrated every time they face realistic Greek images? The movie makes them look at realistic problems that they can never ignore.',\n",
       " \"I liked it because I didn't only highlight the beautiful parts of love, and I liked the story of connecting with individuals rather than the whole family. It could be obvious, but it was even more touching because I liked the story of Eros and Pussyfoot with a pretty touching ending.\",\n",
       " 'I love you, but I love you. I never knew these two sentences were so different before.',\n",
       " 'Still, love can solve it.',\n",
       " \"I don't know if anyone can get a second chance anytime, but it won't be a reality.  We're idiots, and we're waiting for the chance to be taken by whim again.\",\n",
       " 'The opening and closing narration of our eros, who always loved but were hurt, conflicted, sad, and distressed, and escaped through love, is a formality of the opening and closing narration of our eros, which can cause some misunderstanding about tone and manners.',\n",
       " \"I love you.  I know it's an impossible reality, but I hope everyone in love gets a second chance.\",\n",
       " \"A second chance may not be given to everyone.  That's why you have to live the moment.\",\n",
       " \"In an age where there is no hope, if you cry for despair, you will lose love. What remains if you lose love, which is the great reason for man's loss of love?\",\n",
       " \"It's really easy to love, but it's a really hard paradox, because if you look at it, you don't want to see what you can't understand.\",\n",
       " \"You need to know something I don't understand.\",\n",
       " 'Between the collapsing society, the family, the wife of the lost head of the family, and the disbelief and disillusionment of the existence that deserves respect and love for the daughter, hope still remains.',\n",
       " \"I can't stop thinking about Paris' eyes.\",\n",
       " \"Here's another well-made Spanish thriller. Every time I watch a Spanish movie, I want to learn Spanish. I got a little spoiler while watching the plot on Naver, but the way I talked about the story itself was fresh and smooth, so I enjoyed it. The ladies are pretty, good at acting, and sexy.   Thank you for the useless exposure.\",\n",
       " 'All the video footage from the departure trip was from the trip.',\n",
       " 'Appropriate thriller 스릴러appropriate reversal★excessive exposure★',\n",
       " 'The words of human love and suffering and life and death are in gray.',\n",
       " \"After watching this movie, I fell in love with the Spanish thriller. When I get sick of American movies, it's really fun. Spanish women are so pretty.\",\n",
       " \"It seems normal for a thriller, but the story itself is amazing. I opened my eyes because I tried too hard to test the love of these possessive masses. But unfortunately, I saw quite a lot of things going well even after giving up on a person. If you look at the girl's face without consistency, she's ruined. Hahahahahahaha. If you look at the pretty face of the ladies and the whole, she's prettier.\",\n",
       " \"Why didn't you just lock him up?\",\n",
       " \"If you're going to be a bitch, you're going to be a bitch. If you suddenly get weak, you're going to be a jerk.\",\n",
       " \"Overall, it's simple, but I was more immersed than I thought because I didn't know the story.\",\n",
       " 'My eyes are happy because of the main actor with great beauty. Hehehe. He is an actor with a series of smashing characters, but he feels like an Asian beauty. The story is also very good, so I can enjoy it. a strong recommendation',\n",
       " 'Make that probability.',\n",
       " \"The point of view is that there's no one in the right mind.\",\n",
       " \"I understand what you're trying to say in the modern era. LOL. What is love on one side, love and desire on the other side, love and war on the other side, and investigation on the other side, big picture, and comedy on the other side? It's amazing.\",\n",
       " \"What's wrong with him? He's going to help each other. He's going to meet another girl anyway. Anyway, the movie is good for thriller, twist, and fresh, so I was going to give him a mole, but there's something I'm trying to answer.\",\n",
       " \"The three stars that I give to the beauty of the heroine, Fabia, who works really hard, or The three stars that I give to the beauty of the hostess are the three stars that I give to the beauty of the heroine.  I don't know if I was persuaded by this movie.\",\n",
       " \"I really don't like the ending. What's the point of locking him up?\",\n",
       " \"I'm curious about this strange house structure, and I'm curious about what will happen to me as a joke, so I keep watching it. I'm afraid of girls are jealous and possessive.\",\n",
       " 'a movie that can only be enjoyed in the middle and late half without any information.',\n",
       " 'I enjoyed the tension-filled secret room thriller created by the combination of Hanagum Sapa and the desire of a woman with a strong desire for that reason.',\n",
       " 'Thriller What would you do? Most of the questions and tests are tragic. I got hit hard by hidden camera.',\n",
       " \"It's a pity that I couldn't push ahead with it, but it's also the power of engaging in simple stories by charming casting skills.\",\n",
       " \"Don't laugh, bitch. I'm not dead.\",\n",
       " 'a full-scale dig of the tomb.',\n",
       " \"Don't keep trying to confirm your love after falling into your own game, and you're drawn to interesting and provocative material.\",\n",
       " \"3 8 The actress of Dripnidang said she often takes off her clothes, but most of them seem to have been necessary for the movie.  In Spain, it seemed too much to show the whole body in the bathtub or the scene of the love affair. In Spain, it seemed to treat the female character quite conservatively. It was a device that was faithful to the male fantasy, thunder, background music, and the barking of the orchestra's music. It was a bit too much, so the tension was half-hearted, but the shape of Fabiana's nose was thin, and the pretty and the beautiful and the beautiful. By the way, Belen could not have lived comfortably in the future because the actresses were so pretty. The lines were so simple and faithful to the story, but I still put in the necessary scenes well.I wish I could start doubting the landlord's suggestion that Fabiana change her mind in the process of realizing the reality.\",\n",
       " \"2020 1 21 What's wrong with not knowing what's going on or what's right to know? It's really scary that I have to take responsibility for the feelings that I get when I want to know other people's secrets. I don't think I'll be able to endure these moments, so I can't just dig into them.\",\n",
       " \"Don't try to test other people's minds, Belen. You know Fabia or someone else is in a corner. Please don't do anything immoral and irresponsible about meeting another woman the very day that Adrian's lover left. The story is simple, but the scenes that unfold are immersive, or the story isn't simple.  There are some unexpected developments that bring about unexpected twists and turns, so they are unfamiliar actors in unfamiliar Spanish films. The director Andre Weiz's message is to live simply and honestly, not to try to be honest, candid, crafty, or false, and not to live simply through the three main characters of Adrian Belen Fabiana.\",\n",
       " 'Now you tell me if this is a light bulb or an electric chair.',\n",
       " \"I can't believe I'm dating someone. I can't risk my life. Let's just go solo safely.\",\n",
       " \"I can't believe exposure interferes with the movie, but the story and development are great, but the actors' acting is a little bit awkward.\",\n",
       " 'sloppy back-t',\n",
       " 'Love is not a test, but when you find that room, you can go in.',\n",
       " \"There's no specific message because it's just one man and two women who play according to the situation.  Thrillers are pretty good.\",\n",
       " 'I think this movie is fun to watch without any information.  It was interesting because the material was fresh, but I was satisfied because there was a twist in the ending.',\n",
       " \"It's a lot of fun.  I've seen her in superheroes, and I've seen her somewhere. I've barely found a friend of the narcos taxi driver.\",\n",
       " \"It's a good setup, a good development, a good depth, an predictable development, but it's not boring, it's good to enjoy, but I won't see it twice.\",\n",
       " \"She's so good, you idiots. Screw you. Screw you.\",\n",
       " \"In the end, Andrea was the only one who didn't get any pain or punishment. Nevelen should believe in the love that was buried in his own grave. Why do you doubt and test it? It's an open ending, but can Fabiana escape the secret room? Belen, Fabiana, and her beauty are amazing.\",\n",
       " 'Spring, June 9, 2017 as a result of trying to test love recklessly',\n",
       " \"You'll be able to see the poop better with a tissue when you'\",\n",
       " 'Spanish thriller is a real adult movie.',\n",
       " 'a trite and clumsy ending to a novel development.',\n",
       " \"They're mixed up by men.\",\n",
       " 'Hidden face. Where is it hiding.',\n",
       " 'First of all, I wonder why you want to enter such a small, scary, cold room.',\n",
       " \"Why can't we make disaster films so plain and immersive?\",\n",
       " 'A well-made disaster movie focused on the disaster itself with a simple production, showing the situation at the time of the accident realistically with overwhelming action as if it were actually a disaster, and I feel sorry for the answer that never came back after the name.',\n",
       " 'This is art compared to the melodrama Pandora.',\n",
       " '\"It\\'s a disaster movie, but it\\'s safe to watch it as a great action blockbuster.\" Instead of boldly eliminating the unique deterrent and plot of a disaster movie, the focus was on realizing what really happened.\" \"The enormous scale of action scenes that unfolded in the middle and the latter half of the movie is quite overwhelming.\" \"It feels like I\\'m actually on the scene at the time of the accident.\" However, as a disaster movie, social message or humanism should have been added a little bit more.',\n",
       " \"It's not easy to understand because there's a lot of jargon, but I can feel it was a catastrophe caused by his money and efficiency. I saw Sully last year, but I'm envious and ashamed that there are leaders who are willing to take responsibility for the worst and people who do their jobs.\",\n",
       " \"I thought if it were us, we'd cry again and fill up the congregation.   This movie is complete with a clean and immersive disaster movie. It is fun.\",\n",
       " \"It's a disaster movie with the highest level of realism and drama in a long time, and the vividness of the scene is overwhelming.\",\n",
       " 'broke up in a whirlwind encounter',\n",
       " \"Rather than being a hero, I feel more like I'm listing the facts than the dramatic fun of being an impressive disaster movie. a work that is less fun but more realistic\",\n",
       " \"Look, I don't have to be a believer, but I know the ending, but I can't breathe, and I can feel the incredible amount of tension that I've been there.\",\n",
       " 'Clear production, hot special effects and heavy messages created by choice and concentration.',\n",
       " \"These rotten bastards, who don't even know how to prepare and do their best, explained the tension in the first half of the 50 minutes of the first half of the talk to understand the oil well through a psychology that can be felt in the conversation. The 50 minute disaster starts in the second half. Whenever there is a slight thrill going on, my heart starts to throb unknowingly, except for unrealistic elements, I felt that our country's immersive immersion is the movie and disaster.\",\n",
       " 'The unchanging principle of \"A leader is always a negotiation error for talent.\" I\\'m surprised once again that the Deepwater Horizon was built by Hyundai Heavy Industries Co.',\n",
       " \"The one who came back alive is a victim, just like the one who didn't.    If you don't feel guilty about living alone, you'll be grateful for their courage in extreme situations.\",\n",
       " 'Conflict is ambiguous and action is ambiguous.',\n",
       " \"It was a true story. People trying to protect the right level of people, chaos in the dashboard, amazing tragedy that changed the reality of the explosion, and people who survived and left, people who met their families, and people who let them go survived, but those who suffered from post-humidity and confusion are all victims. It's well made.\",\n",
       " \"It's not a neo-fiction movie, but a real disaster movie that draws the protein of tension and immersion. I really watched the scene where the Horizon explodes with my mouth open, and I can't forget the scene where Kurt Russell, whose body is messed up, checks the number of people, but there's definitely something I'm sorry about, depending on the true story, that's not enough to save the character.   And I feel like the reverse angle didn't fit well.  Maybe not.\",\n",
       " 'It was a real event that made it feel like watching a real-time incident that could never be reversed once it started, so it was difficult to enjoy the movie positively. It was better because the movie itself was neither positive nor negative.',\n",
       " 'I hope you will remember the death of the deceased, not the death of the deceased.',\n",
       " \"Cruel and cold, just focusing on showing real events.  I won't let you go.\",\n",
       " 'The movie is about a true story. It is a neat and intense immersion that shows the situation of the time.',\n",
       " 'a clean disaster drama',\n",
       " 'Perhaps the insensitivity to safety and the obsession with cost-cutting that has caused safety inspections to be neglected have caused the worst marine pollution disaster in history, not just the explosion of an oil rig, but the pollution of the ocean caused by the oil spill has led to the death of many marine life.  Talent eventually makes people, animals, and the earth sick.',\n",
       " 'a sincere reenactment of the disaster and a vivid sense of realism.',\n",
       " \"The disaster movie focuses more on the psychology of the characters than on the provocative elements. The actors' acting is as good as it is. The scene of the Deepwater Horizon exploding is really creepy.\",\n",
       " \"I think we're living well thanks to people trying to save themselves by sacrificing themselves in a sad reality where we can't let go of our tension until the end of a disaster movie after it made me wonder what I would have done while watching the movie.\",\n",
       " 'Drugs to the pharmacist and misfire to Peter Berg.',\n",
       " \"The lead supporting actor's acting is soft and stable. It would have been better if he increased the time to increase the disaster scene.\",\n",
       " \"It's great that the second half of Markwallberg's Peterburg combi's 21st-century American hero movies, filled with explosions and flames, continues to be full of tension, but it's not very old-fashioned, double-track and moving codes.\",\n",
       " \"There's a lot to see, and it's neat for a disaster movie.\",\n",
       " '200401 Textbook of Disaster Films',\n",
       " \"the feeling of seeing disaster before one's eyes\",\n",
       " 'The noble sacrifices and the evil of talent recorded without a sect.',\n",
       " 'The lighthearted production of \"It\\'s a disaster movie, so I\\'ll do the basics\" added a sense of realism as if we were actually at the scene, so I couldn\\'t stop crying. Sully and Deepwater. It\\'s a well-made movie where you can feel the effects of huge production costs. It\\'s a pity that it\\'s not a hit for some reason. Do well.',\n",
       " \"If you look at 4d, the background of the movie is short enough to make you sweat, but the disaster remains long, and you're very good at maintaining tension from the beginning to the second half of Jimmy's call to the answer. There's no boredom at all, the ending is light, and I applaud him for his lingering delivery.\",\n",
       " 'As a reference to the sample Korean disaster films should learn from the most realistic, humane and exemplary disaster blockbuster Shindongpa, the Deepwater Horizon has built a ship at Hyundai Heavy Industries in Korea.  Hyundai Heavy Industries is known not to be directly responsible, but I feel sorry as a Korean when the names and photos of the victims appear on the ending credits.',\n",
       " \"Mark Wallberg's tearful performance, which seemed to contain a lot of emotions just before he met his last family, was impressive.\",\n",
       " \"Don't try to make me cry. Good.Don't think it's illegal. Let's meet at the theater.\",\n",
       " \"The bad guy's alive here after all.\",\n",
       " 'A bland disaster sword without divinity, a black shadow of oil and profit-seeking capitalism.',\n",
       " 'Sound that highlights the most perfect ending in a disaster movie when creating emotion.',\n",
       " 'It makes me feel what I felt and what I was doing there.',\n",
       " 'It was really realistic and detailed.  I hope everyone in the oil and gas industry can see and feel at least once.',\n",
       " 'Disaster does not give us room to get into shape.',\n",
       " \"Exploring the Safety of Oil Drilling Work The Sea's Wrath that Burned the Deep Roots of the Development of the Cancer Talent Industry in a moment The Peter Berg's Unhappy Escape from the Depression, Mark Wallberg, who is good at the immersive disaster blockbuster genre, is out of the discussion for now.\",\n",
       " \"It's a vivid record of a normal story.\",\n",
       " 'The movie \"Environmental Disaster,\" which deals with all-time marine disasters sung by a talented person, was dealt with in the media, so the movie itself was painted in a very simple manner, as if focusing on talent was the beginning of the disaster.',\n",
       " 'Money, money, money, money, money, everything burned and killed.',\n",
       " 'A piece of writing that I thought came from the tip of my hand that I had erased from my heart.',\n",
       " 'Personally, I think James McAvoy is a divine move.',\n",
       " \"I'd like you to shoot another McAvoy period play.McAvoy has to film a lot of movies like this.You have to have a conscience about how you look like a baby, so you can't sleep and make people excited.\",\n",
       " \"Don't be so stupid to name a girl who loved her daughter she gave birth to with another bitch.\",\n",
       " \"Just thinking about the scene where I bumped into McAvoy while dancing at the ballroom makes my heart flutter. It's a movie that I cherish the countless stories of McAvoy's Jane.\",\n",
       " 'The short line Jane rings in my heart the longest.',\n",
       " \"Tom named his daughter Jane, and Jane, who's been single all her life, what was it like?\",\n",
       " 'As a female novelist, she lived a long life in history.If I could turn back time, I would support her love instead of masterpieces.',\n",
       " \"It's like a woman who's looking for herself is living alone.\",\n",
       " \"Please Jane James McAvoy's words express everything.\",\n",
       " 'a fine manual in which the style and character of her work are understood.',\n",
       " 'Her novels end in a happy ending and make people like me, who are not good at love, dream of romance.',\n",
       " \"It's great that a famous writer from the 18th century looks around her life in a video like this. For her who had been in an unfortunate love, how a novel was a great spouse and friend, the Nosengger Temple I saw not long ago was suddenly over, so there was a reason for it.  It was published posthumously at the age of 42 due to her unfinished life, which is a bit heartbreaking, and the arrogance and prejudice of Nosengger Temple are so famous that I can't describe them in words.  Ann seems to be good at picking out the perfect roles.\",\n",
       " 'Enough why',\n",
       " 'Eternal irony of love and money sensibility and reason ideal and only real human beings.',\n",
       " \"I've been watching dozens of scenes at the ballroom, and I've seen the subtle expressions of the moment and the McAvoy MacAvoy imprinted in my heart.\",\n",
       " \"It's not easy for a woman to live her own way, as a woman.\",\n",
       " \"Tom's immature and helpless act of hasty love and faith _ in the end her last rational judgment was the choice for everyone.\",\n",
       " \"Sweet sweet James McAvoy's infinite sweetness Ah James McAvoy why are you married?\",\n",
       " \"Life isn't like a novel, but it can make a beautiful sound.\",\n",
       " \"Even if love doesn't feed you, a loveless marriage is hard.  Of course, it's hard to get married with only affection.  Truth comes from contradiction. irony reading\",\n",
       " 'the irony of combining two contradictory truths into a new truth and drawing laughter',\n",
       " \"But you got married because you loved her.   That's why you're always digging for potatoes.\",\n",
       " \"I couldn't help but fall in love with McAvoy at the ball scene.\",\n",
       " \"It's not bad, but I read Jae-in's arrogance and prejudice twice.\",\n",
       " 'Suppose the colder the reality is, the hotter the memory becomes.',\n",
       " \"It's really all good, but it's awkward for an American to pronounce English.\",\n",
       " \"Anne Hathaway's eyes are haunting as the two reunited at middle age and playing the older Jane.  Jane is beautiful because she is Jane Austen, not Jane Leifler.\",\n",
       " 'Against social prejudice, she is beautiful and wonderful. I salute her life for sublimating her sad first love past into the art of fiction. True art must come from the heart.',\n",
       " \"Whether it's writing or movie, it's important to have experience because it establishes values. It's hard to see Jane's choice and Tom's daughter's name.\",\n",
       " \"Yeah, if I could be Jane and get James McAvoy's eyes once,\",\n",
       " \"I'm not good at controlling emotions, so I always control everything.  Please don't do that to the main character in my novel.  The story should give hope to the readers.   One way or another passions makes tools of us all Emotion is Jane's line in the play.\",\n",
       " 'After all, I wish I could show you more of the universal irony of being attracted to each other, of being burned with love, and of being dispersed by rational judgment, of falling in love.',\n",
       " 'James McAvoy',\n",
       " 'Your lips that still ring my name the most beautifully, those lips and the days when it no longer belongs to me, are as long as the music that was boring before you were in front of me, day and night.',\n",
       " \"It was definitely a movie about Jane Austen, but now that I look back, it's embarrassing that only James McAvoy comes to mind.\",\n",
       " 'Jane Austen may not have been exactly like this movie, but watching the movie made me understand the rather obvious and unrealistic happy ending of arrogance and prejudice.  That way, I want to give all the freedom and love to the main characters.',\n",
       " 'The girl who knew she had ironies in her life.',\n",
       " \"I blame the wind for the tears, but the mind is not so easily deceived.I won't hold on to your lovey-dovey.I'll only love you more.I'm here alone.\",\n",
       " '\"Boring is fun.\" \"Sweet and sad.\" \"Let\\'s forget about the sorrow.\" \"Read the prejudice and feel it properly.\" \"Jane\" is still lingering in my ears. Why are reality and ideals different?',\n",
       " 'What value will there be in life if we are not together Tom Leftroy stands out',\n",
       " 'A movie I want to save',\n",
       " \"I tried to see McAvoy, but I'm mad at him. And I'm also worried about Yeo-joo, who will be standing awkwardly in the kiss scene. Don't ignore me because I can't tell you.\",\n",
       " 'The movie itself was good, but one star was a tribute to James McAvoy. How can he express his gaze?',\n",
       " \"I really liked the feeling that I could see Jane Austen through En Hathaway, and James McAvoy's performance was superb.\",\n",
       " 'The director dreamed of making kimchi pizza tangsuyuk, but the reality is Mexican traffic light chicken. PS Inception Enabel Conjuring Gokseong Interstellar Dr. Strange Psyilanthill Photographer Bae Byung-woo came to the theater to see the movie and was hospitalized in front of the director Woo Han-ryum.',\n",
       " \"The audience's heart is closed because of the lack of closet t\",\n",
       " 'Early, early, early, middle, middle, middle, and middle of the Gokseong Fortress. Sabaha Black Priests in the middle and late. Silent Hill Tim Burtony. CJ.',\n",
       " 'Opernazi Joseon Closet',\n",
       " \"Ha Jung-woo, the main character, who can't believe how desperate and desperate he is to find his missing daughter with the help of a exorcist, such as individuality, fear, interest, charm, etc. that disappeared into the closet, keeps the audience from being immersed in the movie.  In addition, I can't stand the laughter that comes from the familiarity and awkwardness of the scene where Gyeonghun Kim Nam-gil in the play explains how the boundary between the space of the dead and the space of the living opens by drilling a hole in the paper and moves to the space of the dead in the latter part of the play.  The director seems to be a passionate viewer of a strange story. Nevertheless, it is impressive that he expresses his apology to the children, saying, 'It's all the fault of the adults,' and that it can give their own echo to those who live as cowardly adults.\",\n",
       " \"If Ha Jung-woo's character had been set up in the beginning to hurt his child more harshly or unintentionally, the process of solving the message he wanted to throw in this movie would have been smooth, and the attempt at Korean genre movies seems to have continued regardless of the season, so I feel good for fans of genre movies.\",\n",
       " 'The day when Ha Jung-woo gets beaten up by his children is coming.',\n",
       " \"It came out so well for something made in our country.  If you want to catch it, stop talking about it getting really long. Ha Jung-woo's whole-body acting. Oh, my child's creepy acting. I was a little surprised that Kim Nam-gil's character was so light, but it came out okay in the middle. The camera's eyes were a bit irritating, but this is about it. Promoting with God in the middle of it.\",\n",
       " \"The material of Godna's is still a bit early, but the occult scale seems to compare with the strange story of following a foreign movie.\",\n",
       " 'There was also a Shinpa War movie \"The Lion of Sinpaocult Lotte\" in Incheon Landing Operation.There were many new disaster movies. Shin Pao-Cult is a social problem. Wouldn\\'t it be a true creative economy if you create a genre like pretend?',\n",
       " '○ Other factors fail to control quickly due to the rush of lessons, CGV Starlivetalk',\n",
       " \"Before Kim Nam-gil came out, it was the best horror movie ever. There is a problem with the director's production, not Kim Nam-gil.  Child abuse is a crime. It's a movie that retired Closet would like.\",\n",
       " 'Kim Nam-gil was scarier than the ghost.',\n",
       " \"I feel like Kim Nam-gil's character doesn't match the tone of the movie, but that's what you'll see in the movie.\",\n",
       " \"Whether it's a horror movie or a commercial movie, we're in a hurry to create extreme situations and reactions without reason to give a lesson whether we should do well or not.  There were so many settings that I couldn't understand in the worldview that I couldn't be persuaded.  The kids must have had a hard time filming.\",\n",
       " 'To say is heartbroken but also to draw state his not too long.',\n",
       " \"I'm more of a hanger than a closet.\",\n",
       " \"The movie is better than I thought, but the movie is better than I thought, but the movie is better than I thought, but the horror is less scary than my driver's license, which marks its 2nd anniversary. 2020 Lotte Cinema Ulsan Branch\",\n",
       " \"I'm sad for children who are easily relieved of their guard because of the unfamiliarity of an adult's apology.\",\n",
       " \"Closet, a non-stop horror film that fails to distance itself from the current progressive problems of typical, useless horror films and other vicious cycles of horror movies, is an interestingly unapproachable human dream of a former mirror, such as a demon in a closet that was now hard to find in Korean horror, unlike the Korean horror scene, which used to borrow Eastern shamanistic and religious ocultures. If you used fear and fear of the unknown in the closet, you would have to repress the audience with the appropriate production and awe-inspiring mystique, but this movie doesn't satisfy anything. Between popularity and cinematic quality, there are signs of anguish and a clear sense of subject matter, but the clear sense of theme acts as a factor that undermines the atmosphere of the work. Also, the film was not enough to hide the sense of deja vu and the background elements, such as the story of the murder of Conjuring Insidious Silent Hill, which is commonly found in the West, and whether they were the result of their own creation. In fact, the early part of the mansion was served well with the toughness and chilliness of the mansion. After the impressive introduction, something went wrong and uneasiness began to creep in from the lieutenant general, and Kim Nam-gil's character hovers around with a floating character that doesn't fit the atmosphere at all, and the expectation that he would make better use of the unknown fear, rather than a closet, relies on various clichevings and jumps and jumps.If there's anything better than the movies I mentioned before, the storyline is that I've clearly ended up in the closet, and if I've worked on the visual images and props of space like Insidious or Silent Hill, I might have gotten a better rating, even though I'm quoting and following the existing ones.\",\n",
       " 'a feast of old-fashioned production that cannot be defended by message.',\n",
       " 'He goes deep into the wardrobe, embracing only the problems of Korean horror movies.',\n",
       " 'If I had a chance to cast Ha Jung-woo, Kim Nam-gil, and Park Sung-woong for 7 billion won in production costs, I would draw the romance of the middle-40s, middle-aged, middle-aged gay men who realized their identity and came out.In this movie, Kim Nam-gil and Ha Jung-woo have become remarried couples and have an ending.',\n",
       " \"Even the actors couldn't make use of the scenario.\",\n",
       " 'Once upon a time, an advertisement for a paroma furniture came to mind. It is regrettable that Song Yun-ah in the advertisement should be cast as a ghost.',\n",
       " \"I was worried a lot because I didn't know anything about the combination of freshness and cliche, but from the beginning, I was able to amplify my expectations with a good immersion and interesting material, and I ended up with a sudden development for a vague lesson in the second half and a sad ending.To be honest, I was a little nervous in the beginning, but I'm most sorry I couldn't keep that tension going.But it was a very good movie compared to transformation.\",\n",
       " \"I couldn't stop laughing watching a horror movie because it wasn't a comical scene. It's also a skill to write such a cliche and awkward line. Wouldn't it be really serious if Ha Jung-woo feels awkward?  It's the director's first full-length film, and I think you'll be in big trouble if you don't grow up with a knife.   When Ina takes her into the closet as the starting point of the movie, she follows the grammar of the existing exorcism film, after the grammar is followed by the existing exorcism film.  The message of solving mysteries, settling conflicts, and revealing are children who were neglected and abused by domestic violence, but no matter how much I try to understand that horror movies are a genre that conveys stories through metaphor and connotation, I can't help but wonder what it is.  Children with a father, an architect who has a relatively large affection for their children and rich in financial resources, are rescued from evil spirits, but what about the damage of countless children who fail to do so? I cry out in vain about the pairing of Ha Jung-woo and Kim Nam-gil. I don't have any complaints about putting male actors in the position of 'parent in the movie' The majority of domestic violence is father or brother, and sexual abuse by these patriarchs.Not really, but at least it wouldn't have been this cliché.  I guess it was just a move to use ticket power by putting a handsome bride in the trend these days, but I can't even produce a bromance. Bring back the bill all of a sudden because you can't even produce a bromance. Oh, my sense of humor. I don't think there's a real Jo-oh-oh-oh-oh-oh-oh-oh-oh-oh-oh-oh-oh-oh-oh-oh-oh-oh-oh-oh-oh-oh-oh-oh-oh-oh-oh-oh-oh-oh-oh-oh-oh-oh-oh-oh-oh-oh-oh  How come acting doesn't improve? It's comical acting. It was refreshing when I first changed my acting. It's a problem that every time I tell you to do comic acting, the same pattern of acting is the same. Please film a good movie. Mr.\",\n",
       " 'Almost everyone thinks that they are superior in some way to others.   whether it is true or not',\n",
       " \"Closet is a horror movie about a woman who moved into a new house after losing her wife in an accident. One day, her daughter went missing and solved a mystery in the closet. The movie, which was released as the first Korean horror movie of 2020 with the star power of Ha Jung-woo and Kim Nam-gil, seemed to show the current state of a Korean horror movie that unfortunately stopped growing.  The movie, which has added some of the most popular ocult elements to the story of a typical Korean won ghost and some odd stories, eventually relies almost entirely on the scale of a jump.  The make-up was so great that it raised fears, and the art of the house was good, but overall, it only produced obvious fears.  It felt like I put up the ghost's grudge or the trauma of the characters to give a plausible cause to the movie. It was disappointing. It was almost the first time I felt that Ha Jung-woo's acting was not good, but no matter what the lines were, I don't think I could feel his sincerity or emotions well, and he seemed to be weak.  Kim Nam-gil's character itself is a funny but serious character, but he is still an ambiguous character.  Rather, the most impressive actors in this movie were Heo Yul and Kim Si-ah.  Kim Si-ah is now a child actress whom I trust and watch, and I think she added a good experience as an actress in this movie.  Heo Yul is a new actor, but from his first appearance, he has set the mood well by giving off a meaningful aura that is needed for such a role.\",\n",
       " \"Kim Nam-gil's performance as an exorcist was fine.I didn't hear you mumbling in detail,\",\n",
       " 'When the tragedy of child abuse meets the exorcism, actor Ha and actress Kim only show the energy of two actors.',\n",
       " \"Jet's Rice Made with Kl'Rise\",\n",
       " '1 Apple Watch Apple Watch ads that work well anywhere? 2 drummer Kim Nam-gil, Taheheuheu. 3. The message was good. 4 This is family movie, mystery thriller, horror, no-no-woo.',\n",
       " 'Shame and apology to children somewhere',\n",
       " \"I'm so sorry that my daughter's mom came so late because of Lim Dong Kyu's salary problem.\",\n",
       " \"Kim Nam-gil and Ha Jung-woo's chemistry is not bad, but they seem to be perfect for the comic genre.\",\n",
       " \"If you're stuck in hell, you're the only one who wants to end life because of the rigors of life, and you're going to die alone.\",\n",
       " 'Ha Jung-woo and Kim Nam-gil.',\n",
       " \"I'm afraid of children. 200320\",\n",
       " \"The story is so cliché and the ending is so cliché. I think it would be nice to just take off Kim Nam-gil's character and make another exorcism.\",\n",
       " \"I think it's positive that I tried this and that for a Korean horror movie, but there was a time when I made stew with leftover things during a holiday. It's just like that.\",\n",
       " \"It's not scary, its lessons are weak, and it's not sad, so it completely loses its focus.\",\n",
       " \"I didn't see it with God.\",\n",
       " 'Shinpa Family Movie Shinpa War Movie The Birth of Shinpa Culture Movie Beyond Shinpajo Bombing Movie',\n",
       " \"On the basis of the dry production, the first-class actors' brilliant acting techniques.\",\n",
       " \"A movie like hot steam that begins to spurt from cracks that have begun to appear little by little on the wall of a huge, cold-hearted movie that has been left ugly over the years. A series of sequences in France, based on historical events of a political drama, were so organized that they were considered tense spies, as well as the scene of Lee Byung-hun playing a frustrated manager before the revolution, which was tarnished by a sweet life of Lee Byung-hun. It is so desperate to look close to Su-hyun's loss of her fiancee in the drama that this kind of acting further maximizes the heavy, cool atmosphere of the work.\",\n",
       " 'I was worried that there would be a perfect movie like the drug king, but rather, there was a more organized one than the insiders.',\n",
       " \"The most frequently asked question about director Woo Min-ho is whether insiders or drug kings were his or her own skills.   The directors of Namsan clearly showed that Woo Min-ho's directing power was that of insiders, while also announcing the birth of director Chungmuro Noir 2. What makes everyone wonder is that the movie ends even though everyone knows the ending because of its excellent acting performance that can describe the inner world with the movement of the hand holding a cigarette pack. Not only Lee Byung-hun, Lee Sung-min, Kwak Do-won, but also Lee Joon revealed his own colors through this time.  Beyond Lee Byung-hun's proper acting of Kim Jae-kyu, anyone who has seen this movie will think of Lee Byung-hun's face first when they hear the name Kim Jae-kyu.   January 15th Yongsan CGV Press Distribution Conference\",\n",
       " 'In a world where compassion is everything, there is no place for an unrecognized person to go.',\n",
       " \"I'm busy unpacking. Stitches are still all over the place.\",\n",
       " '여기',\n",
       " 'Is it loyalty to a shot disguised as patriotism or a shot fired from revenge?',\n",
       " 'The strong power of the drama, which is heavy and solid, until a single loyalty turns into a single shot.',\n",
       " \"It is a movie in which a blue flame is added to Kim Jae-gyu, who is trapped in black-and-white TV, is slowly heated as a ps gas-like blue flame is ignited.  It's not a junk food that's heated with microwave, but it's a movie that's about cooking to get rid of the food that blows the breath of the tiger. I think I've become a teacher while I like the drug king. It is a movie that expresses the weight of history by adding moderation to the movie itself without repeating the mistake of forcing the humanism into the movie to give it a sense of three-dimensional or vividness. PS The acting of all the actors was excellent, but Lee Byung-hun's performance shows more than expected.  As it expresses joy distorted by silence and sheds tears with frames of glasses, it is worth paying more attention to it than the recent Mt. Baekdu.   PS Cookie is not available    PS Last but not least, I swear, forget the drug lord.    I sincerely thank the director for allowing me to say that.\",\n",
       " 'The moment when the directors of Namsan, who shared the beginning and the end of power, watched the movie, was truly touching. Mise-en-scene was great, and most of all, without the great acting of the actors, it would have ended up as a boring political drama. The important events of our forgotten time were read, and they called it a revolution, but in power and ambition, they were filled with ambition.',\n",
       " 'Both acting and directing are excellent. I think the original novel will be interesting.  Megabox Dongtan',\n",
       " \"At that time, if it were you, then you would ask the audience questions through their group, a new revolution that began again at the center of the revolution, although it produced other tragedies, the psychological descriptions of the characters delicately expressed in the refined production of history and democracy shine.  Director Woo Min-ho's sophisticated way of expressing a story that everyone in Korea knows, even though there is no wit, the king's splendor, or duke's density, he only focuses on the director's personal interpretation.\",\n",
       " \"There's a lot of points and lines that you're itching to say, but if you see the heavy pressure that keeps you breathless, you'll be able to scream, but can't you say it in a big way?\",\n",
       " 'the petty bare face of insiders wearing masks of revolution and justice.',\n",
       " \"Lee Byung-hun's facial expression that changes every moment as if edited, and Lee Sung-min's perfect role as a gourd. At that time, the vain violence that made people scream under the guise of power without trust. It maximizes the fun of filling such distrust and violence with non-stimulating screenplay and directing.\",\n",
       " \"The second half of the movie is the most impressive scene in the recent Korean movie.  I'm surprised by Lee Byung-hun's acting again.\",\n",
       " 'Drum roll',\n",
       " \"The directors of Namsan Mountain were very curious about how director Woo Min-ho would deal with the October 26 assassination of President Park Chung-hee and the 40-day record from the perspective of the head of the Central Intelligence Agency, which is also a very important event in modern Korean history, which was imaged and declared a dramatic end to an era.  First of all, the film shows what Kim Jae-kyu and Kim Kyu-pyeong went through in the 40 days before that, and the movie focuses on his relationship with Park Chung-hee, Cha Ji-cheol, Kwak Sang-cheon, Kim Hyung-wook, and Park Yong-gak. Among them, the central relationship is with Park Chung-hee, as a soldier who risked his life in a coup, and how his loyalty as a man has gone so far as a gun. The horror movie shows a series of events that took place over 40 days, and each of them shows the worries, dilemmas, and consequences that Kim Jae-kyu might have faced, with tension through psychological games with various characters.  In short, I think it's right to say that this movie is a reconstruction of the case and furthermore, the entire cast of this movie was truly superb.   Lee Byung-hun, who has been with Woo Min-ho since the insiders, shows a fairly restrained performance that does not provide a clear answer to Kim Jae-kyu's psychology, expresses enough emotion to reach a conclusion without giving a definite answer to the audience, especially when Lee Sung-min, Lee Byung-hun's main counterpart, is very smart. Rather than Lee Byung-hun's personal impression. It was a perfect demonstration of why Kim Jae-kyu's gun was shaken by his strong encouragement for his comrades-in-law who seemed to have endured and the empty back of a man standing alone like a remote island in the middle of a bloodbath.  Kwak Do-won, Lee Hee-jun, and Kim So-jin also expressed their roles and meanings in this huge domino, and unlike heavy and restrained Lee Byung-hun, they perform more emotional and expressive performances, making the movie more important.In the midst of a whirlpool of history, a man in deep and fundamental agony completes the world.  Director Woo Min-ho's directing skills shine in the movie's impressive composition and high-contrast lighting reminiscent of Noir.  It was great to use close-ups in the right place to focus on the psychology of the characters and to try many visual storytelling through the composition. Climax shows spectacular and tense scenes like a lethal move. Unfortunately, scenes like overseas locations don't show much of these advantages because they're not a set and site that he can control, but scenes set in the U.S. and France felt particularly empty.  This margin was not a deliberate and full one felt inside the Blue House office, but rather a clumsy and empty space that had not been finished coloring. I can't help but compare it with those people at that time.  This movie deals with a wider time zone and sees it in a more complex way, but somehow the climax of the two movies is 10-26.   It was quite an interesting experience for a person who saw them first.  It's because I felt that the words and attitudes of the same events and characters were very different.  Both films may have dramatic adaptations, but there are quite a few overlapping parts, so I got to know more about the development of the 10-26 incident.  The difference between Woo Min-ho and Im Sang-soo is clear: Woo Min-ho is more cautious and passive about the historical significance and evaluation of the case, and he wants to focus more on the psychology and emotional lines of the characters, and he is more interested in the question of why the case is.  On the other hand, Im Sang-soo made a very straightforward and strong argument and evaluation, asking who the perpetrators and victims of the incident were, and solving his political claims artistically, and watching this movie, I think I have grown more yearning for them.  Many people will likely be attracted to Woo Min-ho's character-centered psychological drama, but personally, Im Sang-soo, who is ready for legal disputes and shows what he wants to say as an artist in a straightforward and acrimonious manner, and is more attached to them in both completeness and courage. It was a movie that was ahead of the times.\",\n",
       " \"If it's greed to take a detour with the left hand, then there's the power to turn around under the yoke of the right hand, when everyone cried out for justice and nobody won.\",\n",
       " \"I'm disappointed in the drug king, but I'll trust him again because there are insiders. Please, I'll see if a second insider is born.\",\n",
       " \"If you were going to get away with the loach of cinematic tolerance, you shouldn't have put in the last voice. I enjoyed Kim Jae-kyu's heroics.\",\n",
       " \"If you avoid traitors in your life, you're a traitor everywhere.I don't know if I'll stab you in the back. Let's always be careful.\",\n",
       " 'Many years have passed since the start of democratic politics, but I felt it was ironic that the movie, which should have been made in the real world, was finally made and screened, and it reminds me of how much the specter of Park Chung-hee had been encroaching on our society. The movie did not adapt much, and I think it was inspired by the feeling of a neat narrative based on facts, so that it was coolly scratching the itchy part to fit the role of Lee Byung-Lee Byung-Hyun and Lee Byung-Hyun.',\n",
       " 'face interestingly by dealing with the inner side of a character in history',\n",
       " \"Slowly heated coagulation bursts heavy and cold. Woo Tae-sik has come back after a bout of ups and downs. We don't have tomorrow.\",\n",
       " 'Each actor catches the eye by showing charismatic acting. The delicate and deadly facial expressions and emotional acting were very good, but the overall feeling was that there were more gaps than I thought.  Completeness of the editing is falling to record in the history of feeling something would have changed is to leave for Mt. Namsan and if not to go to yukppon gimbujang. Kim Dae-jung and Kim Young-sam, if not through military political control should quickly is the world be different. 379 2 18 20',\n",
       " \"Funny, but why is it so weak? It's too bad if you feel like you want to live with your self-esteem broken, not for the revolution.\",\n",
       " 'The breathtaking performance of the actors drives the climax of the movie.',\n",
       " \"As expected, Lee Byung-hun's right-hand hair was good ★ Lee Hee-joon and Lee Sung-min, who have outstanding acting skills in theater tones, were also not suitable for me who felt burdened by such things.\",\n",
       " 'Jealousy made me mistake myself for a revolutionary.',\n",
       " \"There's a personality, a nation is a state.\",\n",
       " 'Look at the subtle power and psychology driving through the telescope and the microscope.It deals with conflicts between Kim Jae-kyu, Kim Gyu-pyeong, Lee Byung-hun, and Lee Hee-joon, the head of the Presidential Security Service who insists on the power and Yushin system.',\n",
       " 'The arrogance that was committed by the task of revolution going back and forth between dark and sunny is quickly swallowed up without being able to read the waves of the new era.',\n",
       " 'If he had paid a little more attention to the details of the movie, which he felt sorry for because there were so many unexplained gaps, P.S. Lee Byung-hun would have been Kim Jae-kyu, the director of the Central Intelligence Agency.',\n",
       " 'Director Woo Min-ho is still trying to get closer to insiders.',\n",
       " \"I think that's enough to explain this movie.  The lighting and the camera were so detailed that they were rather ahead of the story, and at least they didn't satisfy me as much as I expected when I saw the posters and actors.  It's a pity that we've solved such an interesting subject in such a dull and serious way. The difference between the coup and the revolution. Their sense of deja vu.\",\n",
       " 'Next to next in line or another meaning of the gunshot to the audience.',\n",
       " \"It wouldn't be fun to read stories that many people already know so timidly, but it doesn't matter whether it's political or not, so I think it would have been much better if I had dug into Kim Jae-kyu's behavior or shown Park Chung-hee closer, but I liked it because my mom liked it.  😚\",\n",
       " '270,000 won worth of hair.',\n",
       " 'Desire, conflict, and betrayal are like candles swaying before the wind.',\n",
       " \"I'm right next to you. Do whatever you want. Bang, bang.\",\n",
       " 'I remember my first job at a small and medium-sized company near Itaewon when the CEO looked at me and said, \"The tie pin is about 20 degrees wrong.\" I looked closely at him, and he said, \"I should have escaped at the time. Soon after, people who were heads of small and medium-sized companies and dressed in strange suits like Jackie Chan\\'s tuxedo came to me and said, \"I\\'m going to count the rice plants I ate, and it\\'s going to be higher than your time.\" Poke a new cigarette. Why is it so late that you told me to come 50 minutes earlier than the regular hour, and so on? It was almost as bad as watching director Woo Min-ho\\'s drug king in his home room in a chair. I couldn\\'t stand it, so I submitted my resignation. From that day on, I called the managers the fucking managers of Namsan Mountain and gave them a rating terror attack on Job Planet. I was able to sympathize with them while leaving a point and words that were hard to put into my mouthful. It was as if I had designated a vacant day as Friday. Suddenly, I want to give some good tips to college freshmen. Class is unbeaten Friday, all right, class of twenties.',\n",
       " \"a little over 100 minutes' run for the last 10 minutes.\",\n",
       " 'Lee Byung-hun, Lee Sung-min, Lee Hee-jun, Kwak Do-won, Kim So-jin, and Lee Byung-hun are so good at acting that they are so good at acting. Especially Lee Byung-hun has nothing to say about acting this time. Megabox COEX 2020 01 20 PM 8 05.',\n",
       " 'There is still an exciting untold answer to the overconsumed superhero genre.',\n",
       " \"If the big picture made up of M Night Shamalan's intense obsession finally didn't watch the entire movie in 20 years or if this world view didn't suit his taste, it's expected that people would definitely like or dislike it. The Shamalan-style superhero Universe, based on repeated doubts and pure beliefs, was upset and excited to see the movie in Jojo before work.\",\n",
       " \"This is McAvoy's acting restaurant, 2019 01 24\",\n",
       " \"The long-awaited Night Shamalan is back.  James McAvoy, a classy ending credit created by the director's tenacity and stubbornness for 20 years, must watch his own unbreakable 23 identity. If you watch this movie, you will feel like eating samgyetang without chicken.   As if it's a hero movie or not, it's better to think of a psychological thriller than a novel approach to a hero movie. If you focus on action, I think the fun of the movie will be halved.   It's fun enough to watch James McAvoy's acting. All I can say is that the scenes that express the changing personalities in a short time are really great. The three main characters were very satisfied, but Sarah Paulson, who played the role of Doctor, didn't feel anything.  It's because of my role, because of my acting. I'm not sure, but I'm a little disappointed.   Mr. Glass, I was wondering when you'd be moving and when you'd say something.\",\n",
       " 'Jesus walked on the lake at dawn and went toward them. When his disciples saw him walking on the lake, they were terrified and shouted, \"It\\'s a ghost.\" Jesus soon said to them, \"Give up courage. Don\\'t be afraid.\" Then Peter said.  \"O Lord, if you are the Lord, order me to walk on the water.\" Jesus said, \"Come.\" Peter got off the boat and walked on the water to Jesus, but when he saw the strong wind, he was afraid.  So when he fell into the water, he shouted, \"Save me, Lord.\" Soon Jesus reached out his hand and grabbed him and said, \"Why did you suspect this faith is weak?\" Matthew 14:25:31',\n",
       " \"In order to survive in a world where Class A is prevalent, Class A is not the only thing that can be out of the category.  You must break your solid order.  Director PS Knight Shamilan, who proved that even rusty pieces of glass can shine completely if they break themselves, is another talent that is different from ordinary. In today's movie, which is filled with superheroes, Shamilan is not quick enough to join hands with inertia like telekinesis.  I'm waiting. I took out a mortgage on my house and made a movie, but I wasn't in a hurry.  So, regardless of likes or dislikes, the movie survives even before discussing the completeness. PS, you must watch your previous movie Unbreakable 23 Identity.   If you don't see it, you'll find it as strange and boring as watching only 3 Lords of the Rings movies separately. As much as you've invested in time, it's a work that's rewarded, so if you decide to watch it, make sure to watch it. There's no PS cookie.\",\n",
       " 'The broken glass spreads out as it hits the hearts of ordinary people.',\n",
       " \"I thought the waves would swallow me from afar of the horizon, but they were scattered and disappeared without any damage. There was no slow but heavy blow. I didn't know what to do with the tight rubber band, so I thought I should have let it go irresponsibly. Personally, I liked the time when I only saw the unbreakable camera work. I couldn't let go of Samalan because of this one camera work that made me nervous. I can't let Patricia, who only enjoyed McAvoy's acting, see the old actors and Joseph who had fun in the past 19 years.\",\n",
       " 'Crushed humanity and even more solid triangular structure.',\n",
       " 'pieces of glass that had been scattered for 19 years complete with complete glass',\n",
       " \"The awkward cohabitation director of the three main characters, Shamalan, and I must have been ignorant as if we didn't get along, right? Yeah, yeah, yeah, yeah, huh? Why are you so pretty?\",\n",
       " 'For fans who waited for the final piece of the three-game series, there were signs that it was filmed under pressure from production costs, as if it were a story and ending with different likes and dislikes.  Still Hard-working McAvoy gang, in a sense, Dr. Ellie, a super-villon.',\n",
       " 'Live Talk has opened up new possibilities at the same time with fresh ideas and bold destruction for many pieces of poetry.',\n",
       " \"The movie is different about the origin of the hero. If I had listened to Lee Dong-jin's live talk, I would have had a higher rating.\",\n",
       " \"I thought it would be Yongdusha Malan Mi, but it's a glass shrapnel unbraked 23 identity required to watch Glass half full.\",\n",
       " 'The first piece of glass in Comics, drawn after a long mystery, began to shine.',\n",
       " 'I wonder if the next hero will take the place of xxx the Begins xxx, which will be derived by a broken piece of glass.   Thank you, Shamalan, for the perfect ending, for breaking a new beginning.',\n",
       " \"I don't understand the behavior of girls.\",\n",
       " \"The broken glass is this dangerous.  Comics-loving Mr. Glass' big picture is quite unique and unconventional storytelling and the ending of the impressive trilogy.\",\n",
       " \"A new definition of 'Hero'\",\n",
       " 'The metaphor of broken glass is not enough to make a masterpiece.',\n",
       " 'No matter how hard I try to cover it, there is something that cannot be covered.    19 4 13  462',\n",
       " \"2019 01 17 004 CGV Yongsan I'Park Mall 1 with Sangwon Feat WATCHA Glass Special One Day spoiler. Why did you press report? You drew a big picture, but you tried to treat hero enthusiasts with no perspective, but you ended up with an unqualified medical practice, and you even feel embarrassed at the ending when McAvoy was finished with a sudden flop of clothes.  There's a big front-to-back gap. Do you have long legs?     The franchise is gradually darkening, and Bruce Willis is green James McAvoy and yellow mister glass is purple.\",\n",
       " \"Director Shamalang Malang's failure 1 The sloppy 2 that kills and unfolds all the characters I think you've seen all the episodes 3 that folds up all the descriptions 4 The boredom of waiting for a fresh twist5 The tedious list of consumeristic lines6 I'd like to know how many of the audience actually went out on the way, but I'm curious about another twist. I think director Shamalan really did all the good work.\",\n",
       " 'The real villain is between us, and the real hero is in us.',\n",
       " 'The 18 years of energy saved hit the hearts of the audience.',\n",
       " \"It's amazing how smart you must be to draw such a big picture 19 years ago when Unbreakable came out. I thought it was a low-budget bickering movie, but it was a surprise twist, and the son of Bruce Willis grew up in the Unbreakable Childhood and became an adult.\",\n",
       " \"Even with scientific evidence, our existence remains unchanged. Mr. Glass' real ability is faith. The last twist complements the previously sloppy and strange setting and situation, and represents the subject well.  Those who try to reverse the film's setting must reflect on themselves after watching the movie.\",\n",
       " \"If Unbreakable had novelty and slow 23 Identity coexisted with novelty and boredom, Glass had both novelty and regret.  It's a world view that leaves only freshness and deep regret in the end. Amac's limited edition poster is even better.\",\n",
       " \"Shamalan's repeated reversals were not just a twist, but a way for only him to see the world 0 in the Sun Summary Building, and ultimately the landscape portrayed was a big picture of how civilization deals with its members, and the chaos of each person who wants to define themselves as good, evil, or something else, but human civilization tries to provide psychological treatment for people who are beyond their standards, but will be taught in the real world.  The realization of this big picture spreads out to the world, but the three characters end their lives in their respective worlds, of which Mr. Glass dies believing he was right, but his death is not easily sacred and rather described as a ridiculous destruction of the body.  In this way, Shamalan's unique sense is filled.  And what's left of it is the open eyes of the rest of the world. I can't get rid of the unusual feeling when I think about the making of this movie. Especially, the unusual filming seems to declare that the film has a particular interest. The probability or balanced creation is no longer a big concern for Shamalan, even though his main feature, the twist, was used repeatedly, but it felt more important to win the opposite eyes of the world than pleasure.    Sixth Sense What's important to Shamalan in this movie is to mix the different worlds of the characters and create chaos, and that's to touch the perception of the people who deal with the chaos.  Even in the same hero movie, Shamalan was watching something extraordinary.  Instead of taking hero movies around heroes, they tell stories of different contexts by drawing hero movies in a triangular composition of three characters. The camera does not follow one person, but by following each character by including the acquaintances of three main characters. Sometimes, like a game, the point of constant change like a video-sharing website, sometimes like a CCTV or a camera on a monitor, is growing in many different ways, not just a single piece of work. The reason why it takes two hours for people to realize that it's a running time for the movie is that Joker ridiculed the false order of civilization in Dark Knight, the main theme of the two hero movies, because it's the balance of order and evil, as opposed to the fake order of civilization, and the broken glass image suggests the development of technology that helps to share human thoughts and broaden their horizons in the final scene.   But Thanos pretends to be disorderly. Joker and Thanos have their own world and justice. Joker doesn't explain the trigger, but Thanos does.  Likewise, the Glasians have their own world and justice, and their motives are explained.  Almost all hero movies have dealt with the problem of identity a number of times.  However, Glass focuses more on formality than on the movie, and if it was another hero movie, he would have fought over identity issues and went to the climax building, but the movie does not reach the building and draws until the competition ends in the open space, so the movie's appreciation is like looking into the image of what happens in the hearts of heroes and villains behind the movie.   The individual's self is not formed by itself, but by meeting with the world in a given environment. That's how Glass' three personalities were formed and redefined by each other's existence.  Mr. Glass tried to complete himself in his own way by directly coordinating the process.  The hero movie, which requires physical strength, reflects the society's support for strength, and he tried to find self-identity in his own way with an excellent brain in response to these artificial foundations.   The film, which tells the story of each person's own world, tells even the world of serial killers in an extension of 23 identity, which is about the right and wrong in that there is no controversial tone or justification, and that good and evil are defined by human relationships.Joker would have considered his philosophy right, and Thanos would have believed that he had acted justly from his point of view.  Mr. Glass was a villain himself and sacrificed people for a great cause like Thanos. Except for the Avengers 4, whose role has yet to come out in order, Glass is not very satisfied with the conclusion of the Avengers series. I agree with my friend that X-Men has come up. One of the most basic order that civilization puts forward is not by Thanos, but by the uncontrollable natural disaster.The possibility of talking about each other's world, like Glass, cannot be ignored, given that she portrays Thanos as another protagonist in the third episode.   In order to maintain order, society cuts people by various artificial standards, and that is a well-revealed psychological therapy scene. The purpose of psychological therapy in the movie is to define and destroy each person's faith in the world as a mental illness.  That's how civilization tames individuals.  Society will regard you as impure when you pose a threat to order.    There is something that feels like the original version of the Matrix.   In Glass, maintaining order is not for the individual, but for the whole world, so it works as a force to destroy each other's world. The psychotherapist in the movie diagnosed it as a mental illness that needs to be treated because the three characters played hero games for the fight for recognition, not justice.  But at the end of the day, she reveals her innermost thoughts that she wants to believe her diagnosis is wrong. Is the film saying that the therapist is wrong as a result? But it cannot be seen as that.  The psychotherapist diagnosed their heroism villain play with relative accuracy.  This is a movie about three wounded characters fighting for their own identity, but her claim that their abilities were just an illusion is somewhat ambiguous, given the various controls that control their abilities. I think it's fair to say that their abilities are cinematic allowance after the two previous episodes.  What's important is the purpose of psychotherapy, not to make people realize they don't have the ability, but to make them forget their existence.  The three characters end up believing in their own world, but at the same time succumbing to the power of artificial civilization, maintaining order, and boldly ending the series in the third installment when they enter the Manda Avengers series, which does not mean that the characters in the movie are apostles of chaos.  Each of them divided themselves into the same standard as society, and the whole film appears to be a process of a struggle for recognition by each of the three characters, in which the psychotherapist was right, so the film, which imaged the inner workings between the hero and the villain, was eventually inspired by the role-playing exhortation that they were also instilled by society to establish their own identity, without being aware of it. The belief that it could be an ideal led people to awakening.   The reason why I think Glass' most important position is that he needs to live in a much simpler world and see a bigger world of chaos and tension between order, and the final trackout of Bird's Eye View meant that to me, directors of the PS world make a movie in various ways and the directors of the world made a movie.  If I look at this movie as the latter, the movie may not be right, but if the language of the movie is actually different, some movies are closely woven and thorough, while some movies are well-organized, but some movies are intentionally made like that, it is meaningful in itself. I saw this movie as the latter.   We have already seen some of the previous works of Shamalan, which cannot be clearly explained even after seeing them, and thankfully, thanks to a friend who had seen through the extraordinaryness of Shamalan earlier, we could see this movie.   I mentioned the Dark Knight and the Avengers 3, and I think that in 2000, well before, Shamalan was already seeing through the heart of a hero movie. I don't know Shamalan, but I think I've used it right now.\",\n",
       " 'One broken piece makes a lot of shrapnel, which is not a typical hero movie, or if it has a good connection with a previous film that is more psychological-oriented than action, I hope to review and watch the previous movie personally with this view of the world.',\n",
       " 'Birth naturally occurs according to reason. Creation is created by someone according to the law. Is it created by faith as a superhero or created by a master? Is it a fact that exists clearly by a master? One subject that penetrated the trilogy of faith, and one profound question that determines a hero and a villain.',\n",
       " 'the confusion of identity and self-assurance, as well as the finish point of completing the superman, and the impatience of finishing the world view built through a number of trilogy of visionaries for new origins.',\n",
       " \"Shamalan seems to have a strange talent.  Even though it is a boring narrative, there is something that attracts people.  Glass also mixed the charm of split McAvoy, the previous work, and the genre of Unbreakable's unique heroics to create a strange hero, and I think it was successful.  I think people will like it or hate it, and I am close to the issue because there are already different likes and dislikes. Of course, it was a bit of a waste to see it through Yongsan IMAX.\",\n",
       " 'A movie about a cult of heroes with high expectations and great disappointment.',\n",
       " \"I'm looking forward to seeing the 23rd identity, but I was worried that I'd just run around like a McAvoy monster, so I was thinking about whether I should watch it or not, but the process of persuading the Comics superhuman phenomenon that came out to the real world after reporting and the very interesting approach to the hero was good. Like the Dark Knight, with the worst audience in January 28, 2019 ᅮᅮᅮᅮᅮᅮ리와리와리와리와리와리와리와리와리와리와리와리와리와리와리와리와리와커커커커커커커커커커커리와커커커커커커커커커커커커커커커커커커커커커커커커  I really wanted to bring out the beast from my bag.\",\n",
       " \"Here we go. I'm looking forward to it.Haha\",\n",
       " \"I support Night Shamalan's message.  But the characters of Unbreakable and Split are too precious to be buried in the message.\",\n",
       " \"Unbreakable's direct sequel was a good story in itself, and I thought there would never be a sequel because of the ending, but the sequel, which came out in 17 years, was the end of a way that was unexpected for the audience.     I liked the way he put together two movies that had slightly different characters.The overall tone of the movie is 23 Identity, and with the villain Glass on top of it, the suspense and new fun increased.But as expected, Shamalan's film always seems a little tired of his style of directing obsessed with the latter half of the play. No matter how much he didn't think about it, I think there's a huge difference between watching on the premise that there's going to be a twist, and making him emotional to match that idea, but now, as a filmmaker, I'm looking forward to his next work.\",\n",
       " \"It's hard again.\",\n",
       " \"Shamalan's fanaticism for Comic books\",\n",
       " 'A movie that would have worked better if it had been in the early 2000s before numerous superhero movies came out.',\n",
       " 'Superpowers are in both heroes and villains, and they can be just you. The end of the trilogy was the spirit, the body, and the last was the faith.',\n",
       " 'Glass reminds me of dandelion men. The edge of the glass is sharp, but the surface is as soft as the surface. The expression \"unbalanced\" reminds me of a single game. In fact, the movie compared 24 characters to the head of a character that shines like 24 glass with glass, which may be a hint of glass to the audience.',\n",
       " \"James McAvoy's acting is really great. How did the director wait for 20 years?\",\n",
       " 'I saw a really interesting mystery novel in the theater.',\n",
       " '\"Marta, Marta, you are concerned and concerned about many things.\" Luca Gospel 10:41',\n",
       " \"Houderne Movie's catchy fun to watch with one's eyes on\",\n",
       " \"This Is America is a classic mystery film that has been caught in the theater ever since the murder of the PS ORIENT express, which is a mystery show with dignity and fun.  I'm sure many of you will be happy to see it.   As I entered the middle of the PS movie, I was a bit disappointed with the density of the first half, but I hoped for a classic movie until the end of time and space, but I was impressed and satisfied with the movie that made me read it twice.  I recommend it.\",\n",
       " \"It's fun enough as a genre movie, but live talk to CGV University, a well-made movie that contains multi-layered messages such as humanism, metafiction, and political criticism.\",\n",
       " \"It's an obvious no-fun mystery novel. Ugh.\",\n",
       " 'Like a bowl of hot rice soup made of fresh ingredients, it was boiled in the traditional American way of this era.',\n",
       " 'a more severe vomiting than knives sharply adorned with mansions.',\n",
       " 'Well-made mystery thriller All Out Elemental entertainment that brings back the pleasure of authentic mystery novels perfectly settled in genre fun along a parabola that pierces the overall impasse.',\n",
       " \"There's a lot of people in the family who eat up their backs, and they're cute, they're made of mystery and black comedy wit.\",\n",
       " 'I hope this fascinating detective series will continue, and I have a feeling that it will be hard to continue this fresh mystery series.',\n",
       " 'MY HOUSEMY RULESMY COFFEEE',\n",
       " \"Wow, it's been a while since I've seen a movie with a genre that stimulates five senses, and the comfort of the plot is overwhelming, and the character's construction is also completely Neoclassic. I'm very happy to see it as a recently seen moon mystery. Anad armasum is pretty.\",\n",
       " \"Writing down characters with entertainment seems to show the perfect mystery novel of a dense plot, but Joker still holds the old house and uses a modern concept of time to mention his cell phone and Instagram, offering a very unbalanced time and space background, so I feel like I'm listening to the audio book perfectly at this point in time.\",\n",
       " 'December this year is really awesome, especially when I came out of this movie, I hope the Waubnua Blanc series will continue to come out.Of course, the screenplay should be this good, but it was fun enough to make me feel happy.👏👏',\n",
       " 'He who digs a pit for the purpose of dropping a man is bound to fall into it himself.',\n",
       " 'From snorting crazy scenario Spoiler Us to happy laszaro parasite Hustler and Knivesout, the topic of this year seems to be about the social class, and it seems that bypassing the genre of what we want to say about it has become a trend, and it\\'s actually quite unexpected that Knives Out is going to be quite socio-political.It would be nice to see this as a social experimental drama that digs into the human race through the ranks before it\\'s a mystery movie, with Ecuador, Uruguay, Brazil, etc., pretending to be for Marta on the outside, but in fact, the hypocrisy of the upper-class figures who don\\'t even know her real nationality, and the ending that clearly conveys the message by overthrowing the rank of the left and rightists.  But personally, I don\\'t think I want to see Knives Out that much.  Of course, it feels like this movie successfully placed the social class context in the form of thrilling detective stories, but if the social implications were deeper than many of the aforementioned films, I personally think it is not. Above all, if you look at Knives Out as a priority, I think it makes the movie flat.   Knives Out is a mystery mystery movie that I fell in love with before it was a social class allergy, and I think the social context was enough to leave a light margin for thought after watching the movie.   I don\\'t know for a class fable, but as a mystery movie, \"Nive-Out\" is really close to perfection. It\\'s a movie screenplay that makes me want to praise it until my mouth is dry. The screenplay of \"Nive-Out\" lightly ignores the audience\\'s concern that the secret suspense movie that the criminal is looking for is special in today\\'s world.   The first 20 minutes or so show us a familiar composition.  I don\\'t know much about the mysterious murder, but as a spectator of three suspects lying about a detective who seems to have an unusual corner, while working with Detective Blanc to examine who the culprit is, the movie falls 180 degrees behind the scenes.  Based on the flashback the movie shows us, the random reality that the culprit was Marta is revealed at once, and the movie that led the mystery-based mystery-based mystery-based mystery-based mystery-driven movie is a suspense play, which is possible because the movie has set Marta as the same person as the audience. The plot from now on is a screenplay of his own death written for Marta and a small act of reasoning ability to dig into it. The audience, who was working with Blanc, now joins Marta\\'s side and supports his slow investigation. While a series of tense scenes continue, the movie will subvert Halen\\'s composition again, the composition of the movie, which was hired by Marta vs. an unknown figure as Harlan\\'s player, turns the plot into a plot of Marta\\'s manslaughter. We\\'re joining forces and balancing the structure, and here\\'s what we need to say.  Perhaps from this point on, some people are showing off their reasoning power, saying they guessed that Ransom was the real culprit.  In my opinion, it\\'s good to know exactly who the culprit is, but if you flatter yourself as if you won the movie with it, you\\'re truly defeated. Even though it\\'s a genre that asks who the culprit is, the focus of Knives-Out is not on the criminal.   The goal of Knives Out is to twist and twist the plot of the story through a brilliant screenplay to give the audience a playful play that can be presented by a mystery.  In other words, Knives Out is actually a fake criminal, but from the very beginning of the release of the criminal, it\\'s nothing more than a cry for the audience not to focus on him.   What makes the screenplay feel really good is that the mystery and suspense come and go so efficiently in the process of forming several compositional changes.  Roughly summed up, in the structure of Marta Lansom vs Left-wing Family vs Right-wing Family, the movie adds mystery and adds the classic fun of mystery detective dramas to the fresh suspense structure.  The mystery is as follows: Who hired Blanc? If you hired Blanc, there is someone who predicted the case beforehand. Then, is there a real culprit? Is there an unknown person who is threatening Marta? Are these two people who are the same person? The movie that has gone through many twists and turns ends the play in a rather classic form of detective Jang Gwang-seol.  In other words, the classic setting of the situation and space is refreshingly unraveled through an unusual development through a modern background and ended in the most classical way, and many social class motifs throughout the movie give the movie a deep impression so that the thrilling fun of this mystery is not volatile.   In this year\\'s script, which was expected to be \"Once Upon a Time in Hollywood\" and \"The Story of Marriage\" and \"The Three Wave War of Parasites,\" https m blog naver com PostView nn BlogId hc24851 logNo 221732005405 NavType tl',\n",
       " 'Hitchcock method of solving mysteries',\n",
       " 'In this gutter, the only place where we can be noble, common sense and beautiful is in our respective memories, by the way, I was itching to say it out loud.',\n",
       " '130 minutes of uninterrupted concentration and immersion',\n",
       " \"Conan's most perfect detective in the classic genre of authentic mystery plays.\",\n",
       " 'The beginning was a classic mystery with the feeling of Agatha Christie, but the more I went back, the more thriller comedy I added, and the more interesting the fun ending was as simple and neat as the mystery.',\n",
       " \"It was so much fun. I couldn't wait to see it, so I risked my tiredness to watch it. It felt like I was reading Christie's novel when I was in middle school. I really like all the music production stories. When Hwang Seok-hee's translator's name came up after the director's name, I felt good as if I met my favorite friend. But I also found a sense of closeness to myself as if I knew who translated the subtitles. It was cute when I was chasing a slow car. It was good because there were quite a few people listening to music until the ending credits went up. I was really very tired but I feel very happy to see it after seeing it. Translator Hwang Seok-hee said it was fun to translate it, so I'm looking forward to it.\",\n",
       " \"2019 12 04 089 Daehan Theater Hall 4. Don't try so hard to win. Draw a pretty parabola. It's been a while. It's even a pleasant disturbance.  All eyes are on the pretty production and even the music is so good.\",\n",
       " 'A good and complete mystery movie that came like a rain in the drought could have already guaranteed fun, but the power of casting has been added. a pleasant satire is a bonus.',\n",
       " \"It's like a modern reinterpretation of Agatha Christie's novel.  Between elegant wit and neat production, the characters play as if they were flying.\",\n",
       " \"It was a mystery drama where I could feel the love of a warm family. From the beginning of the movie, I watched the movie with the intention of matching the culprit. Watching the movie, people who are not the criminal are screened out, but I don't know the criminal  So I just gave up and watched it. I thought the detective would tell me who did it.  The conclusion was a little disappointing because the criminal was different from what I thought, but the immersion was the best.\",\n",
       " 'The level of immersion is considerable and the story is perfect.',\n",
       " \"It's fun to watch Detective Conan. There's a hole in the middle, like a real-life edition of the detective Conan. Her awkwardness that she knew from the beginning, but Craig's adventure to find the real thing was already completed in the second half.   Choosing the right girl was my grandfather's divine move 202 10 309.\",\n",
       " 'The smell of Van Dain, a retro mystery that has been rare lately.',\n",
       " \"It was a classic fantasy mystery that brought joy beyond joy and longing, and it was an interesting search for the culprit in Tikitaka, played by the people of the bean powder family. It was a wonderful entertainment film that reminded us of the classic mystery that once lived in such a spectacular reunion with solid script and elegant editing.  I was expecting the original, but it's not. It turns out that director Ryan Johnson was also a screenwriter. I'd like to pay tribute to director Ryan Johnson, who kept his interest to the end of his two-hour running time without any boredom.  That's why this is the second one. I never thought I'd be a fan of a Craig actor who'd go to a movie other than 007. Isn't it so cute to preach Donutron with Blanc's serious Southern accent?\",\n",
       " 'Feels like I read a fun mystery novel for two hours.',\n",
       " 'Daniel Craig, not Bond, is definitely the best mountain cabin mystery where everyone in the audience does their part.',\n",
       " 'The 2019 classic mystery movie, \"The Donut Guest Exhibition,\" is also CGV.',\n",
       " \"LOL. LOL. I love this genre. It's even funny. LOL. He knows he's going to die, and he's just doing what I tell him to do. He's really doing that. His heart is beating so fast that he can't even get into the movie at all. His characters are alive, so he's been enjoying the movie.\",\n",
       " 'Those middle-class hypocrites lack every inch of vomit.',\n",
       " \"How long has it been since I felt this genre of pleasure? It's the power of plot to keep it to the end.\",\n",
       " \"When I was young, I enjoyed watching detective academy Q and Conan, so I'm not nervous. It shouldn't have ended like this, but it's over.\",\n",
       " \"Omok has a winning pattern, so it's also called Jjabari.  It looks easy, but when the white stone black stone fills the board, it's not just one point of concentration, but the connection point is scary, but Omok's atmosphere is not as heavy as Go. It tastes like that.\",\n",
       " 'observer of truth',\n",
       " \"He's a director who's become a public enemy of movie fans, but I don't think he'll even be able to talk about it in the future.  Personally, it showed disappointment and limitations. Daniel Craig was actually better at this role than James Bond. I feel like everything except for the main roles has been reduced to props. Should I have consumed famous actors like this?\",\n",
       " 'a black comedy mystery play in which the essential parasites, who have mistaken being born at the sacrifice and dedication of victim X and suspect Y, hit a triple, and who have faithfully carried out their duties.',\n",
       " 'make a mockery of the modern world by using the classical form.',\n",
       " 'The family that Grandpa took care of. Marta who took care of Grandpa.',\n",
       " 'The history of victory boundery is defined by the owner of the interest, but fundamentally the fence is built on a horizontal plain, not on top of the shackles of the upper and lower levels. p. s. This bitter fable is not limited to the United States, which is aimed at the Trump era, but also penetrates the current trend of Korea.  Like a hole-in-the-hole doughnut.',\n",
       " 'Casting Captain America on Lansom was a sign of God.',\n",
       " \"Beautiful Mi-Jang-sen Dense Character Smooth Story-The taste of the classic is so neat and refreshing that you can't help but focus on it.\",\n",
       " 'I like the way good beats evil when I show you the results of a fresh mystery movie.',\n",
       " 'Existence',\n",
       " \"It's increasing but doesn't do anywhere\",\n",
       " \"It's fresh and impressive in its own way, but unfortunately it's boring. The material's good, but this isn't good enough. They're expecting too much.\",\n",
       " \"If you can watch this movie through boredom, you can experience your own special employment test 199, 181195 That's fresh.\",\n",
       " \"I'm sorry, this is no fun. Sorry.\",\n",
       " \"There's a slight difference between ingenuity and vanity.\",\n",
       " 'unkind setting and incomprehensible development',\n",
       " 'I understand bad reviews, but I personally liked the material and genre, and the character was fine because he was mad at the bad guy.',\n",
       " 'I think it would have been much more fun if I just got a script instead of watching a movie.  The material and the psychological description of the character were good, but the production was so boring.',\n",
       " 'a film that tests audience patience.',\n",
       " 'The disappointment that comes as much as I expected.',\n",
       " 'exam questions',\n",
       " 'Not funny',\n",
       " 'The most terrifying entrance exam in my life.',\n",
       " 'There is no clear explanation why people are having an interview that is not even supposed to say this.',\n",
       " 'The ending was ridiculous and unkind, but the immersion was enormous.',\n",
       " 'the mild taste of Saw and Cube',\n",
       " 'The answer is no, the immersion is good but the completeness is good.',\n",
       " \"I can't do anything if you finish like that. You should've done more.\",\n",
       " \"The movie itself was fascinating.It's similar to Fermat's secret room, but personally it's better.\",\n",
       " 'Too many questions and answers spring, May 26, 2018',\n",
       " 'Materials and settings are good',\n",
       " 'It was good until mid- to late-half, but forced at the end.',\n",
       " 'The difficulty of finding a job overlaps with the reality, making it seem like a stranger.',\n",
       " 'If you drag it out like this, the movie will be boring.',\n",
       " 'typical yongdu-sami ending',\n",
       " \"I was worried because the reviews were so bad, but my taste was unexpectedly good and good.  If the ending of everyone's disappointment is not bad, it seems to be a movie with a lot of tastes.\",\n",
       " 'It starts with Ig-Jam and ends with Ig-N-Jam.',\n",
       " \"I love this kind of stuff, so it's fun. It's sad to see the latter part of the spring, but among the limited space-based works, it seems like it's a heavy hit.\",\n",
       " \"From some point on, people only expect a twist in the movie. If you don't expect a twist, the movie is quite refreshing.\",\n",
       " 'A little forced, lol',\n",
       " \"a movie that's comfortable to just explain that it's not fun.\",\n",
       " 'I want to say that I portrayed the repercussions of prejudice and stereotypes, but the answer was too insensitive.',\n",
       " \"Let's waste this movie when we have time.\",\n",
       " 'I tried to express reality, but the audience was embarrassed by the nonsense question.',\n",
       " \"The content is a bit disappointing, but in a limited space, the thriller was well created. But my boyfriend said that the prince's cool prince became so mean.\",\n",
       " 'poor production compared to good material',\n",
       " 'The movie \"Egg Jam Test,\" which is a representative movie that people like and dislike, was a fresh concept of 80-minute brain fight with white paper, and it was a new feeling of pressure. Originally, I watched this movie because of my personal preference for thriller movies, but after the movie ended, I kept thinking and curious about the movie with a twist, like the movie\\'s ending, but after interpreting the ending, it was a bit comfortable to interpret the ending. It was a bit boring between the secret room and thriller movie. But I think that\\'s a little obvious because of the nature of the secret room movie. I think it\\'s a really good movie for B-class killing time, which is more like a secret thriller movie.',\n",
       " \"I don't know if it was the last half of this movie, but it didn't feel like a twist, and it makes a bit of an predictable story, for example, a company mention in the middle of the movie, a drug is being developed, and this is just a killing-time problem-solving home, but I hope there will be a lot of movies like this kind of movies.\",\n",
       " 'Inverted and counterargumentary all together, but trap is no fun.',\n",
       " 'I felt something was missing because of the boredom. It was an empty bowl.',\n",
       " \"It's fun, but it's not fun.\",\n",
       " 'How to coexist, but the lack of probable explanation in the beginning of the interview meant that the audience had to unilaterally watch the ways to solve the problem, not to deduce it together.',\n",
       " \"It's fun, but the answer is ridiculous.\",\n",
       " 'I wonder what the answer is, so I see the end. somewhere between novelty and absurdity',\n",
       " 'The trash among the trash is this movie.',\n",
       " 'I think the movie is well made with low budget. We help each other find questions that are not answers, but the psychology of suspecting each other is well expressed. Because there was no climax, there was a lack of impact and the end was empty.',\n",
       " 'It was a thriller with a good intention to be sleepy, but the production was disappointing.',\n",
       " \"Christoph. Completely 90's emotion itself.\",\n",
       " \"Frozen 2 depicts Elsa and Anna's process of becoming adults from a child, so the meaning of being an adult was to protect the person they cared for with responsibility.  It was lost, it was lost, it was lost, it was lost forever, and it was running recklessly towards the waves.  It was sinking down there, but it held out and climbed back up again.   I was grateful regardless of whether it was directed or sung. These days, I couldn't even know what was so hard or why, but thanks to Olaf, the grateful movie that was really comforting and touching to me, I laughed a lot after a long time.   There's a moment like that when you evaluate a movie, it's more about how I feel or who I'm with when I watch a movie than how good this movie is.  To me, this movie feels like I'm alone for no reason, so I'm starting to worry about reaching out to people and getting older even though I haven't achieved anything, and I'm starting to compare with others. Thank you for the movie that gave me the strength to endure. I'll watch it on the day after the first release of CGV Dongtan. The Megabox Yeongtongmx Hall.\",\n",
       " \"Now leave the movie to Olaf.Kim Kyung-sik, you need to be a little nervous.   The killing number of this movie is a story deeper than the story of Ah Ah Ah Ah, and the theme of Let It Go. The most impressive graphics and descriptions of the powerful killing number were the scenes of Elsa crossing the sea. My favorite song was Show Yourself Christopher's emotional music video of the 80's and 90's, which was a little bit more like conflict and conflict than a deeper story.    Elsa. Elsa. If I had the best daughter, I would have used her as an excuse and bought her doll.\",\n",
       " 'To be splendid and beautiful and to be applied like the first.',\n",
       " 'The summary is to Olaf.',\n",
       " \"The first part contains a story about the process of recognizing and reconciling oneself, and the second part contains not only a bold story about the process of finding and establishing one's identity, but also a complete story of Christoph's 90s pop-style music video that will make you laugh even if you listen to the highest part of the show. The judge is a different form of salvation before watching and Elsa Rashidzigidzalvos. Elsa's that have been raised since a former girlfriend's homosexual and Elsa Anna's parents first New Year's Day is also become more likely to say that and consideration.There are bars Valentine's Day in relation to the public a preview also increase the credibility that it seems.   The second theory noted that the new character's hair color matches his parents' hair color.   There's a theory that blonde Elsa안n or her parents were young.  There's a girl and a boy, and a girl has the ability to create wind, and the trailer shows Anna struggling in her fall-style clothes, and the winter and autumn coexist.  I can guess that the power of autumn has become stronger.  The first one never mentioned the source of Elsa's power.  But Anna's hidden power is revealed, and it is believed that she will find the secret in her parents' childhood.  And in the process, I think it's going to be about your identity and you're going to mature. There's no footage of Elsa Anna Christopher and her new character on one screen in the trailer, and it feels like they're deliberately separated, which makes it even more credible.   I'm excited to meet a new Elsa Ana Olaf no matter what.    Elsa has come back with a stronger look, and it's so cool to see her running with her determined eyes tied to her head. In the first episode, there's ice that's different from the ice that was made when she crossed the river or the sea. I'm looking forward to seeing why Elsa has to pierce the ocean.\",\n",
       " 'Elsa, bear the weight of the crown.',\n",
       " \"As a result of the collapse of the build-up, the visual, OST, and characters barely revived, parents with young children feel ready for the next five years, but the storytelling of this second work is clearly far behind the previous one as they continue to carry out false and clumsy developments.  Of course, the overall atmosphere is darker than the previous one, and as we approach it with a more serious attitude, it can be seen as a positive change that the target has been changed to an adult rather than a child, but the story itself is only about accepting the previous work's rice cake, but it remains to be seen whether it showed more than that except for technical factors. I should be satisfied with the fact that my eyes and ears were good, but Olaf is the summary master.\",\n",
       " \"My dear Olaf, I'm a little upset, but when I grow up, there's more things I can't understand, but it'll be okay. You don't understand anything, but I'm a snowman who already knows what I'm supposed to do.\",\n",
       " \"Honestly, I didn't enjoy Frozen 1 that much, but it's so much fun.  Elsa is becoming more beautiful. The real song and the visual beauty are better. If 1 was more about children, I would like to see it again at Sound Flax theater. PS Christopher is singing solo songs by himself and it's so much fun. LOL\",\n",
       " 'One step back. Nevertheless, the Frozen Syndrome will continue.',\n",
       " \"The quality of the images and the composition of the stories that are so poor compared to the OSTs have not only undermined the immersion level by not being clear in the head, but also by solving the conflict elements in a ridiculous and vain manner, the expectations of the work have fallen to the bottom. Olaf's body gags and 90 of the jokes have been passed by a hue color, and the relationship between the characters and the emotional lines are too shallow, except Elsa and Anna.  But as expected of Disney's name-belts, the quality is really good. If Makoto Shinkai showed us the quality and composition that can be shown in 2D animations, 3D shows Disney putting a lot of energy into the highlight production to surpass the industry's best previous film Let It Go, but the problem is that the intention is too obvious, I think it made a good impression.\",\n",
       " 'When I think of Frozen, I think of Hunhee, a middle school student friend. He always took garlic and onion juice and took care of his health at that age.  As many of you know, if you sweat a lot on onions and garlic, you\\'ll smell bad on your own when your armpits get warm in the summer. Unfortunately, it came from the underarm of someone\\'s underarm, such as the smell of someone\\'s eggs and rotting away.  His nickname eventually became the king of armpits, and according to the millennials, he called it \"armpit king\" comfortably, and enjoyed the interior of the city infinitely during the summer.  \"I think of \\'Galbi of Myeongnyunjin\\'.\" \"I think of \\'Note 10\\' in the expression \\'Galbi of Myeongnyunjin\\' and \\'Galbi of Myeongnyunjin\\' are enjoying it infinitely.\" \"I think of Minjun who bought an iPhone in an infinite row on the first day of sales, and he drank and lost it in a month after buying the iPhone, showing how he bought it again. In conclusion, I think Samsung is better than Apple. I remember Jisoo, who was trying to get an A. During the final exam, I slept late and got an F instead of A. I remember when he walked in tears and I handed him a tissue, and he was throwing a tissue because he said he didn\\'t need it, and he said congratulations to me for being a piece of tissue in his life, and I almost lost it.',\n",
       " 'In Kiss and Cryzone, sisters hug each other hugging Olaf dolls and continuing the program even after they fell on their red cheeks and big eyes waiting to be judged, but the result was cold.',\n",
       " 'Aha, ha, ha, ha, ecstasy. I have my own PS staff roll-end cookie.  PS If the previous film deals with reconciliation with sisters, this movie deals with the theme of reconciliation between man and nature. PS This is the most satisfying Disney movie I\\'ve ever seen this year.  It\\'s full of fascinating visuals and melodies to the point where the expression \"worked\" is not enough.  Personally, the most impressive thing is the water graphics.   Real-life graphics make sense. PS main song, \"Indionnon,\" is good, but personally, Olaf\\'s solo song is the most memorable. Being an adult is a fantasy that fits me to the world, is a fantasy that makes me happy for those who have fantasies, and who are afraid to change from the reality of adults.',\n",
       " \"It's shallow ᅲ I don't think the previous episode was this neat, but when I sang Christoph's song, I laughed out loud. I tried to make it look more mature. But I couldn't keep up with it. It's not going to be moving because it's not very likely that it's going to be easy, and it's just a fantastic show. I'm pretty impressed by the preview.\",\n",
       " 'I\\'m already a little worried about the children singing \"Into the Unknown\" even though it\\'s not the same hit song as \"What Freezes Must How Let It Be\" in Winter Kingdom, which was better overall than Elsa\\'s visuals.   Christoph, what\\'s wrong with you?',\n",
       " \"The development of Disney's second consecutive swinging moment following Maleficent 2 is too urgent. Even if the running time was a little longer, what if we could have refined the story a little bit more? I regret the series of sudden developments that are not clear on the outcome, and most of all, Christoff's utilization is the most regrettable.In this Frozen, the biggest drawback was that Christophe was consumed only as a character for a dramatic scene in the second half, and the lack of the charm of the story made it sad that all the characters seem to have lost a lot of their charm compared to the previous one.All I got was one spirit of fire that looked like a lizard.\",\n",
       " 'In addition to the details and fragmentation of the conflict resolution that falls short of the depth of the visualisation technology system, the fact that it is easy to realize and accept quickly enough to be embarrassed. The reason for the lack of OST that leaves lingering imagery may not be good for the box office success of the first episode of Star Live was that the lack of OST gave half a reason for the popularity.',\n",
       " 'The past is not a dusty album that we take out from the drawer, but it is a possibility that we can face our past side by side with our present image in the album and hope for a better future in the future, especially with children who usually have little chance to go to the theater, I watched the movie Frozen II.  First of all, the joy of meeting excited friends even before watching the movie, and the warmth of family-level audiences, including children who filled the theater, gave us a glimpse of the infinite possibilities of the movie media.  Most of all, it\\'s especially meaningful that I watched this movie with children who are going to be more abundant and natural than adults like me to wish for the days ahead rather than reflecting on or reminiscing about the past life.  The first thing that came to mind while watching the movie was Olaf\\'s Frozen Adventure, a short animation that was released before the movie Coco was screened.   Frozen 2 came as if it were a more sophisticated and lengthy flow of short animation featuring a kind of admiration for tradition and memory within the same worldview.  For someone, the past can be regarded as just a tool to cling to or settle down.  Looking back on the journey of life as it progresses, it\\'s thought to be nothing but regret and regret.  It just feels like the future is progress and the past is backward.   It seems like an old-fashioned attitude to wish for something that doesn\\'t change.  However, the \"old days\" and \"unchanging\" from the Frozen Worldview serve as a window and tool for all the relationships we have in our time and space to correct the distorted past and dream of a better future, and to fulfill the dream in reality, especially watching the movie Sven moving in a counterclockwise direction at the end of the play, in conjunction with the meaning of the past\" revealed in Elsa and Anna\\'s journey.  And through \\'Pictures that are considered like magic\\' in the play, you can feel the message that we are now who can hope for a better future by accepting the past as beautiful memories that won\\'t change with photographs, not as us trapped in the picture.   The story of \"Water that has gone through nature, including many animals and plants, mentioned by Olaf, who plays the role of licorice in the play, has no choice but to contain many memories and memories in its own right,\" also makes the movie\\'s message richer.    In addition, the symbolic and natural portrayal of human problems in modern society is also impressive.  Like a dam, artificial structures that go against the flow of nature and individual desires and ignorance of powerful individuals further embody the message that the film wants to reveal by locking the confrontation between nations or peoples in the eyes of regret and regret.   I sincerely hope that all children who watched the movie Frozen 2 will be able to explore their own wonderful future beyond the spectacular special effects of the movie and the feast of charming characters.',\n",
       " 'Spoiler State\\'s 1 Dam weakened the connection between humans and spirits and still seemed powerful. Why didn\\'t the spirits break the dam before Elsa came? Their abilities were strong enough to affect the remote Arendelle, and eventually the rock giant was able to break the dam. The reason why Elsa was called in was to evacuate the Arendel people.  But that doesn\\'t explain why Elsa had to break the dam as soon as she was evacuated, instead of breaking it. Because she had to destroy the dam and give Noddra a chance to apologize for it. Then Elsa, who tried to find out why she had to freeze and realize why she broke the dam, went to the forbidden area to find out the most important truth, or she could barely send a message to Grandfather Pavie.   The Nodderdra people and the Arendel soldiers were innocent. But why did they have to stay locked in a fog that could not see the sky for more than 30 years until the two royal families came to self-realize? If the dam had ruined their surroundings, it would be normal to flee and live in a safe place, but because of the fog, the Noddlers and the Arendel soldiers were alive and alive.   Even my grandfather, who had a bad heart, must have passed away.  It seems to be in line with the theme of the movie about the relationship between Nodderdra and Arendelle communicating with each other and not being able to resolve the political issue, but the movie does not give any weight to the people of Arendel, including grandfather\\'s death, parents\\' death, dam destruction, 30 years of confinement, all extreme settings are the basis for the growth story of the two heroes.  After a group of talented and naturally courageous characters appeared with snowmen to resolve the 30-year-old conflict, one becomes a spirit and one becomes a king. Arendel, a movie that believes in the king\\'s ability rather than the ability of the three citizens, has no independent thoughts or political voice. In this typical royal film, democracy is strong and Elsa, the king\\'s daughter, handed over the throne to her younger brother, claiming to be a female hero.  While the royal family Elsa and Anna were working hard as women, the people of Arendel had no understanding of the situation and had to endure without a home, leaving the fate of the two women to the fate of the nation, and Nordardra people had to live in captivity for 30 years without seeing the sun because of fog.  I once criticized Elsa\\'s absolute power to wake up the whole country\\'s people and search the forest for a snowman, but Frozen 2 confirmed and killed them somehow. My comment was gone and I decided to quote Olaf\\'s Winter Kingdom Adventure Comment, written by my younger brother, in the middle of the night and in the middle of the snow covered with men\\'s and women\\'s holidays. If you look at the other reason why the dam is so poor and the dam is closed for 430 years, only those who can see the memory of water can realize the truth of history, so they waited until Elsa was born.  In the end, he corrected history with an impossible magic that does not exist in the real world, but blocked the opportunity to come out of the fog and correct history in a realistic way.  If Elsa was born by chance and not by the Spirits, the fifth spirit might never have appeared, or if the Spirits had given it to Elsa, not someone else, why would it have been delayed 30 years by giving it to her, and that\\'s the premise that only the granddaughters of the grandfather and Nordard Arendelle deserve it.  If you don\\'t have to be a mixed-race person, you can realize your ancestors\\' mistakes, so it\\'s just an epic story about finding your own self with innate abilities. It\\'s just a matter of justification for acting as a bridge. Elsa and Anna are a mixed-blood. They\\'re far from the normel-looking than any Arendel person. What happened? They\\'re different races and different cultures, but why they\\'re just like Americans.  While American actors were writing American English, Africa was just a visual musical style.  It can be seen in Korean scenes how roughly he described other cultures. He took them outside of Korea, insisted that it was Korea, and Korean-American was so bad at acting as a Busan lady that he made a dubbing board in Korea, but no matter how much he shouted PC while looking at poor Korean, the lioness of Lion King is described as a mother or a wife, and you love me. Instead, it is expressed as breaking off the human connection with the Spirit.  In fact, the Sami people demonstrated against the Norwegian government, fought legally, and did everything they could, but the film locked the Norderline until Elsa, the imperialist royal family, solved the problem of self-reliance and added to the dam, and the people of Arendel, did not join in solving the problem, and as a result, there is no discussion of the dam in the real world, the issue of confrontation between the environmental pollution and the political dam.  People in the fog are not at the point where the misunderstanding of history has been resolved, but at the same time as the dam is destroyed.   The moment Elsa finds out the misunderstanding of history, she freezes Elsa instead of officially apologizing to Nodderra, instead of washing her fleet with dam destruction, and the descendants of imperialism remain in nature to prevent future dangers, but they cannot destroy her.  So the liquidation of the original sin will be calculated, and Arendelle will be forever, of course, is an excessive interpretation.  It\\'s a children\\'s movie, so you have to make it better.  The children had to grow up watching Elsa not blocking the waves, but rebuilding Arendelle and Nodderra\\'s collapse after their respective positions collided, but they had already watched the movie. It was similar in that it was the story of Nausica Do, a female hero who had been 35 years ahead of her, but of course, the conflict and environmental issues between the two human powers were centered on the conflict and environmental issues.  \"The world could have been a better place, but we adults couldn\\'t,\" he said. \"But why don\\'t we start an unbeatable fight with the war?\"   There is no such thing in Frozen II.  Dam is a bad thing, and breaking the dam resolves 30 years of trouble, and dreams of Elsa becoming a spirit and Anna becoming a king. 7 This movie stops at the point where we have to protect it because of the spirit. There is no discussion about the environment, but we are leaning on the mysticism of nature, but we know that Disney is not free from environmental pollution, and that the real urban civilization that created the dam has driven magic away from this world.  After destroying the dam, the movie ties Elsa\\'s nature with Anna\\'s civilization, which binds nature and human civilization into a family, and Elsa is mistranslated as a ball, but she is asked to attend a family gathering. Disney in reality is frantically printing plastic toys for Elsa, Anna, Olaf, and Kristoff and Sven.  I think that the level of public opinion that Disney incites people with its fancy, messy PC fad is just the level of the Arendelle people think.  The political correctness of this movie is just a shell, but Disney pretends to be a pioneer. Frozen 2 surpassed a million in just two days after its release.  The end game took six hours. I had no movie to watch with my friend, so I forced myself to watch this movie.  The seat occupancy rate of Frozen 2 is 80 percent, but other movies had a strange time zone.  The world is not going the way we want it to be, not the citizens, but the people, and I just want Elsa to solve everything.',\n",
       " 'Elsa with her hair down. Best story ever.',\n",
       " \"It's enough to captivate with its spectacular visual beauty and addictive music.\",\n",
       " \"It is no exaggeration to say that the magic-based pleasure is the magic itself, given that the musical is more faithful to the music than the previous work, but it is often hard to erase the impression that the sequence of songs resolves all the situations and conflicts and jumps, and that the characters are generally flat and the four spirits appear, so the magic-based attractions are abundant.  The character is simpler and has many narrative holes, but it still gives you pleasure.  Especially, snowman Ulaf's charm and ingenious gag code add to the play's vitality. Not only is the magical world advantage that animations that are more faithful to the eye level of children's audiences can realize, but also the disappointment is Disney's.\",\n",
       " \"Disney's sequel always shows honesty, consuming more of the organs shown in the previous one, but it certainly shows enough of this year's last blockbuster, which actually feels like it's worse than the previous one, but still good music and videos wake children up.\",\n",
       " \"Personally, I was so excited that I couldn't meet my expectations for 1 and I didn't expect 2 so it was better than I thought.  Although the development was somewhat distracting, I think the points to grab the fan's attention were well-made. I got tired of the songs of 1 because they were so catchy at once, but I think the more I think about them, the better it will be.   I didn't know Christophe had a point to be a fan of. Ending Credit Lock versionost is so good. Olaf Chewduk Fire Spirit reminds me of Rapunzel's chameleon. Rapunzel grew her hair, played Anna, Eugene gained weight, dyed her hair, Christophe, colored chameleon, made her a spirit of fire, and spoke to you in the second hall.\",\n",
       " \"The story and music of the original soundtrack, which were a huge hit in the wake of Elsa's sudden adventure, revealed itself to the world view and the story of the movie, which was an interesting extension of her previous work.  This Winter Kingdom 2 Ulaf, who failed to communicate with either side of the world, showed Zazza Bingks.\",\n",
       " 'The days of walking on water are over.',\n",
       " 'characters growing once again in a wider background and a simpler plot.',\n",
       " \"I saw hope while looking at Elsa, who is not daunted by the hardships, but it doesn't really touch me except for the gorgeous graphic beauty and the big Olaf. It's like covering hair loss with a very cool wig. I didn't watch the first episode, so I like Toy Story or Inside Out.\",\n",
       " 'The impact of the previous movie and Let It Go is so big that it is a good family movie or a dating movie with children. The story of just a trendy development can be very different.',\n",
       " 'There are many songs to listen to and escape from the simplicity of the first episode. Elsa is so good.I\\'m happy that the songs I put in the so-called \"so-so-so\" are so pleasing to my ears that it\\'s worth saving.  I came home with a good feeling of ending credits.  1912 2 1742 Yongin Yeokbuk Lotte Cinema PM3 20',\n",
       " 'Let it go against the rule of law, Into the unknown and Show yourself.',\n",
       " \"Now I have to admit it. Animation movie is fun. Thanks to my nephew, my uncle realized the taste of animation. From the background of the character, I could feel the speed, immersion, wit, and bright effect, good songs, and many actions were better.  If you don't know the future, do what you can now.\",\n",
       " 'The theme song \"Into the Unknown\" and \"Show Yourself\" will also continue to be heard like the first episode, Let it go.   Christoph Lost in Woods, who gives the impression of a 90s pop music video, was also very funny.  There were many beautiful scenes in funny scenes, but I think the best of them is Olaf\\'s gag, Imdap, and ending scene where the audio is not empty.   Make sure you watch the cookie video.',\n",
       " 'The real hero of Frozen 2 is Panic at the Disco in search of the basis of nature and magic.',\n",
       " \"There are three works that Disney did not do, first of all, which is Pocahontas, second of them is about a black princess and a white prince, and thirdly, Frozen 2. Elsaana's grandfather, like Columbus, and the Mestizo Elsa and Anna, are leaving to correct their mistakes, but the people in the northern part of the country are all white and the director's characters are white and made in English-language animation.It was like watching Hontas 3. All I have to say is that the Arendelle soldiers and the natives who were trapped in the curse get out of the curse of Elsa and Anna's salvation and penitence, and each one of them makes a throne for Disney. Haha\",\n",
       " \"Earlier this year, I saw a meme that said when a movie would come out.  I saw many interesting movies there, and the most anticipated movie among them was Frozen 2. With such high expectations, I reserved the earliest time on the first day of its release, but the conclusion was good. I think I got what I expected. I saw the first episode and said let it go music video, but this time, I don't think I'm going to hear that in many ways.  This is the Disney movie.\",\n",
       " 'To be an adult is to align myself with the world.',\n",
       " \"I didn't think about anything else, and I thought that if Olaf had an internal organs and blood, he would have become a heavenly old fish.\",\n",
       " 'There were scenes where I felt burdened by the success of the first movie, and I felt that it was too much, but the good development of Disney makes me laugh anyway.',\n",
       " 'If Frozen 1 was a reassuring story for Elsa wandering around, 2 is a story that ends the source of her wandering life, and it\\'s okay now, it\\'s really okay, and I\\'ll tell you again about true love in the first episode.  With Olaf talking about things that don\\'t change over time by extending the scope to his family, and with Elsa\\'s fingertips asking me to borrow Kristoff\\'s mouth saying that he wants to stay with you even though I\\'m so clumsy, or if I can make a snowman, there\\'s a distracting feeling just by looking at the story. Four spirits, one more character, one song, and one more person walking back and so that nobody gets hurt. It\\'s the same. The images of faith shown by the characters are impressive. Anna and Elsa loved each other so much that they couldn\\'t trust each other. Christophe asks, \"What can we do now, even when our faith was shaken?\" 4 Olaf again.  You\\'re not only good at summing up, you\\'re good at echoing, you\\'re a follow-up without Let It Go.',\n",
       " \"Music and visual beauty are so neat that I can't help but eat half of it.\",\n",
       " \"I don't forget my loyalty as a sequel to the Pirates of the Caribbean world, borrowing the formula, theme and double-track of the whole story.\",\n",
       " \"I'm looking forward to what kind of OS I've prepared this time 😗Frozen 2 trailer.  https youtu be tHU9lqm4O0I\",\n",
       " 'War is survival. My tears at the end were not touching, but joy at survival.',\n",
       " 'In the battles of advanced countries, there is a dilemma when the operation and humanitarian issues are encountered.  Not just them, but we have to think about what it would be like to be in this dilemma.',\n",
       " 'After Black Hawkdown, there was a Ronsorvivor.',\n",
       " 'Brave men built a proud tradition, fought for the fame they had to keep and died.',\n",
       " \"I don't care about religion, race, or anything. I can see that no one likes war.\",\n",
       " \"We have a storm inside us, a passion that drives us beyond the limits of fiery, river-like fighting spirit, into the cold, dark valley that drives us to the limit, and the courage to fight on the enemy's land, we fought for everything we had to fight for, for the bravery of the brave built a tradition, fought for the fame they had to keep, and died.                                                      It may seem out of the ordinary to go down to the plains and sweep the enemies out of harm's way, given that the gunpoint facing them is always trying to figure out how to defeat them, let alone retreat, and that they are entitled to overcome any adversity, even though they are badly injured, it may seem like they are out of order, but they are out of control.  You can't jump into a bloody battlefield with your naked mind, so you survive. You die for your country. I'm going to live for my country.Without a strong desire, you can never survive in this fierce scene.  I'd like to see more of that warm sunlight while I'm shooting.  I can't be shot down here by such nameless beards.  At least for my family who are waiting for me at home, it's no longer just to save themselves. They know better that they have to fight to win a sweet victory, so they can jog the movie's best scene, 🎥 1 Jogging.                                                                                                    I thought it was a cold-hearted movie that shows the horrors of the war right after the opening of the monologue of the severely injured protagonist, but at the same time, you can see the warm comradeship that was raised after harsh training, and at the same time, you can see that there is no laziness in a soldier. It's just too fast to call it a jogging with his own will.                                                                                                       2 There were too many variables before the war, and I met the common people who came up from the enemy camp when I was having a hard time because the radio didn't work, and I thought about whether to save them or not, but as a soldier who had to strictly follow the rules, I saved them and retreated.' makes a choice 's proud to have given something, but the shooting and missile baptism that take place after the coming shadows of darkness begin to creep up, is so real and so devastating that one has to ask for help, but as the radio continues to be black and the number of injuries receding, the fear or pressure of being right underneath is described in a colorful way with a sensuous sound.  It's very impressive to see the action of jumping from place to place and rolling down the dune. Stunt 3 rescue. It's been a long time since the lonely survival began, but I'm sorry that I can't go back, and I'm starting under unfavorable conditions, and that's all. There must be some resentment that they have failed to wipe out the evils.  There are too many wounds to avoid the narrowing siege, so you take a short break with the help of the mysterious villagers, who have a history of 2,000 years, to help those who are chased by the enemy at any cost, and Sergeant Marcus Rutrell, although not through humanity, is the only one who has been rescued from a lot of injury, whispered to the residents who have helped him out of the war.                                                       Through them I knew that no matter how lonely, hard, painful, and afraid, I had to fight and not give up. We live in a society that's weak compared to war, so to the warriors of Operation Redwing,\",\n",
       " 'the fear of a survival other country of war',\n",
       " 'There are so many stories in the United States that Americans themselves can be proud of being Americans and there are so many things that we can express in a great way.',\n",
       " 'In return for the release of three hostages, three colleagues, a transport helicopter, a crash transport plane, a military janitor was killed, and a large number of Arab villagers were killed.',\n",
       " \"I'm sure you'll think you're dead here, even if you're on the brink of death, but the ending of Marcus' battle is real, but if it explodes and breaks, it becomes packaging and exaggeration.   These days, anti-terrorist war movies do, but no matter how much the Taliban are fighting, let's not kill them too much.\",\n",
       " 'The bloody struggle to survive the gunfight stands out.',\n",
       " \"It's a series of painful scenes because it focuses on reality rather than cinematic techniques.\",\n",
       " 'Only traces of a battle that has vanished unjustly, whether it was a field mistake or pity, are filled in my head. 191, 143,800th action genre.',\n",
       " 'I was sick while watching the movie.',\n",
       " 'It talks about the weight of a single choice through successive struggles for survival in the war.  The battle scene that excluded catharsis and made the most of it was impressive.',\n",
       " \"The description of the war movie, which was almost perfect for me, is realistic enough to feel pain, and the obsession with survival makes me feel awe-inspiring, and it's a true story.\",\n",
       " 'I get goosebumps only after reading the end credits because my biased view of Islam is shattered, and if the tradition as long as religion has saved an American soldier, whether it is hateful or love, is passed down to the next generation, how much hatred we have given to the next generation, not victory, and by survival, we are dealing with the tendency of real-life-based war films to survive the Sept. 11 terrorist attacks, and to survive with a different bonds.',\n",
       " \"If you wear colored glasses, it may seem like an American film promoting the seal, but the reason why you can't do it is because you can feel true comradeship bloomed in saturation and humanity beyond race.\",\n",
       " 'Even in a true-life background movie, the lives of soldiers killed by the enemy while trying to land at risk to save them rather than the four soldiers who are losing their lives on the battlefield are a bitter reality forgotten in the world.',\n",
       " \"It's so real. Surprised.\",\n",
       " \"It would be an expression of respect for his colleagues that Marcus, who survived the misery of a fellow country of greater value than I, failed to keep his son's name AXE.\",\n",
       " \"the rules of engagement and the little mercy that would be tantamount to giving up one's life on a battlefield that would otherwise die.\",\n",
       " 'Battle Action with Audiovisual Experience alone that can cause trauma',\n",
       " \"It was the best.     The action, which starts at about 50 minutes ago, is quite crazy. Director Peter Berg shows the end of the real world as if he was in the real battlefield. He likes the real story very much, but he's not boring for 50 minutes. He can feel the dignity of Navy SEAL. The impressive thing to admit is that he's good at acting, and he's looking for a movie like the tears of the sun, but he's 190,000 viewers.\",\n",
       " 'The horrendous scenes of war seem to be in the field are horribly vivid.',\n",
       " 'If possible, he only cares about the desperate struggle in a true story, excluding the cinematic elements.',\n",
       " 'It was hard to enjoy it just because it was a war of contrast between the desperate struggles of some soldiers and the vanity of death that made them feel happy, even the vividness and sublime of battle scenes in isolation.',\n",
       " 'Excellent sense of realism, right choice.',\n",
       " \"The real expression, the actors' desperate performance, and the problems with movies like calorie bars, except for American heroism, are a little too long to eat them all.\",\n",
       " 'The reason why we have to fight and survive is that they are not forgotten and are reminded of us.',\n",
       " \"From the middle of the best war movie of my life that I don't want to forget and won't change, I've been so desperate, painful, and tearful that I can't open my eyes.\",\n",
       " \"I got emotional when I saw photos of real people at the end, and when I saw photos of 2010 Marcus and Gulab's reunion, I cried.\",\n",
       " \"Marcus' decision was too easy, especially considering that he was in the middle of the war when the humanitarian decision against him was not always good.  And the four men who end up paying dearly for it, who had no brilliant action, but lost communication in the middle of the mountain, watching them being chased by Taliban, rolling on a rocky mountain and shooting at the enemy without stopping. It's as if they're fighting together on the mountain, and in such a terrible scene, I'm turning my eyes unknowingly grateful to Marcus for his life.Doc and Mark Warburg met again.  Mark Wallberg looks a lot like Marcus, the real character. The other three members seem to have carefully chosen actors because of their high synchro rate.  Watching war movies always makes me feel heavy.  And it's so sad that there is still a war on human life, and it's heartbreaking that there is not only a battle going on in the battlefield.  There are a lot of people dying of silent gunfire.\",\n",
       " 'a flavorless war film',\n",
       " 'Saving Private Ryan Black Hawk Down Hurt Locker and Ron Survivor',\n",
       " 'I was surprised to hear that it was a masterpiece that connects saving Private Ryan, but the movie made me realize that it was catching people.',\n",
       " 'Realistic war movie shooting is good, action is good, but lacks impact',\n",
       " 'The tension of the battle was so great that the production of survival without the greatest narratives of all time was so immersive.',\n",
       " 'The gunfight in the mountains is stifling.',\n",
       " \"I'll remember your Korean-American history.\",\n",
       " 'I wonder if UDT Seals actually have that much fighting power.',\n",
       " 'The choice of honor puts them at risk, but it saves them because of their honor, the production in the battle scene is one of the best.',\n",
       " \"I don't need all this reality.It really hurts me when I fall down.\",\n",
       " \"Saving Private Ryan... I can't admit to treating you like a Black Hawk-down Hurthawk at all... two-hour movies are worse than the two-words of justice... than watching a Red Wing documentary.\",\n",
       " 'The moment I see the ending credits, I get emotional.',\n",
       " \"The talking drama is uncomfortable and I wonder if it's like this, but the combat action that makes me feel every nook and corner is the best.\",\n",
       " 'The approach to the ethical dilemma issue is realistic, but not cinematic, i.e. not much of an impression.',\n",
       " \"In our country, we don't do that for one person's rescue. Their courage and perseverance, which are different from ours, were more movie-like real stories than movies.\",\n",
       " \"The emotional well-being of Ken Roach's succinct and powerful voice is not a blessing, but a right.\",\n",
       " 'The doctor tells me not to work to live and the government tells me to work to live 21th BIFF.',\n",
       " 'Daniel Blake and Ken Loach, who have to tell the obvious to the death.',\n",
       " 'When the counselor read the hard-pressed Internet salary application carefully and said, \"I\\'m sorry to hear that my wife is dead,\" my head went blank.  Daniel Blake, the carpenter who didn\\'t lose his kindness and courage until the end of his misery but didn\\'t sell out the sun-splitting sea, who didn\\'t sell out all the other furniture, even though he didn\\'t lose his kindness and courage, remains in his mind for a long time when he wrote his last words with a pencil.',\n",
       " 'You helped us. Now let us help you. The poorly designed system gave no answer.  Only a man was fair.',\n",
       " \"There seems to be no mercy for the choice of the director who has portrayed the life of the weak in his retirement movie, but through Daniel who died, the dignity of human beings shines more brightly. How noble a person is even after the movie is over. The director has allowed him to live forever by not making the mistake of forcibly saving the last hero of his life.   Daniel Blake I Daniel Blake. If it wasn't for the last time, it would've been great.\",\n",
       " \"It was not a medical folk movie or a left-wing story, but rather a picture of Daniel Blake, who was always warm-hearted and cynically consistent with his capital and convenience in a world of sword winds, before a notebook process in which he jumped with his own feet and shouted out human dignity with a pencil rather than a print that proved never to be sold in a sunny sea.  The movie didn't cry, so I shed tears with all my heart instead.\",\n",
       " \"I'm not a slacker or a crook. I didn't stoop, I worked hard, I didn't lean on charity, I didn't slack off.  The neighbors who needed help always helped.  I'm not a dog.  I just wanted respect as a human being. I'm no more than a citizen.  Please note that his words, which he poured out tears, were written as he remembered them, and that there could be mistakes.\",\n",
       " 'The dignity of those who were driven to the end disappeared and filled with shame.  When shame came with an instinct to live, his hands trembled thinly.  It was not this society that held the trembling hands, but another weak individual who was driven to the end.',\n",
       " 'a blind spot of human dignity lurking in a self-proclaimed welfare society.',\n",
       " \"When I join the army, if I hurt my son in Korea, when I give birth to your son, when I raise the future of Korea, when I pay your tax, I don't like people who borrow money from your country when they need it, but I don't want a country that doesn't play a minimal role.\",\n",
       " \"The shame of sitting comfortably in a pleasant theater with the Starbucks iced coffee that we bought easily, and I hope that each and every one of you has a motive for anger, and we will join the trend of history, and this arrogant trend of history will continue on the back of our own efforts.  This river flows in the direction of greater justice, greater freedom, and when you meet someone who doesn't enjoy this right properly, please take his side and help him find it, Stephen Ezer, out of anger.\",\n",
       " \"■After the movie, the standing ovation was held for 15 minutes. I was wondering if it was that long, but I sobbed for 15 minutes after the ending.  This movie rings the soul strangely normal and opens a new beginning ■Dan was like a modern version of Jesus  It's not as dramatic as it was in the past, but it's been able to feel the modern pain of this age and to put it to rest, to practice simple love and sharing, and to further present the vision of the soul.  It's been a while since I've felt so starved that I can't eat fruit cans without opening them right now. \\xa0 There will be fewer and fewer jobs in the world.  The government bureaucracy will have to be as rigid as a machine because it is too much to handle the needs of many people.  There is a limit to opposing the government. In the future, we should overcome the distribution problem with the government's three individual organizations, but I felt in this movie that the solidarity between the unemployed and the unemployed among the individuals is just as important. So far, production and consumption have been valued, and labor unions have been needed to prevent hard labor.  In the future, distribution will be important and the solidarity of non-labor workers will be urgently needed to prevent no labor.  Dan, who wanted to get paid, didn't know how to use a computer, but as seen in Dan's attempts to prevent migrant women from prostitution, whether technical or ethical, the only thing that can directly help him in real life to get the right pay or jobs is the same situation, the no-worker. ■How to establish a one-track philosophy and policy-most everyone enjoys the right to work-on the other hand, the question of who will be freed from work and provide welfare benefits fairly-that is, the issue of distribution of jobs and welfare benefits- will be the most important topic in the future. \\xa0 ■Personally, I want two people to work four hours a day in a system where one person monopolizes eight hours a day ■No workers want to do two different kinds of work, but Haemae wants to do the right thing - no workers, no workers, no women, no workers, no workers, no health reasons, etc. - For the first class of Dan, society should create enough jobs.For the second class, the government should secure enough welfare benefits and distribute them.■If I'm an employer - if I have to pay the same wage - rather than just using two people part-time - so the government should grant various benefits for the company to induce policy - such as a minimum wage reduction.- Any company that has contributed to job creation for class 1 should be entitled to benefit.-Of course, individuals' resistance to low salaries can be formidable -but I think it's important to work somewhere -■If you're a company that has to monopolize work all day long,unless you're banned from other work -you have to make the company pay for the welfare benefits for the second class.- Gradually, the government's salary management system should be transplanted into the company for efficiency.-The company, a private organization, will be more competent in identifying the right people for welfare benefits than the state agencies. ■ If the previous two paragraphs are the efforts of three individuals in government companies, the current paragraph will tell you the importance of solidarity among the unemployed and the role of the government's medium. As Dan has taken care of the young children of migrant women, the first class should be helped by the second class workers.-Part 2 is not able to do intensive labor due to health and other reasons, but it is possible to take care of children.- In the movie, fortunately, care was taken by chance. - In reality, the government becomes a link between the two classes. - It can promote a stable alliance.-For example, since two classes contribute to one class of useful labor, they increase the amount of welfare benefits.\",\n",
       " \"I admire that this movie captures the plight of the unemployed and I must also compose my mind and comfort in my disorganized spirit.  That's what I'm thinking.\",\n",
       " 'Is welfare right begging, waiting if not, or adapting to the system rather than asking for improvement?',\n",
       " 'I would like to applaud Daniel, who proudly shouted in front of the wall of the system, \"How can an individual be so weak in front of the government?\"  It was a movie with a heavy echo in the message.',\n",
       " 'neighbors who view it as human beings and systems that look at it numerically.',\n",
       " \"Who is that flag flirting for? 40 years on the industrial front, not losing diligence, a taxpayer in a honest and faithful state, and a middle-class head of household who played a pivotal role in supporting our country without any prejudice or prejudice. When the day came when he needed his country, who had served the country his whole life as a sincere taxpayer, the state pushed him to the bottom of his life. Under the motto of socializing the privatization of profits on the shoulders of 99c/o, which is losing 1c/o, neo-liberalists sold the nation's social security system to traders and converted the country into a corporation. The country that once fought poverty is now fighting the poor. I'd like to ask you a question. Who does that flag flutter for?\",\n",
       " \"There are so many well-made films, but it's heartfelt heavy to shake the whole heart in the end.\",\n",
       " \"I sincerely hope that civil servants will be citizens' microphones, not government speakers, for this miserable contradiction of people like me being shunned in the system for people like me.\",\n",
       " \"Will I be able to grow old and die like a human being on Korean soil? My family and my friends will believe your family and your children will live like humans, and I will be living like a human being. What kind of neoliberal swindler named me, what kind of name is this neoliberal dog life, whether it's not for a better world, but for a very few people?\",\n",
       " 'Daniel Blake 16 10 09 BIFF, your name pressed hard against cynicism.',\n",
       " \"I don't want to bother Daniel or blame the examiner, but I'm grateful that his pride and value have not disappeared in this sad reality.\",\n",
       " \"All we can truly enjoy in this world is birth and death. Someone can't enjoy everything. I don't know if the only thing that's given to humans is not the true dignity, but the life's bitterness to live in the world. Is it really possible for all human beings to be equally respectful at the same value? What is the board of directors' beauty to human beings or to beg for their natural lives?\",\n",
       " \"I, Daniel Blake, was about to clap before the movie ended the moment my sentence was poorly written. The kind welfare system that allows me to shop and the cruel welfare system that has to prove my incompetence constantly. Anyways, I wanted to show people that I've lived on a subsidy, so I don't have to hurt my pride.\",\n",
       " 'the dignity of wanting human respect and rights as a ridicule.',\n",
       " 'the violence of bureaucracy on a grandfather who is alienated from the development of lovely, humane and good history.',\n",
       " 'I see what it means to be restrained anger. He was very quietly angry.   2016 biff',\n",
       " \"Let's not forget, we're all human beings in a solid system.\",\n",
       " 'The resistance and struggle to protect dignity in a system that requires you to bear shame in the name of Sihye, waiting for the day when you silently fulfill your transmitted shame when you realize the misery of reality and indifference to it are not taken for granted.',\n",
       " \"If you're listening to a story that seems to be customized to discuss a particular issue of bureaucracy, you'll be more curious about the arguments behind it, but the traces of the movie that tried to find answers to social problems are definitely going to listen carefully.\",\n",
       " \"I didn't watch the movie, I watched the real life itself.I m a man not a dog I Daniel Blake am a citzen nothing more nothingless than a deep-seated production.\",\n",
       " \"This station is wide between the train and the platform. Posters' Impression Criticism 33\",\n",
       " 'The expression \"heartbroken\" was more appropriate than \"sad\".  The story of Daniel Blake, which shows the life of the lowest class in the neoliberal era, leaves a deep resonance and a deep afterlife.',\n",
       " \"No matter how unfair the government's bureaucracy is to him, the unemployed patriarch of the lower class of Britain does not transfer the anger to women or the weak as violence, but rather understands the situation of migrant single mothers who happen to know by chance, and without any sexual exploitation in Korea, he only tries to help them with all his heart without any unusual konaking and sexual harassment in the global market.\",\n",
       " 'An angry yet calm sorrow explodes into the locker.  A brief ending leaves a loud echo.',\n",
       " 'Me, too, Daniel Blake.',\n",
       " \"I've done everything I can. Everything is flawless.But why not? It's society.\",\n",
       " 'There are people and there are procedures. How can there be procedures and people?',\n",
       " \"It's the nicest Ken Loach piece, but it's breathtaking to watch a movie with Daniel.\",\n",
       " \"It's a story that was made to cry after the polite production, but it's a familiar story. The misery of crying out loud. If we don't get it right, we'll lose everything. Thank you, but if Anne loses her self-esteem, she'll lose everything. Let me ask you one thing.  He helped us. He did. I want to help him.\",\n",
       " 'I was shaken.  I got some courage.  16 12 XX appreciation Art Nine Issu',\n",
       " 'their lives that no one is responsible for.',\n",
       " \"Movies like this are always breathtaking.  It's very realistic, but it always makes me think deeply about it.\",\n",
       " \"In a few decades, someone will have to tell you the same story. This is not a virtual reality that the movie shows, but a real reality. The reality of those who live in a normal way is that I'm enough to live in a normal way, but it's not enough for me to cry at home because I can't even hear the real-life cries of cheap individuals. Let's not just cry with the real God, let's live with Daniel Blake. Then let's stand out like everyone else.\",\n",
       " \"I'm not a dog, I'm a person.  That's why I demand my rights.  I demand   I'm no more than one citizen to respect me, and I'm no less than one citizen, and for some people, the power to change the world, and the warmth of the people, is what I feel when I go up to the ending credits.  ★★★★☆\",\n",
       " 'I, Daniel Blake, am no more than a citizen.',\n",
       " \"A fucking batter-box that's grossly unfair.\",\n",
       " \"If you trample on my joke like that, I'll be a Joker.\",\n",
       " 'When Arthur cried, Gotham laughed, and when Joker laughed, Gotham cried.',\n",
       " 'When the world abandoned its clowns, so did the clowns.',\n",
       " \"It's not really outstanding, it's not very shocking, it's nothing new.  It's just a good pop movie that shows some interesting details about the best actor's acting. It's a big review without a spoiler.  In terms of social commentary and character rising, Joker is a powerful movie that tightens the hearts of viewers in every way.  And aside from the intensity of the film, if the director of the film is worried about Todd Phillips, who directed the Hangover series before, I think you can take that worry for a moment. Todd Phillips overcame many people's worries and doubts and did his part.  But to me, Joker seems to be a Wakin Phoenix movie, not Todd Phillips movie.  In fact, praising his performance seems quite wasteful.  Whatever rhetoric he adds, it's not going to be enough to describe his outstanding performance, but it's still absurd to see Joker and go over without mentioning Wakin Phoenix.  There's not a single moment in his performance that's not surprising, even if it's almost all of his running time.  I'm usually reluctant to use the stereotyped expression of acting demented and crazy, but if I don't use it for acting, there will be no reason for such an expression to exist.  In fact, I don't know if Joker has his best performance in it.  But apparently, the performance of Wakin Phoenix in this movie is comparable to that of Robert DeNiro, the king of taxi driver comedy.  It was definitely the best performance of the year.  I don't think the Academy Award should be a yardstick for acting, but I think it's time for the Academy to give him the leading actor award.  Actually, I wasn't here more than last year's Oscar-winning actress Rami Malek of Bohemian Rhapsody. I think the Wakin Phoenix of 's was much better.    Of course, Joker is a masterpiece that throws a strong topic based on stable production and admirable acting.  But Joker was a movie that left a lot of regrets to me.  First of all, I think the reaction to this movie is a little bit too much, either way, because I think Joker is not a very unconventional or shocking movie, because 20 years ago, the Fight Club was dealing with something more vivid and unconventional.   I think it's necessary to apply that standard to the movie.  This movie, which seems to deal with the origin of the character Joker, invests three minutes of the movie's running time into why he was forced to become a Joker.  In the process, the film naturally contains a clown's comedy, or irony, that corresponds to Arthur's job, the malady of society where the film is aimed at.  Needless to say, Arthur's anger gauge accumulates.  It's going to be a little different from audience to audience, but I personally expected a climax where those elements combined with Arthur's rage and were driven by uncontrollable energy.  If the fantasy of parents, fantasies of next door, fantasies of next door, etc. established Arthur's delusions, and the development of slowly collapsing a character in a way of real awareness has been presented in the foregoing, the expectations of the audience's innermost thoughts are considerable.  When you watch the movie, naturally, the audience waits for the second half like Arthur, but it's a personal impression. Joker's climax, of course, isn't as bold as his previous films dealing with similar motifs.  The second half of the film is not commensurate with the pain of a character who is more than an hour's worth or the anger that comes from it.   I'm not saying this in one-dimensional terms because the violent level of the riot was weak, but what I'm saying is that it's unfortunate that the second half of the movie, which is supposed to be balanced with the depth of the process, has resulted in a normal social terrorism with no distinction between conventional films.  The ending of the movie seems to have lasted for a while, but strangely, it feels like I've seen it somewhere often.    Joker is a movie that leaves some regrets in terms of the combination of references.   Choose only one director who has had the biggest impact on Joker, and I'm sure it's Martin Scorsese.   The Joker, the Taxi Driver, the King of Comedy, Scorsese's all over the place.  Not to mention the king of comedy, when you bring these classic masterpieces to a modern movie as a reference, you need your own variation.  But Joker follows the irony and dilemma that the taxi driver and the king of comedy have used before.  It's not until he's in a sick society that drives a man who tries to stay out of his head, that's the irony of the society that recognizes him, that the dilemma of a person who can't escape the irony, that Joker returns to Scorsese's view of the world in the '70s and '80s.  The regression itself may not be a problem.  But the fact that they didn't create their own vision through such a regression must be seen as a kind of retrogression or a setback.   The nuance of harsh criticism was a stronger text, but I still think Joker is a pretty good movie, because I'm sure there's a case of this extreme darkness within the box office of popular movies.  However, as I still have a little bit of regret and lack, I'm writing this review because I think it would be more meaningful to write down my personal thoughts than to praise the making of the movie or the acting of Wakin Phoenix. https m blog naver com PostView nn blogId hc24851 logNo 221665500151 NavType tl\",\n",
       " 'Every time Wakin Phoenix appears, it feels like the space is bent with powerful cinematic gravity.',\n",
       " 'He who despair becomes bold.',\n",
       " \"The story of Joker, the movie Comics Villain that makes Marvel shabby, has no clear origins, so from Jack Nicholson to Heath Ledger to the current Joaquin Leto to the present-day Joaquin Phoenix, how to portray or look at Joker's character feels like a mirror reflecting the social psychology of the time, and it's time to think about the origins of crime, instead of obsessing over why criminals.\",\n",
       " \"A class society full of absurdity and ridicule of life, and a heartless group of human beings are harshly criticized.  Compared to these social messages and stories of growth as villains, I feel sorry for the lack of film capacity.  However, Joaquin Phoenix's pathetic performance to fill the loophole is great.\",\n",
       " \"The only solution to this 15-year-old viewing was to go crazy in this crazy world where hypocritical and hateful violence in Korea's Yeongdeungpo-gu, which has become worse than Joker, is to go crazy accordingly. At the same time as the super mouse mentioned in the play, the old relationship between the two may be fate, or it's all Arthur Plex's delusion, and we know how to draw out our DC artwork.\",\n",
       " \"Joaquin Phoenix, a threat to Heath Ledger's stronghold, is so chaotic.\",\n",
       " \"I hope my death makes more money than my life, but rather than Arthur's coming, the confusion over the value of 'life' and 'death' and 'money' seems to wander through his head like a scribble in a diary.   To him, 'life' is expressed as a family. In the second half of the movie, Arthur learns the secret of his birth and is cut off from everything about life.   Maybe he's being free. 'Death' is expressed in comedy. He's never made anyone laugh in his life.  For him, comedy is not part of life.   The comedy 'Your Death' was replaced by 'Death of others' by the catalyst of anger.  For him, money was the only link to society. Working as a clown, earning a little money, and that was the only faint link to this society.  Thomas Wayne asks for financial support, but no answer is forthcoming.  When he was kicked out of his job and free counseling ended, he was completely cut off from society. Life, death, and money became a more valuable issue in this crazy world.  It's only when you realize that your life, which you thought was a tragedy, was a comedy, and at that very moment Arthur Tragedy is reborn as a Joker comedy.\",\n",
       " \"Well, I hope he's just a crazy guy, because he's given a lot of narratives to this guy, and the society has been bad, so it's okay for the victim to do that, so that's the problem.\",\n",
       " \"So what I came up with was a joke.  It was my last courtship of human beings.    Human disqualification Dazai Osamu Joker's Begins and Joaquin Phoenix's human disqualification\",\n",
       " 'The only thing he has is a smile, and the moment he stands on the head of the laughterless, he starts with the Dark Knight, and maybe these are the directions for DC Comics.',\n",
       " '\"Stop time over the world and dance excitedly over the world All at the same height Yes, all at the same height.\" The chorus of the third album of Leessang, which is a song of the movie \"The Clown,\" which was repeated constantly in the heart after watching the movie Joker, will be particularly helpful for the expansion of film\\'s externalities, such as background knowledge, even if it is not for the audience who has foreseen Martin Scorsage.Park Sung-soo\\'s story also comes to mind. Park Sung-soo has been the talk of the town since the scandal broke out in the winter of 2016. Some pointed out that Park\\'s activities were unusual and unseemly, and I also didn\\'t see him in a good light, but I heard that he was forced to abandon his social movement in May 2017 by appearing on Kim Eo-jun\\'s Papice.  Park Sung-soo was originally a social worker working at a welfare facility, but since the sudden cut in the budget to support heating costs for low-income people, he realized that direct and provocative social movements actually lead to proper social welfare after facing low-income elderly people who died inside the house during the winter months, even though he cannot fully sympathize with Park\\'s activities, this process of watching the movie is also possible.To celebrate the opening of the movie, Watcha\\'s followers will receive a scroll-shaped poster of the movie Joker as a gift.   I personally bought the poster and suddenly wanted to give it to the users of Wacha, so I planned an event, not an event.   We\\'ll select one of the most ingenious acrostic poems in the comments below and give you a two-sided, two-sided coating poster of the movie Joker as a gift.     The poster size for the announcement of the winners is 61cm and 91cm in the comments on Thursday, September 26th, September 26th, Thursday, October 2nd, 9am.',\n",
       " \"The more you go down, the more freedom you get, the more freedom you get, the more freedom you get, the more free you get from the world, the more you can't go to the light, the ending scene tells you everything.\",\n",
       " 'Some people just want to see the world burning.     \"An almingly unstoppable punchline,\" a dangerous movie asking why he thought about it, just laughs. When he wins the Best Actor Award, I\\'ll introduce him to him as a Joker.',\n",
       " \"The movie makes me realize that the first flame that ps Prometheus presented to mankind is deeply embedded in me like a wick in my body, as well as in my own body, as the candle that doesn't fall for two hours ceaselessly lingers in my body, helping to create a system that separates humans from animals.  At the same time, however, it was a decisive opportunity to open Pandora's box, the seed of the first misfortune of mankind, PS But Joker is not simply a movie that I am dazzled by the intensity of the flames inside me, PS Joker is not a movie that I want to order freely, not to pay attention to how the flame inside of me was presented to Prometheus, but to whether the process of being recognized by Prometheus undermined human dignity. It can be a flame, but some people may experience the greatest pain that humans can feel.   In fact, burns are the same. PS Joker is the fantasy and idol of all non-mainstreamers. The wounds you have felt as you became a society or as you are still at odds with society. The desire to see a huge wildfire cannot swallow a lonely fire. PS the desire to become a windmills of wildfire, which in conclusion is not a mainstream recognition of this flame that should be removed from our minds. Everyone feels and empathizes, so deep-seated wick burns for two hours. There was no record that the first flame was not extinguished. PS ironically, the etymology of Prometheus means a person who thinks first. PS tells a lot about taxi drivers, but personally, I strongly recommend director Sono Zion's mole.  The Joker was a fantasy to me, but the mole was a reality.\",\n",
       " \"I don't know what the legend of my life is, after hearing the laughter of a psychopath through this rain on the storm is coming.  I admit my acting skills, but I've seen it in other reviews, and I wanted to see Joker as the right horse character, not the delusion of a psychopath.\",\n",
       " \"It's crazy not to go crazy in this crazy world.\",\n",
       " \"The Messiah of a child's journey of laughter called evil between the Joke and the Joker.\",\n",
       " \"I didn't watch any Batman series because I don't really like hero movies. I got interested in this movie. It's a villain, a movie for every joker in the world.\",\n",
       " \"It depicts a man whose life is unhappy as if he were taking back his own self, and there is no punishment or obstacle to the crime of finding his own self.People even go wild and assimilate.Art has the power to change the world.Why do you think it's not a bad movie? When I came out of the movie, the voices of young friends imitating Joker's laughter were so creepy.\",\n",
       " \"Just like judging what's funny or what's not, people judge what's right or wrong, and they decide that people who are different from themselves are wrong.  The encounter between this all-time character laughing at absolute evil and the method-like performance of the Hoaquin Phoenix.\",\n",
       " 'a fiery madness that explodes in such desperation and ridicule.',\n",
       " 'De Niro is now standing in the opposite position and looking at the heroes created by society.',\n",
       " \"This year's masterpiece, anyone who's ever imagined, pulls out all the bombs in their hearts and unleashes them mercilessly.   The best performance of the year, when catharsis filled the theater with cool fingertips and unique smiles, my heart is still beating. Thank you so much for the great acting of the movie. In my subjective opinion, Gotham is the same place, but I don't think it's a part where we can tell the difference between the two of you who played the Joker who fit the old stories created by the director. I dare say that one of the best actors who played in their respective old stories is that they were able to see today's Wakin's Joker because of Hithler's Joker. 🤔 If you had lived in the fact that you were close, you would have been happier than anyone else. 😢\",\n",
       " \"I was overwhelmed by Joaquin Phoenix's performance, and the sound was really great and important. I was both thrilled and shocked that the director of this movie was the director of my favorite comedy Hangover series.   Yongsan CGV IMAX premiere 2019 9 26 4PM\",\n",
       " '\"As the world of comedy, which I thought was a tragedy, spits out the pain of life with laughter, not tears, the more clowns and the more pain they realize, the more laughter grows, the more madness grows, the more freedom the dance becomes. The clown, who wanted my death to bring more value than life, smeared Gotham\\'s canvas with laughter and painted an indelible smile with blood.\" He always smiled, but he seemed to himself.What this alienated clown has dreamed of most might just be assimilating with others when he watches a stand-up comedy, his dreams come closer to him, even if he looks around and smiles with his lips up when everyone laughs at the end, he always tries to assimilate.  Like making a child laugh on the bus or performing a small performance for the sick children, but always coming back to him was tough answers and cynical eyes.  It was so difficult to meet the simple dream that he chose delusions instead of dreams.   Would it be better to be trapped in that delusion for the rest of your life? At least not to burst into laughter. Some people date and laugh at their jokes.  When the world lights him up, people listen to him and give him a hot response, listen to his idol\\'s warm words, but the reality is that no one smiles at his jokes. No one listens to his funny jokes and idols make fun of him. Why are they so rude? His reality, which was always laughing, is probably a tragedy of pain and neglect.On behalf of D, I understand that the life of laughter that bursts out is not a tragedy, but a comedy.  What\\'s really funny about this life is that he wanted to hang out with people, and he made many people fairy tales to the Joker.  Dressed up as a brush on his face, he now paints the world of Gotham City as a drawing paper, and the painting is his portrait painted with laughter and finished with blood. When the artist dies, the value of his work is bound to rise.  \"I just hope my death makes more money than my life.\" The film is fulfilled from the artist\\'s point of view in the literal meaning of the wordplay revealed in my life, as in numerous Scorsese movies, the ironic dream of my mother of laughter, the delusion of my life, and the irony of reality, which was also a tragedy.  As I said earlier, laughter represents freedom of pain and dance, and as the world goes crazy, the laughter grows, and the madness grows, the dancing becomes freer. As I said, laughter represents freedom of madness. As a weapon to assimilate with this world, Arthur finally drew a smile that would not fade away from this crazy world.   He wanted to listen to him, but now he\\'s become a man who says he can\\'t understand what he\\'s saying. He may continue to choose comedy in an ironic world. Obviously, he\\'s already a clown, even if he takes off his clown mask, his face is already a clown who\\'s been wearing makeup, and since the pale man who\\'s always been suppressing the color of freedom, he\\'s no longer Arthur, but he\\'s dancing down the steps.',\n",
       " 'What a terrible thing to be intolerable is that he loses himself and forgets himself, falling into a world where there is nothing going his way out of control like a burst of laughter.',\n",
       " 'Arthur, who only wanted to give laughter in a world like a dark disease, only ridicule and ridicule came back to him, who had always to be hidden, supported his delusion, and as soon as it broke, his mind was red with bright red.   As critic Lee Dong-jin said, \"It was built by digging into the dark floor of the room, so there could be likes and dislikes.\"   For me, you just smile sad self-portrait of modern society, CGV Lee Dong-jin\\'s Live Talk for Joaquin by Joaquin of Joaquin, Live Talk 10 4 CGV IMAX DIGITAL 2D pre-comment Venice Film Festival Golden Lion award 🏆 10 02 Hoaquin Phoenix\\'s award day.',\n",
       " \"There is somehow familiarity with the gray-colored Gotham street, which is filled with garbage at every corner and every corner of the earth, with the insidious disregard for others of human interest trampled on by ridicule and contempt.Somewhere in this crazy world, some people are still working on their killing jaws, hoping that the world will burn.      Phoenix's overwhelming close-up of mental illness and self-destruction was a spectacular sight.  I understand the concerns of gun accidents in the U.S. so I can go to the theater without any worries.\",\n",
       " \"It's like an insult to me to my supposed rating of three or nine on this movie, but I don't want to do it right.\",\n",
       " \"I don't feel sorry for my life. I don't know why I praise a man who's in self-pity. Why are there so many men who get involved in there?\",\n",
       " 'May I be a wildcat in Wattam City?',\n",
       " 'the origin of immature evil that is sucked into a similar current of desolate psychology.',\n",
       " 'If Joker knew how to speak Korean, he would go to Park Ji-hoon on the day of the opening and bother him with red lipstick.',\n",
       " \"In an infinite competition and winner-take-all society, while the middle class is collapsing and struggling not to be trampled on by someone, the human body and mind eventually become ill, and when the tired soul closes its eyes, it becomes a monster that the world has grown on its shell. Everything in this world tries to balance its wealth no matter how high it builds up, it collapses into the Earth's gravitational relationship.  The birth of a monster called Joker is a grim scenario for the most likely future and a warning to modern people.\",\n",
       " \"It's not a big disappointment if it wasn't for Joker. It's not just a big disappointment. It's just a sloppy and crude plot of drawing a bad line. It's a poor, crude, clumsy setup. Kill me. I'm the son of Penny Wise, the movie for one who appeals with my whole body.\",\n",
       " \"Happy's paradoxical Arthur's tragic life and the angry Joker's comedy scene1 Opening Sequence2 The runaway Arthur's escape from the bathroom scene 3 Joker's awakening down the stairs 4 It's definitely a 15-year-old movie and it's very cruel. It's a controversial movie but it's really well made in the U.S., but it's a city's miseensen and especially in anger.\",\n",
       " \"If you wanted Joaquin Phoenix's powerful action, you might be disappointed if you watch this movie and watch the Dark Knight again, you'll see him in a different light.\",\n",
       " 'Smile. The whole world will laugh with you Cry. You\\'ll cry alone.   I\\'d rather have a smiling Pierrot in 2003 than a \"Hero Joker with Dark Knight.\" I\\'d rather do a clown dance until there was a world where there wasn\\'t a single Batman. There couldn\\'t be a Batman in this world.  Because you\\'re a hero, the villain teaches you how to live comfortably in an uncomfortable world.   Are you happier than Joker?   At the beginning, I sensed that the DC logo was a masterpiece since it wasn\\'t ready.  Joker\\'s life, finally a comedian who makes others smile, is a tragedy at close-up, but from afar it\\'s a comedy: Caesar Romero, Jack Nicholson, Leisure Cameron, Monahan Jarad Letto, the scene of Joaquin Phoenix Dwarf opening the door to the grand finale, and the subway chase talk show were becoming more and more uncomfortable to accept as a masterpiece.  It\\'s not because Ben-Efflex\\'s name overlaps.   Apparently, they have a subtle thing in common: \"The difficulty of mental illness is to act like a normal person without such an illness.\" \"It wasn\\'t a disease.\" \"It wasn\\'t just me that had a problem with me.\" He was successful, and TW was the father who gave birth to Joker, \"May my death be worth more than my life.\"',\n",
       " \"Only after he rejects the role of an extra in the terrible tragedy of reality and completely disconnects himself from the reality does he watch the world as a comedy in the position of a bystander.  It's a shame that the film itself is not as capable as the extraordinary performance of Joaquin Phoenix, with laughter and gestures.\",\n",
       " 'The best dance that beats him since Mother.',\n",
       " \"I don't care whether you sympathize with Joker or not, but I can't say you're not responsible for Joker's birth at all.'\",\n",
       " 'I forgot to paint the faces of the characters because I was only painting them intensely.',\n",
       " 'The social and historical significance of a single movie before watching it cannot be the absolute standard for evaluating the movie, but the attitude of judging the audience who want to appreciate it meaningfully by visiting the social and historical significance of the movie can also be an absolute standard for viewing the movie or movie.',\n",
       " \"In addition to abandoning the narrative and character, the endless rewinds of the big and small battle sequences that are shown in the same style throughout the day, the enormous fatigue that comes from the Bongodong battle just doesn't feel like it's just the right time to open. Apart from the movie, Ikeuchi Hiroyuki Daigo Kotaro, the three Japanese actors, are still filming fine art scenes.\",\n",
       " \"If you want to poop like a country horse, you're either popping or pooping and then popping. If we make Cheongsan-ri Battle later, please try harder.\",\n",
       " 'Bongodong Battle is a movie about the Bongodong Battle, the historic victory of the Korean Independence Army in 1920. There are many movies set in the Japanese Colonial Period, but it was quite fresh in that it was a war movie set in this era because there were not many battles.  Also, director Won Shin-yeon\\'s previous film, \"Memory of the Murder,\" was very interesting, so I had my own expectations, but the film was far below my expectations, and it was a disappointing experience that reached the realm of Incheon Landing Operation.  There were some impressive parts in the production. Like the Leverant, it actively uses wide-angle lenses and natural light, and its dynamic camera work maximizes the sense of realism by capturing both bullets, bombs and blood dripping with wide shots. Drone shots are not just used for background shots, but also for compressing the location of allies and enemies and the current situation.  I think the movie is full of visual satisfaction with the beautiful scenery of the background, but this movie also has the elements of a very old-fashioned propaganda film.  First of all, the characters are so one-dimensional. It is natural that some patriotic and nationalistic elements are involved, but in the meantime, the film decides the character\\'s dignity, and most of the characters are almost expendable. Most of the characters in the movie are willing to take unconditional self-sacrifice for the independence movement, but the movie is less likely to explain why they came to have such will.For some time, it was not a particularly immersive part of the movie because it almost excludes and unfolds its vengeance, but again, it is not a bad thing to include the element of individual sacrifice for the nation. The question is how to justify that sacrifice, because most war movies develop in such a way as to sacrifice themselves for their loved ones or for their comrades fighting alongside them, but this movie has little to do with that.  Unconditional sacrifice based on patriotism does not form a consensus because it lacks humanity, and it is more like a movie with a fixed rate that only the Communist Party of China would make. The movie is about a battle, and the plan itself is set quite simply in theory.  However, adding a variety of supporting roles recklessly, the mission to be simple becomes too complex and the movie fails to tell us what\\'s going on.  Every single small battle I see is that the action production is consistent, but it was very difficult to understand the overall flow.  I can see the characters\\' plans roughly, but it was so hard to figure out why they should go from A to B and what the gains and losses would be if they went there.  There were some scenes that were very hard to see, such as the massacre of civilians, while there were some exaggerated and light scenes that seemed to portray Yoo Hae-jin and Ryu Jun-yeol as superheroes, which, in a harsh analogy, felt like going back and forth between Schindler\\'s List and Basterds.  The fierce and realistic battle of independence fighters fighting against the Japanese atrocities, and the sudden turn of action hero-like strange developments, was very cheesy. I wonder if we could draw independence fighters with a perfectly realistic production like Private Ryan, or use Bongodong as a brave fighter who fought fiercely against the Japanese military\\'s power and numbers, or if we could develop these colors more pleasantly like Anshi-seong?  The characters and the way of thinking in some scenes are too old, embarrassing, and even failing to properly communicate how the battle was fought as a war object, so the basics are lacking.',\n",
       " \"Cliché's self-reproduction, which has overshadowed even its historical significance.\",\n",
       " \"I couldn't stand it when I saw the premiere, and I couldn't stand it.  It's a really long letter, so if you don't have time, you can just pass it.  I'm going to keep putting it on, so pass it on to those who enjoyed it, and write this review in this situation requires courage, but I have to say something.  To begin with, it's a movie that makes the audience laugh, and I think a lot of people will come and watch it because of patriotism, but since I made it with that mindset, the movie couldn't have been chosen well. \\u3000\\u3000I've seen so many war-themed works. Saving Private Ryan: Black Hawk-like Taegeukgi, flying high-altitude band of brothers, full-metal jacket, Ronsor-vibber, zero-dark-sorty, etc. There are many movies, games, novels, etc. that I haven't mentioned before, including the Col of Duty Medal of Honor, Battlefield, but they didn't give up the least reality.  It's about war, so of course it should be realistic.  There may be some character corrections or unrealistic scenes.  No matter how much you do, if you feel that it doesn't make sense, the work immediately loses its persuasive power and falls into the second or third class. This work makes a fatal mistake here. You won't be able to write all the details, but when you watch the movie, there are too many moments when it makes sense or you're determined to die or you don't have nine lives, let alone military training. \\u3000\\u3000There could be a correction for the main character, but some of the scenes were quite shocking, because I couldn't tell you everything, so only two of the most shocking things are said: A person who gets hit by three grenade explosions doesn't die within three meters, and he survives with only one leg cut off, and he runs almost 100 meters on a road with no cover-up material, and he doesn't miss the dozens of bullets flying.  You don't need any more explanation. You might not want to film such a ridiculous scene, but once you see it in the theater, you'll do it.  I only picked two, and even more ridiculous scenes, I thought there were countless numbers, but I thought my eyes were going to explode because it was too much. And the motivation of each character was shallow and shallow. In fact, most of the time, I couldn't understand why they did this and that, and that's why they did this and that because they were in the independent army, there were so many things that they were too many characters in battle. I can't focus on the movie because I can't see the characters who struggle all the time because they're going to live anyway.  It's a very rude expression for those who have been through war, but if the main character miraculously survives, the audience will be relieved and saddened by the story of the character even if he dies.  But this movie can't do that. There are not many characters who die in the first place, and the setting of the characters that die is so poor that if they die, they just die.  You're only being used to the progress of the narrative and you're dead. \\u3000\\u3000The following may be controversial, but I wanted to make an honest comment from an inherent point of view.  The independent characters are also poorly set up, but the most flat, plain, and predictable character is the Japanese military. The villain in this movie doesn't have to be like Hans Landa or the Joker of Dark Knight in the Basterds.  Marvel movies show that the characters of the Independence Army are poor, but if the Japanese army does this, the attraction of the movie will be too exaggerated. The typical bad guy acting that we've seen a hundred times and a thousand times is exaggerated, but I thought I was going crazy because I kept thinking about bringing good actors here and there.  Especially when I saw Park Ji-hwan, who showed off his presence as a leader of the Lee Soo-pa faction in a criminal city, I couldn't stand it. \\u3000\\u3000There are many other shortcomings. The machine of Lee Jang-ha and Ryu Jun-yeol was devastated in the big picture, and at the end, when I had an ominous premonition that it wasn't what I thought it was, I had a cringe-worthy migraine after a long time. I don't recommend checking my shortcomings until I watch this movie or checking if my reviews were okay or nonsense. If there are people around me, I'll be people around me, I'll be torn apart. \\u3000\\u3000Last but not least, Korean films have underestimated the audience and treated them like idiots in recent years. I'm sorry for the actors who have suffered, but it's not worth watching because they didn't make it.  I hope you don't insult me by making this good material.\",\n",
       " \"I hope you know that the Bongodong Battle is different from the historical facts. It is not a battle, but a movie about the theory that the Independence Army ambushed, delayed the course of the Japanese army, and won a great victory. I think that's for the sake of dramatic fun, but the director made it based on an article in the independent newspaper, so it's based on a true story.    As a result, the battle is naturally more one-sided and distracting than realistic, and the hateful atmosphere underlying the whole play may not have been intended, but it has become a burden in line with the current situation.\",\n",
       " \"All I've shown is a giant battle scene that's getting more and more tired, but CGV Starlivetalk.\",\n",
       " 'Brilliant sword action, better than a gun.',\n",
       " 'The movie \"Bongo-dong Battle\" is full of Japanese atrocities and a line from one of the cast members telling them to clearly see what they have done now.  I would like to express my gratitude to the unknown independence activists.',\n",
       " \"The independence of Korea was expected to be in full bloom, and it was in full bloom as expected.   Although it wasn't in full bloom, if you expected a patriotic genre movie, PS. Although there were many harsh criticisms, I wanted to lower my expectations and do just as much as the Battle of Myeongnyang. PS Yoo Hae Jin's acting. As expected, I thought Ryu Jun Yeol's outfit was the best suit I've ever seen before. It was fun to see you build a samgukmu pair using only specific weapons like a game character.   It's similar to the military. PS: I'm a little scared to say that I'm in compliance with the harsh criticism, but I think it's a basic movie considering the satisfaction of my companion who has never seen a movie since Namhansanseong Fortress, and the fact that students accidentally heard that the Bongodong Battle was fun at a snack bar.\",\n",
       " 'We are always living in the last Joseon Dynasty.',\n",
       " 'Battle and slaughter are rampant, but there is no tension.',\n",
       " \"It's worth seeing once that it's a battle that has historical significance. I feel good, but I didn't feel anything emotional because the main characters lived to the end without dying.  Yoo Hae-jin and Ryu Jun-yeol both like it, but I think it would be more fun to combine other works.  Choi Min-sik is Hong Beom-do, and the real leader of the final finale doesn't show his face on the battlefield.\",\n",
       " 'The more you focus on one place, the more you miss.',\n",
       " 'no more than beef soup',\n",
       " 'In Korean history, the Bongo-dong Battle teaches and memorizes General Hong Beom-do. This movie tells the story of heroes who are not named after General Hong Beom-do. It is a movie that expresses the cruelty of Japan and the sorrow of the powerless people of our country. There are some cruel scenes.',\n",
       " 'I hope that there will be a moment when we can portray our history like Dunkirk, which is better than the Incheon Landing Operation or the warship map.',\n",
       " \"Not only does it stimulate patriotism, but it's also the cathartic independent film 20190502 blinds that we've never seen before.\",\n",
       " 'There seems to be some misinterpretation, but environmental damage is correct.',\n",
       " 'General without the satisaction is typical and simple.',\n",
       " 'The first battle, Mugunghwa flowers bloomed, as the independent army won against the Japanese army. Spring is coming Lotte Cinema',\n",
       " \"From the beginning, the movie is more cruel than necessary. The cinematic quality is retro and approachable to the audience. Thanks to its excessive and exhausting production, it makes you feel like you've seen a mountain diary.\",\n",
       " \"The whole thing is good, but the subtle difference between people and people is awkward. You should have drawn this taste early on Hong Beom-do's appearance.\",\n",
       " 'The hot and heavy independent film, the tense development and production of the movie played a major role.',\n",
       " 'a clumsy gukppong intended to bring joy.',\n",
       " 'While the Independence Army had one soldier killed, the Japanese army had 157 dead and more than 300 wounded.   There is not a single impact beyond these historical records.',\n",
       " 'Except for a few speedy and cheerful guerrilla fighters, a truly timely bowl of Gukppong is still in disarray and even boring.',\n",
       " 'I just wanted a bowl of guppong, shouting \"Master\" after a long time.',\n",
       " '\"Truely timely.\"That\\'s all.',\n",
       " \"How can a movie with history as a spoiler satisfy the audience? This movie attempts humor with Tikitaka, and the character builds a structure of good and evil that runs on the extremes, which often makes me laugh, angry, and eventually exult. I was tired of the fragmentary structure, so I couldn't satisfy myself, but the editing and battle scenes that connect the scene were also directed by Won Shin-yeon. Japan is as low as ever.\",\n",
       " 'I was fighting myself the whole time the independent army fought against the Japanese.',\n",
       " 'The story and highlight of General Hong Beom-do\\'s \"Heading\" and \"HIGHLIGHT\" are so blatant that anti-Japanese and patriotism are so blatant, but it\\'s good to watch only pure action movies, but I don\\'t know if it\\'s really for the independent forces. Yu Hae-jin and the Japanese military officers\\' swordsmanship is a typical samurai film structure and structure.',\n",
       " 'Yoo Hae-jin, who now stands tall as a lead actor, not a supporting actor.',\n",
       " 'a history too solemn to be lightly conveyed by the incongruity of the humor-action sect.',\n",
       " \"I think it came out right at the right time, but I think I could have gone very seriously without the useless humor, and Yoo Hae-jin's character was so invincible that it felt a little less realistic.  I think the big war scene went really well.\",\n",
       " \"It's been a long time since I've seen a movie, but I haven't had any impact on the movie, so even if I let him appear, there's another Korean war movie that didn't finish as a result.\",\n",
       " \"July 29 After the Lotte Cinema premiere movie, I don't point out that it's my first time to hear the applause, but the main characters are fine even between bullets and bombs. It's not a waste of 15.5 billion won in production costs. I hope Chung San-ri will come out as season 2 when Chung San-ri was the last one.\",\n",
       " 'I liked it because it was obvious that I paid a lot of attention to the knife action.',\n",
       " \"The actors' mix is perfect and there is tension and pleasure, but is it the answer that this feeling divided by dichotomy is induced to remain hatred?\",\n",
       " 'Since a month ago, I\\'ve been thinking that this movie will be 10 million movies, and I think maybe this place will be the first place to be verified.  As director Won Shin-yeon said, \"I\\'ve made it hot,\" this movie is going to use the term history spoiler, but it\\'s also a strangely appropriate case in that it\\'s the first victory since Japanese colonial era, and the more cool it may need to be, but I\\'ll introduce the movie to the scene of disastrous killing from the beginning, showing that the counterattack of the fictional characters of the righteous army is more of survival than cheerfulness.  The lines that people from all over the country hold while holding rifles are impressive, and the performances of Japanese actors, including Kazuki Kitamura, and Park Ji-hwan, who appeared to show the atrocities of the Japanese Empire, must have been shining so that the movie would have boiled like a furnace, and in this work, Yoo Hae-jin\\'s lines, which I really like, could be related to the current boycott.  By the way, if this movie goes well, will we be able to see Cheongsan-ri Battle in theaters?',\n",
       " \"The pros and cons of the Bongodong Battle are similar to the pros and cons of Myeongnyang and the final military life.It's more like a movie than a final weapon, but Bongodong Battle has more disadvantages than advantages.\",\n",
       " 'We live in a society where we have to grieve over the death of our wives, and we cannot even be honest with our own feelings in order not to deviate from the label of abnormal heretics and sociopaths, which is sometimes labeled normal.  Hypocrisy, which has become a daily life, is something that can only be seen by breaking down, something that can only be known by breaking down, feelings that cannot exist by flying at the same time, and the door to the mind that only opens to strangers.    Demolition satirizes a strange ballroom in modern society where individuals must hide individuals and be incorporated as part of society. In this big game, a sheep swimmer with a mask of a model student is selected as a scholarship student, but Chris, who was honest about his identity, is beaten collectively.    In modern society, the virtue of honesty has now disappeared and hypocrisy and totalitarianism have soon become new virtues.',\n",
       " \"It's starting to disintegrate.  He breaks it down to find something that's broken, and when he can't break it down anymore, he finds one memory that he loved, and he thought it wasn't until now.\",\n",
       " 'Jake Gyllenhaal, who shines all the time.',\n",
       " 'How to love a merry-go-round that is not a roller coaster in life.',\n",
       " \"He works for an investment company, but he's only moving a lot of money, but he doesn't seem to have a real life just like his job. It's a life that even happens to meet someone on his way to work. Is he really living his life groomed by his father-in-law like a monkey grooming his babies? Did he love his wife? Chris Judah Lewis, who was gay or bisexual, honest with himself.Karen Naomi Watts asks Chris, who is unconscious, to be honest and confident in his life.  Only then does Davis face his wife, who left a note in the fridge to fix him, honestly and truthfully for the first time.  When I let go of the most precious person in the world, instead of thinking that I should be honest with my life, world, if that's what you want me to do, I'll do better for you, whether it's money or honor, so I only thought about you guys, I'll win.  It's time to look back on life, whether it's just a shell that doesn't exist.\",\n",
       " 'When his loyal subjects died before his eyes, the king, who cried a lot, did not shed a tear when his daughter, the princess, died. It was so sad and so lost that it made us feel no emotion.  The movie is about a husband who loses his wife, loses his mind, and then begins to destroy himself in small and big ways. In fact, I think disassembly or analysis would be more appropriate than destruction because I watched the movie without any prior information, so the first scene was a shock.  And then I saw him destroy or decompose from refrigerator to house, and finally I realized that this movie was about to say something.  The movie shows a man who lost his wife, Davis Jake Gyllenhaal, who lost his wife in half an hour, slowly going crazy in the midst of things that would still be covered with dirt.  The dust includes pieces of the skin of a fallen person, and that\\'s why he may have left Davis crazy after he left, so Davis shows us a paradox that he destroys the house, or breaks it down, because he loved it, and the director sends us only one message: \"David\\'s loss from loss.\" \"David\\'s loss to his wife is not just an act of relieving stress, and at the same time, Chris Sea of his son.\"  Don\\'t be afraid to lose. I think I saw this movie at the right time. I think the memory of the precious person who lost in the late winter before spring is bothering me in this hot summer because I forgot and turned away from him for the past few months. The director also expressed the movie dramatically and made it positive, which is the same as my loss.',\n",
       " 'No one has to grieve in the same way.',\n",
       " 'The sorrow that had fallen behind the chaos returns to its place around the merry-go-round of destruction and disintegration, and the speed and amount of emotion are relative, so beware of premature prediction, Jake Gyllenhaal, who shines various emotions in an emotionless look.',\n",
       " \"I know it's not an easy movie to relate to, but the part that touched me deeply was the appearance of Jake Gyllenhaal in the play. There was a time when sadness and anger took place and shook me instead of the place where I firmly believed that the strings that connected my relationship were cut off and made me happy, either by my will or by others.  When I came to my senses, I felt like my head was stained with wounds.  And without me knowing it, my face was distorted by a cynicism obsessed with resignation and contempt.  And people began to adjust to my changed appearance and I gradually became accustomed to my own lonely and blunt-looking role.  And even at the moment of happiness, sadness, anger, and frustration, I would not take the mask off my face. I just stared blankly at the time of the day and looked up at the sky without any interest. I couldn't feel any emotion. For those who have this process of extreme sadness and solitude, or for everyone who lives in a struggle against the infinite world, Demolition is a glorious movie, because it is the smile of Jake Gyllenhaal's smiley day, the male lead of the ending scene, and the smile of many happy days ahead.\",\n",
       " \"Good. To meet this kind of movie, I have to watch a movie and learn about life in that movie. You have to break it down. You have to pop the skin that makes you feel cold and insensitive. We must throw away the walls and obstacles so that we can't open our minds. I'm going to hide my masks.\",\n",
       " \"Something inside me has been offset by the destruction thrown by the unwelcome comfort, Jillrenhal, and the question remains.  Can we cover the emptiness with pain? Is it possible? Everyone has the urge to turn over the table. It was a relief to crush and disassemble and leave the table cheerfully, but I vaguely know why the sorrow and reflection of cleaning it up was removed, and here alone someone remains to the end, to remember the statue and to destroy the Changsho who shed hot tears for the Changsho. How this became the ancestor and the view of Schumpeter through the unprecedented Urakai is the creation and innovation of destruction. Yes, art history says that when you come over from the real world, you need to set up a safety net for the destruction. In contrast, this movie goes back to the threshold and kicks your shin to forget that you are sick, and you don't have to give control of the body to the pain, and you're going to live under the time.It's so lovely. You're trying to be natural. I wrote it down, and now I can write it all in one line.\",\n",
       " 'The most frustrating, unexploded act of emotion, acting like a fucking idiot.',\n",
       " \"It wasn't until they disappeared that we talked about a relationship that became serious.\",\n",
       " 'Why did he look like he was finishing the puzzle step by step from refrigerator to self-destructing? As if the merry-go-round was the last puzzle, his smile is unforgettable.',\n",
       " 'After all, the remains and traces of the remains after the dismantling.',\n",
       " \"There are so many emotions in the world, and the way you express it is not that you don't feel it or that you feel it because you don't see it, and that you don't feel it because you look at everything that surrounds you, and when you take it out, you'll be able to take it apart and think about where it's most honest and where it's wrong.\",\n",
       " 'Most of his emotions are trying to break down unlike others, but the space he shared with others in a similar way is complicated.',\n",
       " \"Why am I crying when it's so calm?\",\n",
       " \"Only on the day I burst into tears in the sunny daytime sun did I rebuild the destroyed interior.  Just as the merry-go-round lit up in the ruins, my brain and my heart were turned on and my mind was reorganized.  Emotions died out without knowing which hole to block. I felt that this movie was like a merry-go-round of my life. Thank you. Now I can trust and watch Jean Mark Valle and Jake Gyllenhaal had similar feelings to the recent movie, and it became so fateful to me. A week ago, there were days when I couldn't feel anything because I was carried away by a broken heart.  Then, on a rainy day, my cell phone battery is running out of battery. I took the subway and habitually touched my phone, put down my phone, and looked around. I went outside and looked around. I looked at familiar things, absorbed unfamiliar things more as they were, and the atmosphere of a rainy day felt by the whole body, and I thought that when the temperature was so clear, my mind would turn on only when the phone turned off.  Maybe I've built a new foundation for sprouts and reconstruction in my devastated mind that night, so I wrote the song and named it Demolition.  I dare to accept this movie, whose title and heart are the same as my heart and title.\",\n",
       " \"It seems like it's not easy to relate to the movie, and it's not easy for people to live like that. Some of the acting of Gyllenhaal induces emotions, but David's madness of trying to find answers from the outside while demolizing the environment and materials was shocking and more difficult than anything else to sympathize with the psychological state.Perhaps because the scenes that show how his past life with his wife was so cross-sectional and lack much information, Jillenhaal is always looking forward to his work.\",\n",
       " 'In the movie, Davis Jake Gyllenhaal feels no pain or upset when his wife dies, and Davis thinks he never loved his wife. After his wife died suddenly in a car accident, he begins to disassemble to find what seems to be wrong in the eye, disassemble everything because the refrigerator leaks, disassemble the computer in the office, and disassemble the door because the door to the bathroom in the office is creaking. The expression \"I\\'m attracted to Margo, who empathizes with her appearance, but I\\'m attracted to his son more than Margo because I just know that he wants someone to know and understand his situation\" is a different expression than \"I love you.\"  In the end, Davis fixes and realizes the sorrow of his wife\\'s death through a process of disassembly that goes through the entire movie. During the running time of 100 minutes, Jean-Mark Ballet director shows the process of finding himself through disassembly in the movie through Jake Gyllenhaal\\'s demented performance, and eventually feels that he truly loved his wife, feeling real sadness instead of the fake tears he has seen. It\\'s hard for many people to understand and empathize with, but it\\'s going to be a great comfort for those who are lost in the center of their lives.   Jake Gyllenhaal\\'s innocent dance performance in the city was superb.',\n",
       " \"To break up with a loved one is to kill yourself, to part with everything you've been used to.  I'm afraid of the afterlife because not everything there was in love with me.   Kim Kyung-ju's Unsteady City\",\n",
       " 'Everything is metaphor',\n",
       " 'a film that has the ability to break down the emotions of the audience and the emotions of the characters equally.',\n",
       " 'Actually, the thing I want to destroy the most, and the thing I want to fix is me.',\n",
       " \"This one and Her, I'm going to get banged up and die alone.\",\n",
       " \"I think it's one of the movies where self-destruction and disorganization precedes and beautifully goes crazy because I can't interpret my feelings toward the overindulgent person, but I think it's one of the movies where we face bare face without the original words, emotions, soft rock, and the emptiness and loneliness that we experience in our daily lives resonate with and come to the taste of wasabi.  Jake Gyllenhaal's magical powers enable him to immerse himself in the infinite number of people.\",\n",
       " 'I wanted to break down memories and feelings, separate them from myself, and go to a place of liberation where I no longer wanted to suffer, but the more she was crushed, the more her remains shine. The liberation of pain was the completion of her internal form.',\n",
       " \"We often don't realize what we're getting from them until they're completely stopped.\",\n",
       " 'The essence of intangible intangible intangible, which will never break even if everything is destroyed, is sincere and reflects various lives through dexterous handling to find its essence. The title is \"destructive explosion,\" but not \"unilateral force,\" but \"collision\" in which mutual forces work.  It is dynamic and impressive to see the destruction of what is seen and the inner and inner destruction conflict.',\n",
       " 'I wanted Jake Gyllenhaal to cry all the time.',\n",
       " 'Go fuck up the world full of lies and be yourself.',\n",
       " \"After Nightcrawler, Jake Gyllenhaal's eyes were clearly terrified. Oh, I feel lonely.\",\n",
       " \"A damnation that has to cry at last cannot be a stranger.  But there is room for goodness in another direction as a drama of the course.  Of course, exaggerated metaphors also make the movie blunt, but the sound of the accumulated existential aesthetics is clear. As Camus said, aren't we all in a society where anyone who doesn't shed tears at his mother's funeral risks being sentenced to death?\",\n",
       " \"I just touched it, but it's falling apart.  Our minds must have been so fragile and fragile.\",\n",
       " 'The message of loss, overcoming destruction, reconstruction chaos, and stability is cleverly penetrating the entire work and drawing attention from the audience with provocative destruction, but despite the brilliant performance of Gyllenghal Watts, I felt nothing but a great sense of separation from the characters.',\n",
       " \"It was the best movie about love I've seen recently.   I'm so glad Jake Gyllenhaal is the main character, and I'm going to look for all the pieces that I haven't seen yet.\",\n",
       " 'He was love in different ways.  He is much more human than the hypocrites who live in masks, who destroy and break down everything and overcome grief.',\n",
       " 'Jake Gyllenhaal helped a little bit, but the music worked so hard that he smashed and dismantled so many things and so did the movie. The pieces that were dismantled and destroyed just float around.',\n",
       " \"Rather than heal through the destruction of David's director, Lee Da-ji is uncomfortable and blunt, I sympathize more with Ben's ruin of leaving Las Vegas.\",\n",
       " \"To fix something, you have to rip everything off. Demolition's truth is that I feel the loneliness of the main character, who pretended not to love me to be comforted by the pain of losing his wife, and tried to demole everything.   In this work, Jake Gyllenhaal performed understated, just like in Night Krollers.  But it would have been even better if I could see his acting a little more sobbing at the end.   Long live Jake Gyllenhaal.\",\n",
       " \"You can see Jake's excellent screwless performance.\",\n",
       " \"We also don't know what sadness is, but we accept it in the sense that the world has given us, and we try to judge other people's things as if it were the truth.\",\n",
       " 'Thank you for bringing the feelings of loss of Jake and destruction of sadness to the highest level and for being my deviation. I really liked the ending of taking back the lost double-track.',\n",
       " \"It's not mine. It's not my problem. Don't pretend to be busy. Fix it. We're in no hurry to do nothing.\",\n",
       " \"A serial killer has a girlfriend, too. The transformation of Jack Efron's acting is a fun way to see familiar actors, and it's like Ted Bundy loves his girlfriend very much, so I think he believes he loved himself so much because he only shows his girlfriend's perspective from start to finish. It seems the same reason why a serial killer has a girlfriend.    A serial killer would order a love-love combo set when he goes to the theater.\",\n",
       " \"The devil is unshakable. It's just shaking. I think it was a very comfortable death.\",\n",
       " 'You can see everything from every angle of view about an event.',\n",
       " \"Killer doesn't come out of the dark, exposing long teeth and drooling jaws.  Doubt and belief may be that the super-child memories and thoughts and all the knowledge that are torn between the two double-decker conflicts may drive us crazy, and the idea that maybe it's the right and maybe the wrong result makes everything confused and indecisive.\",\n",
       " 'It is a movie that I really want to see in the sense that the movie will be introduced from the special point of view of the actors Jack E.P.R. Lilli Collins.',\n",
       " 'The original title was translated into a somewhat dramatic title, \"I loved the devil in my country,\" which was a very realistic title, \"I loved the devil in my country.\" It\\'s interesting to know that Ted Bundy was innocent until the end of the movie, even though he knew it was a real event, but he still loved the evil woman.',\n",
       " \"There is no form of criminal offense made after the criminal was identified as the culprit of the fierce legal battle.    Justice was hard on him.  Of course, before the truth, it's his job to be scared.\",\n",
       " 'If I had focused a little more on the feelings of women and the feelings that lingered beside me,',\n",
       " \"2019 05 12 047 Netflix-stead Bundy's impudence is amazing, but it's even more surprising that Holly Joel Osment is starring James Hittfield, the frontman of Band Metallica, even though I thought he was familiar with the good looks.  Do you want to share your old age with movies?\",\n",
       " \"It's a true story, so it's a killer, but he denies his crime with such a natural look that I'm confused if his words are real.   And seeing Teddy defending himself without panic under any circumstances, I think I know the psychology of people who are completely swindled or unwilling to believe the truth even if the truth is revealed later.  In that sense, Jack Efron's performance is overwhelming, and it's often revealed how the killer who killed more than 30 women was able to do it with Lily as such a friendly man. It turns out that the person who seems to be too sincere was actually a robber, a corporal, or a murderer. I don't think I can forget what the judge told Ted how terrible the wounds they would get.  Ted, who is more guilty of being a scumbag than any other human being he's ever seen in court, is right, as the judge said, a human scumbag, a psycho you must never encounter anywhere if you don't want to ruin your life.\",\n",
       " \"Miyabe Miyuki's long story tells the story of Ted Bundy, who stands in the same position as Amigawa Koichi, the imitator of the novel. It is shocking to see a good face in the face while enjoying the flashlight of the media. If you go through the shock without being stained with blood, it maximizes the impact by showing only what you look like. Jack Efron-Hard-Carrie with a clever direction and pleasant impression.\",\n",
       " \"This movie is a true story, and like the English title, it deals with the worst serial killer in American history.  It's not just a title for killing so many people, but this movie is not unusual. I suspect it's a murderer, but I keep falling in love with this person, the story of a woman who loved the worst killer.\",\n",
       " \"That's why you don't judge people by their appearances. Jack Efron didn't know they had such a wide spectrum of acting, but he was Ted Bundy himself.\",\n",
       " \"It seems like the director tried to twist it to a new point of view while making Ted Bundy's tape documentary. If you don't know Ted Bundy, the plot of the story flow that makes you feel like you're really framed is impressive. It's new to talk about a killer without a bloody scene, but it's very dangerous because you've drawn it too humanly.\",\n",
       " \"Huck Jack Efron Eranit, I'm happy to be an actor.\",\n",
       " 'his lost focus and wandering around, and yet the passionate performances of the actors were impressive.',\n",
       " \"Lily Collins' rediscovery\",\n",
       " \"Jack Efron's acting transformation stands out, and there's no blood in the story of the killer, and his scary smile is scarier than his blood.\",\n",
       " \"That was Jack Efron's all-time performance.  It makes you feel sordid and confused.\",\n",
       " \"It deals with a provocative subject called serial killers, but it does not focus on murder, but depicts his humanity and the characters who respond to it with various perspectives. I'd love to watch a documentary with you.\",\n",
       " 'The fresh acting of Jack Appron, perhaps more brutal than the cruel scene, is impressive.',\n",
       " \"I love you without knowing who you are. Or I love you because I don't know who you are.\",\n",
       " 'The media loves the devil.',\n",
       " \"At first, it seemed a bit of a hectic narrative, but from Liz's point of view, I think it's natural.\",\n",
       " 'Two Hours of the Long Family',\n",
       " 'Only a few people can imagine reality, Goethe said, a huge imagination battle between Ted and Liz, who have the great ability to imagine regardless of reality.',\n",
       " 'Ted Bundy is not evil, because the term evil is a limited word that can only be used for humans in the first place. Yes, he is only evil, not human.',\n",
       " 'I know it\\'s bad to just change the title to \"attractive Ted Bundy\" but the women who came to the court like a show-watching show, and director Lee is the same level as the women who put their girlfriend\\'s picture on the wall of a solitary cell, a warm-hearted man who looks at his girlfriend in a court of charming romantics who asks her not to give up on her girlfriend even if she dies soon, and then finally put up the list of victims.',\n",
       " 'The production of Jack Efron, which was seen only in high-teen movies, was good, but there was no impact.',\n",
       " \"I didn't know about him, and the movie was even more horrifying, and the deadline was excellent, and I spent an hour and 40 minutes properly. It was great.\",\n",
       " \"You're so brazen, I'm embarrassed.\",\n",
       " \"I don't understand the movie's intentions if I don't know if Ted Bundy needs to express as if he's the main character of Highteen Loco, even though it's his beloved girlfriend's point of view.\",\n",
       " 'I was more confused because I loved him. Why was I so confused when I saw this monster as a murderer and a true story?',\n",
       " 'an eerie documentary about a real psychopath who destroyed his family with violence and mediocrity.',\n",
       " \"The way you express Ted Bundy is so vague.That's why the director's view on the media using teddy has not delivered what he wants to say clearly.  The last victim's name-nomination felt so out of the blue. The actors were saddened by the reversal of Harley Joel Osment and overwhelmed by John Malkovich's performance.   20190517\",\n",
       " \"I've heard that Ted Bundy's girlfriend has a good reputation for playing the serial killer genre, Jack Afron.  a film invited to the Sundance Film Festival\",\n",
       " \"Animals don't do that. Gotouhel.\",\n",
       " \"Yeah, let's see when you'll admit it.' It's over before I know it.  I have a good sense of immersion.\",\n",
       " \"Jack Efron is so handsome.From the high school musical to the current 30s, you are so handsome.  Jack Efron's role was more like a character that was perfect for him. Until the end, I can't believe that Ted did it. I really should watch the documentary. It's a set of movies and documentaries.\",\n",
       " 'The character transformation of actors who would have been surprised by Jim Parsons is also a point to watch.',\n",
       " 'Leeds Tedvinda Florida',\n",
       " \"For some reason, I imagined he wouldn't be a murderer, and I wanted to.\",\n",
       " 'When I saw Ted Bundy, a rare killer, and his fiancee Liz, who insists on her innocence to the end of a true-life movie that revolves around her, I would be confused and confused even though she already knows the truth. Liz, who had been ignoring the truth for years and suffering from guilt, was sad and pathetic, but she was far from the typical killer, so people around her really needed the truth. Jack Efron\\'s acting has increased since then.  After being sentenced to death, the close-up of a face that shamelessly lies about not seeking mercy or the cross-editing facial expression of writing a \"hair saw on the window\" in front of Liz was disgusting. Lily Collins was also immersed in the movie because of her good acting. Harley Joel Osment, who played only a minor role after becoming an adult, appears as Liz\\'s new lover and shows a noticeable performance.  It\\'s a tragedy that John Malkovich, the judge, was sentenced to death and seen here the garbage of all humanity.  You could have gone the other way.\\'  It was very impressive, but the judge said to Ted Bundy, a serial killer who is believed to have killed more than 30 people, whether he could have gone any other way or not, because he was the one who committed the cruel and terrible murders of women, so it was regrettable that he should have died in pain.  Of course, the question remains whether the execution of taking a person\\'s life in the name of the law is morally correct, but there is no way yet to convey our anger to him so clearly. In addition, it would have been better if the judge had translated the original title as it was when he was found guilty.   I don\\'t like the Korean translation title because it looks so merciful and light compared to his crime.',\n",
       " 'a film that reverses the point of view of acting that helps to immerse itself in a very appropriate cast.',\n",
       " \"Thanks to the composition of the movie and the actors' acting ensemble, I almost fell for it.\",\n",
       " 'the power of big-season films to focus on what they can do without leaving any emotional residue.',\n",
       " \"There is no emotional excess, there is no comedy excess, and the first thing that the Korean disaster movie that I saw so satisfactorily is that it was the director's debut film, which is clearly different from the traditional Korean disaster film, which is based on the frustration of the forced new wave, and it was a refreshing combination that made the right comedy and the audience breathless, and on the other hand, it was a refreshing combination that went well, contrary to expectations.  All of a sudden, the atmosphere is Sugi Yumdaeng Grand Library, Tada!ta!ta!ta!ta!ta!ta!ta!\",\n",
       " \"I think it's possible because it's a new genre of coordination that combines disaster and comedy.\",\n",
       " \"If you save my life, the biggest strength of this movie as a superhero is that it's just the right thing to do. It's not too much. It's the right way to show how much you can do with just a little bit of patience. The character who ate a hundred sweet potatoes, the character with a storyline, is gone.  I didn't expect this movie to be the biggest summer movie in the world.  I wish ten million would go.  It's been a long time since I've seen such a movie that I've been looking forward to, but as soon as it went up and up, I'm studying for a job, so I might have felt more sympathy.  I don't know how much I expected them to jump every minute.    I hope this moment will be a boost to everyone who is holding out there.   Yongnam Uiju Rises and lastly Tta Tta Tta Tta.\",\n",
       " 'A Korean-style boisterous disaster with a family job relationship.',\n",
       " 'Comedian Lee Kyung-kyu appeared as a guest in MBC\\'s \"New Semester Special,\" which aired on March 11, 2006, as a small escape from the Korean-style disaster that had been complacent amid a lengthy story and a new wave.  At that time, Infinite Challenge was subtitled \"Master of Quiz,\" which is the reverse of the announcement of the results of the questionnaire among the members.  The Aha game was played with a guest.  Before the announcement of the results, Yoo Jae-seok, who will announce the results seriously during the announcement of the results, and other members of the Infinite Challenge who are nervous and emotionally agitated, guest Lee Kyung-kyu complained, \"I\\'m in a situation where I have to be nervous, but I\\'m not at all nervous at all.   The fact that only the members of Infinite Challenge were nervous about the announcement of the results of the questionnaire, saying, \"I don\\'t want to miss it.\" I couldn\\'t relate to it at all as a guest.  The Exit, which claims to be a French disaster film \"The Book of the Dead 100 Disaster Movie\" and claims to be a part of the action of Cliff Hanger, starring Sylvester Stallone, but without the idea of its own creativity, such as \"Root Finding\" and \"Root Finishing.\"  In addition, it is impressive to see the cheerful atmosphere throughout the play and actress Lim Yoon-ah, who is now trying to become a true actress to match the summer vacation season, but the limits of comedy that make it difficult for the audience to feel the tension while not being swayed by the situation of the main characters as audiences remain as a disappointment, as well as the limit of the comedy series, remain as a new one. It also comes as a message to me, who was not impressed by the audience.',\n",
       " \"It's the best disaster movie ever made in Korea. You can laugh and come back.\",\n",
       " \"Exit is a story about the main characters who use all their abilities as mountain climbers to avoid toxic gases and get rescued in cities devastated by the gas attack. In this movie promoted by a combination of comedy and disaster films, the main genre is disaster, and the movie seeks light entertainment by sublimating the destructive and serious nature of disaster films with laughter, but the various ideas that go into the movie are light in the atmosphere and provide a glimpse of the production team's deep thoughts.  First of all, let's talk about the main characters. Cho Jung-suk was a perfect cast.  In addition to her unique poor acting that fits well with the unemployed character who is ignored at home, she was a real gem actor who shows the aspect of a movie star when it should be funny and when she needs sincere charisma. In fact, Im Yoon-ah was always an actor with a question mark on her face, but she didn't think she was good at acting, either.  In this movie, I feel like I'm falling behind with Cho Jung-seok's presence, but Lim Yoon-ah also showed good chemistry with Cho Jung-seok by acting comically and naturally.  I thought that the actors from Girls' Generation were very good at comic acting. The supporting roles such as Ko Doo-sim and Park In-hwan were also very interesting.  He seems to be playing characters like stereo types in Korean movies, but his early acting set up Cho Jung-seok's character quite well, and from the beginning of the story, he delivered moving points without resistance and played a role as a medium for the audience.  The story of this movie is very simple and has a definite goal.  Survive Right away Many disaster films present destructive spectacles of disaster, but the disaster in this movie is just a white cloud, as shown in the trailer, but the film delivers the danger of the cloud very quickly and effectively to the audience, raising the sense of crisis very quickly: that the audience can quickly understand the situation of the story and characters, and become immersed in a growing sense of crisis like a game.  So I think it's basically a disaster movie, but to avoid going too seriously as a disaster movie, it turns the tragedy of the main characters into a comedy and keeps the mood light, which means that the characters' actions are tragic, but they're trying to control the movie so that it doesn't get too serious and loose without dropping its immersion by expressing its emotions and reactions funny.  I really liked the way this movie deals with characters, too. The characters of Cho Jung-seok and Lim Yoon-ah all fall into the same category as in society.  One is unemployed and the other is an office worker who has only a title, but has to be bullied by his boss without power, and they face the biggest crisis of their lives through a film disaster, but on the other hand, it also serves as an opportunity to draw out the heroic and noble nature of those behind the titles of society, such as unemployed and salaried workers, not just to make a fuss, but to judge the situation right after the proper reaction.  While the audience can easily understand their behavior, they are anxious to see if it will work, so they concentrate, sweat, and enjoy the movie.  If there's a sense of immersion, I can't think of the main character at this time. I can't think of the same thing. I'm saying that my head is all right, but my heart rate is different.  However, the difference between Cho Jung-seok's character and Lim Yoon-ah's character's description is a bit disappointing. In fact, it seems to be a two-top lead, but it seems to be a bit out of balance because she seems to invest more time and focus on Cho Jung-seok. As I said earlier, the action of this movie is quite impressive. Hollywood blockbusters like Skyclapper tend to increase the movie with the same story as a big as a gunfight or an explosion, but it, but it, but it doesn't have such.This movie reconstructs everyday places to the level of a platform game, and because of the background of everyday space, the audience is more immersed in it, and on the other hand, I thought that this setting was really ingenious, so we shouldn't be fooled by the light atmosphere of this movie.  After such laughter and thrill, there was considerable thought and creativity.\",\n",
       " \"It's more fun than I expected, but it's more fun than I expected. Personally, it's more fun than extreme jobs. I'm jealous of Cho Jung-seok's body. I'm going to be like that, too.  And Yoon Ah-chan, who is well-established as an actor.\",\n",
       " \"I don't know if it's fun, but the drone prodigy is a bit novel and the director feels like he's from the GED, not CJ Academy. Yes, the GED. That's right. Since it's a comedy. So it looks like Ancliches. The character is fixed. Cho Jung-seok is good at it's as good as it is. Whatever you do, Yoona, if you say you're good, you'll only act that way. Jeon Yun-je, why do you keep covering your eyes? You can't even see a drop of escape because you're scared, but you always say that the choreography was bad while hitting a zombie in the sea of blood.\",\n",
       " \"It's better than a short and intense horse.\",\n",
       " \"It was so good that Yoona was a female character that was hard to see in the disaster movie.I love the active role of leading the way and solving the problem responsibly.What's unfortunate is that there was too little medical history.\",\n",
       " \"It's neat. Without any clutter, it's the charm of actor Cho Jung-suk.\",\n",
       " \"Life is short. Let's go climbing.\",\n",
       " 'A successful popcorn-movie debut with an easy-to-watch, easy-to-watch, easy-to-watch, easy-to-watch, easy-to-see humor with proper props and pleasant suspense.',\n",
       " 'It was great to see at least one of my bodies running around in the middle of a disaster movie where I felt strongly that I needed enough strength to survive, using my wit with seemingly ordinary objects to get out of danger.  There was a scene where my heart was kind of pounding, and I arranged a smile and relaxed it.  I enjoyed watching the movie for the first time in a long time.',\n",
       " 'Tada Tada Tada Tada',\n",
       " \"In foreign disaster movies, bald muscles such as Dwayne Johnson and Bruce Willis appear and overcome the crisis with superhuman strength as if they had waited for the day, while Exit is ordinary and familiar with the situation of disaster and the main characters who are going through the crisis, so if they empathize with each other, the emotions of the characters are shared with the audience. The overseas blockbuster movies entertain the eyes, but provide another shared pleasure from familiarity.  Yoona's acting ability, which is a very clever well-made Korean movie, seems to be continuing her career as an acting idol to the point that she forgets the Girls' Generation 😊😊😊 Employment is important, but let's develop ourselves whenever we have time to survive ᄒ Hehehehehehehehehehehehehehehehehehehehehehehehehehehehehehehehehehehehehehehehehehehehehehehehehehehehehehehehehehehehehehehehehehehe\",\n",
       " 'I think mountain climbing, drone YouTuber, SNS, etc. made the movie realistic in the event of a disaster that might happen in the city. Of course, it was a movie, but I liked the disaster escape using mountain climbing, tension, and proper comedy.',\n",
       " 'It has the characteristics of a novel and novel disaster comedy Tentpole movie.',\n",
       " 'Are you watching cute details such as OST that melts the green light tattata provided by an ambulance?',\n",
       " 'Temple Run of Smart Reality',\n",
       " 'The Korean hero is born when an ordinary person gives up his or her share.',\n",
       " \"Wow, it's a Korean movie that's out of Korean movies. It's the first time in Korean movies. Thank you for the hard work of Cho Jung-seok and Lim Yoon-ah. Group applause on the rooftop is impressive. It's great to hear that it's the director's debut film.\",\n",
       " \"You're really making me hold the chalk in my hand.   I burst into a burst of laughter at the peculiar stupidity. Lim Yoon-ah, the human potential who poured out the heart-wrenching nano-actress' standard, the brave, the cute, the running, the running, the tears are full of humanity, I know you guys hate it, but it's going to be really good.😆\",\n",
       " \"It is a movie that reflects the pleasure of reading genre novels that male readers usually read, such as 'Young Success Package' for young people living in this era after their 20s. It is difficult to give high stars because it is far from a movie about depth or relationship.  But if you're looking for a popcorn movie in the theater right now, this movie is perfect PS. It's a movie that's like this anyway. It would've been nice if Cho Jung-seok's special feature was included in the cookie.\",\n",
       " 'On the day I came back from my overseas trip during the holiday season, I went to the movie theater and watched this movie in a good mood, and in every way, the movie was so Korean that I was hit hard by the reality.   Megabox fraction',\n",
       " 'I can see myself in the tears of young people running toward this gritted high building when a disaster occurs, and I can see myself in the tears of young people running toward the first floor, a light but not thin, pleasant but not ridiculous society this summer, and it seems to be a fun summer movie to watch with their families and friends.',\n",
       " \"Cho Jung-seok's snarling, which is optimized for comedy movies, is always cheerful and comfortable. Obviously, that's what this movie is all about. If you look at it seriously, it seems like it's fully utilized. It's worth a little praise rather than a comedy with nothing left, but the script is obvious, but the sound effects are very good. Da Kill Ring Ta Im Eu Lo\",\n",
       " 'Exit reminds me of Sanggu. When I was in middle school, I went to the shorthand academy.  At that time, math academies were usually called shorthand academies.  If you don\\'t understand what the shorthand academy is, you can just listen to it. Sanggu, who was a year older, was very sensitive to the rainy weather at the time because he didn\\'t have a lot of hair. One day, he was worried about his sad hair, which had never been expected to be soaked in heavy rain. A classmate who seemed sorry for his brother, who was afraid to come out of the academy door alone, said he would lend him an umbrella. The depressed brother gave thanks and opened his umbrella and headed home about 200 meters away from the local supermarket to build a canopy. Sanggu-hyung, who didn\\'t know the truth, wore an umbrella and went under the canopy, and the umbrella was torn apart by the nail that popped out. In an instant, I kicked a piece of cloth that had lost its function, and wandered around the streets, complaining about whether I should get rained on or not. My friends and I nicknamed it the emergency exit because we felt sorry for the beaten top shape and on the other hand, it was so funny that our stomach was torn. Is there no way out of hair loss life? Sang-gu, who felt guilty about getting hit by the rain the next day, always had an umbrella in his bag. It was to develop Hyean through an umbrella for the variables of life that were not always expected to be unfolded. Hye-an reminds me of a math teacher. I used to say, \"Isn\\'t it true or not\" at the end of my mouth every day, but I couldn\\'t understand it because I couldn\\'t understand it, but I remember being beaten.',\n",
       " \"I didn't like the lines the most when I got too much massages from the media compared to the movie level.Some of the lines were really sloppy and all I could do was scream, so I wanted to cover my ears. I couldn't help laughing at the point of the director's intended laughter. I just laughed at the end of the movie because I was dumbfounded. Actors who were more serious and over-confident than those on the Titanic were really unconvincing acts and acting was really bad.It was the most time-consuming movie I've seen in theaters recently, and it's not funny at all, and it's sloppy at all to make disaster movies, so it's not a dope.\",\n",
       " \"The cold job and this movie are likely to create a must-win alternative to the long-lasting laughter and echoing.I think this pattern will prevail for a while in the big season.Chungmuro is good at mass-production if he thinks it will work after he makes an estimate, but he will not be able to make such a bold move.It seems easy, but it's not that easy not to cross the line. What stood out more than entertainment was that they forgot a lot of the urgent rhythmic patterns and Internet broadcasting points.And yet, the trap YouTuber scene was like a family, and it became a little childish from the moment the number of brilliant drones increased. That's why you have to be careful when you take out the Joker's drone.Because it makes the preceding situations feel awkward.In addition, if the quantity is too high, the convincing power of the situation concentrated on the main character will be reduced.Because they're not the only victims.\",\n",
       " 'a combination of disasters and comedies well suited to modern Korean style these days.',\n",
       " 'As a disaster-action movie, it provided enough things to watch, and it was the most pleasant Korean movie of the year in terms of humor and tears.',\n",
       " 'Mixing and stir-frying the right amount of disaster material and a large amount of comic material created an impressive and unique taste.',\n",
       " \"CJ's first large-scale showcase, a comic disaster that seems to have been pulled out in the beginning, but eventually puts it back in.\",\n",
       " 'You can enjoy a delicious meal with your family, patting your stomach, and huddling together to watch a good movie, and being dragged along without thinking about it.',\n",
       " \"1 It's a little less than the best disaster movie in Korea, but it's certainly the most sweaty movie since 2015 when a man walks in the sky. 2. The very Korean settings in every corner of the movie became a medicine, not poison. A novel rescue method using 3 drones. I really liked the ending, a clumsy love line, and I wanted such a plain ending without kiss scene. I'm determined to be a person who can do even a chin-up.\",\n",
       " 'The characters and comedies that make me feel like I want to be broadcast in a dangerous situation are very disappointing.',\n",
       " \"It's a movie that I honestly didn't expect, but it's fun, but I think we can use it for safety education.\",\n",
       " \"If you can't find a job, avoid meeting all relatives in front of your family as much as possible. If you have no choice but to go, you'll be able to eat food that you normally don't eat well, or if you're a nephew of Cheomuk and Chomuk, you'll never see her again after using abusive language in front of your friend, and she appears beautifully at the most moments you want to you.   It's not strange. Oh, Jung-seok, you're so good at broadcasting. You're yawning. You're yawning. You're flying a drone. You're doing a broadcast. All of a sudden. It must be hard to run. Yuna is pretty and cute. Love swan n zZ Mom's horoscope 4 0\",\n",
       " \"Actors' acting invigorates a near-heavy disaster film.\",\n",
       " 'Im Yoon-ah, let\\'s go to 10 million. I love the message that there are no useless people in the world. It\\'s really hard to say that the level of relief production is also common.\" It was shot at the climbing stadium in my neighborhood. Why didn\\'t I get to know Yoon-ah? I got a 10,000 won coupon for \"Wangsimni IMAX, 08082.',\n",
       " 'I applaud the youth for being alive in the job crisis.',\n",
       " 'a fresh shock at the expression of a drone, which has always been the subject of horror in movies, as a line of hope.',\n",
       " \"There are so many things I want to say, but to summarize, the advantages of film animation that I didn't have to make, the exaggeration and the color, the realistic rehyun, who pushed out the rhythm that real animals couldn't say, is not attractive.\",\n",
       " 'I watched the new \"Lion King,\" which was released 25 years ago in a theater where I watched the original Lion King, without considering the special screening environment such as IMAX and 4DX.  Most of all, the fact that this theater is still here, and that the theater can enjoy the new Lion King in the same place, 25 years apart, is a great blessing for me.  The touching narratives and impressive music, which were no different from the first encounter, were enough to recall the memories of those days, and the amazing technology of Disney animations gave us a wonderful experience throughout the movie.  Of course, there\\'s something I\\'m personally sorry about.  The emotion of the story itself, which was too much to follow the pure emotion of the time, was less than that of the time.  Along with the limitations of these years, the universal response of children in the theater is a bit disappointing.  At that time, I and other children who came across the original Lion King were much more focused on the emotion of the story than marveling at the animation technology.  Perhaps that\\'s why I still have vivid memories of children my age, including myself in the theater, who were crying over some sad scenes in the play.  On the other hand, children of this age who are exposed to the new Lion King tend to focus on what the animals in the play look like real animals.  Children were often seen asking their parents next door if they were playing a real animal or how they could do something like that on a computer.  The wonder of cinematic technology, which makes it difficult for children to fully immerse themselves in the emotions of the story, feels somewhat sad.',\n",
       " 'What you can see from the complete re-creation of the original is confidence in the original and mythical story.',\n",
       " \"One of the two most painful parts is the description of a face that has no limits, which is allowed only in the genre of animation, and the other is the presence of a sexy sca-losing thing, so I can't stop thinking about it.\",\n",
       " \"All the skills left was skill and no emotion. I didn't know that I would write the same story for the third time after watching Disney live-action movies. I think the biggest drawback is that I've already seen these movies as animations.  If I hadn't seen the original work, I would have been surprised by technology and had fun, or I would have thought about whether I was glorifying my childhood memories more valuablely.\",\n",
       " \"He took the Hoxy animals himself and put them on the act. It's amazing that CG can be surprised even in these days when the eyes are raised. The thrill and emotion that I felt when I first saw the animation Lion King can be seen on the big screen with more advanced technology. The moment I feel grateful again for living in this era, the unique and rich expressions of animals that can only be animated by realistic CGI are not revealed, but at the same time, the grandeur of Lion King's animation has been brilliant.  Of course, it can act like a double-edged sword, where the likes and dislikes of no change are clearly divided, but at least for me, this worry is welcome. 🙌\",\n",
       " \"If you translate Lion King into Korean, it reminds me of Young-sik, who used to be in the insurance business. He got a damage assessment when he was in college, but when his job didn't go well, he stepped into the insurance business. He was good at business because he used to speak well, and soon after he joined the company in less than three quarters, he became a sales king or insurance king and received a medal. My friend, who was more eager to sell, received sales orders from other companies, but until then, I didn't know it was a multi-level business. Yeongsik was bitten in a typical pyramid structure that pre-purchased numerous items and resold them. In the end, he became the king of buying and buying, not the king of selling, but the king of buying and buying. When I heard about the sad pocket situation, I remembered the story of a woman who said that the house price could not go up too high even if I looked for a room in the Bokdeok room, and the sweat and tears that Young-sik had been selling insurance came to mind. In this cyclical stream of consciousness, the only thing left was the fate of Yeongsik, who was reduced from the king of sales to the king of lions. In order to appease such a sad fate, I introduced Munmyeong4, and suddenly stopped selling and started building my own kingdom online.  Young-sik, who won the title of King of Lion and King of Civilization, is still addicted to games today.\",\n",
       " \"He may keep reminding me of the memories between him and me, and may try to find a gap by placing the new person in the comparison list.  But for the younger generation who don't know who was there before, it will be a new and necessary movie.  Like a stepfather.\",\n",
       " 'Excellent CG, however, its shortcomings are further highlighted.',\n",
       " 'the majestic majesty of perfect technology, a series of surprises and thrillers.',\n",
       " 'The opening song, \"Oh Did You? Chihuahua\" reminds me of my childhood memories, and I like it when I\\'m faithful to the original version of the movie, but I feel more like I\\'m watching the animal kingdom. The musical element is so dead. Even if I train and play real animals, I believe it\\'s amazing CG technology, but it\\'s so real that I feel a sense of separation from animals speaking human languages.',\n",
       " 'Baby Simba is so weird.ᅲᅲ',\n",
       " \"Thank you for the new cycle in 25 years. The visual that reminds us of a documentary, Pride could be taken from this visibly anticipated remake of the Lion King when we were young, and it's amazing that CG technology has developed to meet our expectations. Even if we didn't have to make it, it's still fun.  In other words, I don't feel bad when I watch a movie alone, not in connection with the original.  Of course, I can't help but compare it, but there are quite a few details that have changed to a better way, even if it's unfortunate, such as the half-shattered Be Prepared and long live the King lines, and the less charismatic Skar's Delivery first-time Pride Rock, which was not dynamic enough to pan out, unlike animation, and the completely unexaggerated movements and limited expression of emotions.  Simba's hair's journey-like visuals were amazing. At first, it felt like watching a documentary.  I felt it while watching the jungle book and Alita, but if it's enough to make a real-life movie that's not real-life, there's nothing I can't do soon.\",\n",
       " \"I'm leaving the theater with a heart of warmth as if I were a young man who grew up with Seockle OpLife Hakuna matata, the ultimate producer of Disney's real-life amazing CG.The Disney is also love. Some scenes added without damaging the original work. Beyonce's sister has goosebumps of all-time OST. PS IMAX Kang Kang Kang.👍👍\",\n",
       " \"I thought you were on a safari.Instead, storytelling is like a fairy tale. It's like watching a movie, but I want to raise a cute little lion.\",\n",
       " \"Disney version of the Animal Kingdom makes you feel an unpleasant valley that you've never felt in Alita.\",\n",
       " \"It's been too long since I've seen the original movie, so it's hard to compare. It was more fun than that. Originally, there were some aspects that seemed sloppy, but the music was also reliable and listened to, and I enjoyed watching cute animals. Personally, I don't know because I didn't see Dumbo and Pikachu. Aladdin was more fun.    I'm brave only when I have to be brave, at least I can enjoy the sound of Hakuna matata.\",\n",
       " \"It was an honor to see Lion King, which could only be seen in the thrill plane of the magnificent Mother Nature, which was not seen in animation, in such a great quality graphic. Scar's image was so powerful in his previous work that this time, his charisma was rather weak.  I missed him who gave me a sexier voice than any villain. Timon Pumba Duo's witty humor became even more powerful and made me giggle constantly. I was satisfied that the real-life story of the boar was cuter than I thought. The hyenas used to feel only under the dumb, uncontrolled Skar's subordinate, but they were a little scared when they threatened Simba and Nala.                                                          Simba, which was born into a real-life version, was really cute, but somehow more dignified was Mufasa when it was a painting.  In the scene where Simba found Mufasa after seeing the river, the expression became somewhat ambiguous because the two were not very clear.                                                Except for the movie's famous scene, 🎬 1 Mupasa's fall, the whole thing is the same.  When Simba sees Simba in crisis, he jumps down without any worries and watches the reliable image of Mufasa, who is relieved by the fear of the Simba devil-like scariest eyes, but the only thing left is Simba, who finds himself late in his already closed arms, and Simba becomes alone and walks silently on the path where no one is. 2 Mission: In the original mission, Timon and Pumba alone create a melody. The composition of the accompaniment was a bit disappointing, but this time, I was expecting to make up for it, but when the animals were performing together, I was so excited that I wanted to sing in my heart, but personally, I was hungry so I wanted to sing a little longer, but when I saw it, I hummed for a while. This phenomenon will appear not only to me but also to most audiences who watched this movie.                                                            This Lion King, who lived up to my expectations, rewarded my waiting with fascinating music, and the beautiful background cleared up my exhausted mind, and Simba and Mufasa gave me a clear indication of my responsibility.  It was really impressive to see him clenching and fighting to protect something precious to himself.\",\n",
       " 'The sign has been remodeled.So I went a long time later and found out that the store rental was completely attached.',\n",
       " \"I rewatched the animation to see the real-life version, but I shouldn't have. It's just a comparison\",\n",
       " 'Director and OST are inferior to animation, reality is inferior to animal kingdom, and Be preached, you bastards.',\n",
       " 'I had to keep thinking about the faces and voices of animation characters throughout the movie so I could understand the emotions of these wild animals. The fact that humans are watching the acting and musical of wild animals that are difficult to change their facial expressions does not always mean that the development of non-sense two-hour documentary technology on animal farms will bring good movies. Sometimes old schools should also remain old schools.',\n",
       " 'My childhood perfume seems to be wetting me.',\n",
       " \"Some of the things I think about while watching the movie 1 First, I think that even if I act, it won't be so unnatural 2 Pumba is so dirty I want to give him 7,000 won and send him a bath. Simba is so cute.  I wanted to go to the shop and buy a Simba doll, but I came home because I didn't have time. If I had bought it, 4 CGs would have been a lion-shaped mop, so I wanted Disney to design my life as a CG. There are several scenes that grow into 5 IMAX full-size, and they serve in full-size at a very good timing. There was an audience singing along Hakuna Matata next to 6 when they could get drunk on Amac mulberry.  I wanted to straighten my 3D glasses and hit him a few times, but I held it in because I was afraid I would go to the police station 7. If you want to see the cute and easy Lion King, I would recommend it right away.\",\n",
       " 'Animal Kingdom dubbing feeling',\n",
       " 'Amazing Technological Advancement But Disappointing Emotions',\n",
       " 'Remakes needed only by Disney shareholders',\n",
       " 'When I failed to walk a tightrope between real life and genre,',\n",
       " \"Simba, who realized the cycle of life and grew into a true king, I assure you Timon and Pumba are the most perfect animals.  · IMAX LASER 3D CGV Yongsan I'Park Mall IMAX Hall 9:35 p.m. The 100th movie/view preview of 2019 alone gives me shivers and tears.\",\n",
       " \"Instead of making Disney new things, make profits by making them real. But it's still fun. Hakuna matata is the number one contributor to the new world. If you hold onto it, I want to raise a lion.k.a lion.k.\",\n",
       " \"There was a moment when I felt better and proud with just one Hakuna matata, and it wasn't bad, but it felt different from the memories.  A little bit of the bible.\",\n",
       " \"I don't think this movie is a real-life movie, but some scenes look more realistic than reality. Harley Berry trained to shoot with a puppy in Johnwick 3 for six months, and I think we'll have a day to deal with CGs. I don't agree with love because it's a realistic animal. I don't see the lines at all. The last battle is dark, but I can't even see who fights well because similar animals fight. Alidin's music is exciting, but Lion King sings so soulfully that it looks like the screen and music are playing separately.\",\n",
       " \"If I were to blame, I couldn't express my character's expression because it was real, but Pumba and Scar are the most disappointing, and it's enough to be covered by the fun of the original CG.  The original work is so great that I have nothing to say.\",\n",
       " \"I didn't know how bad it was until I saw it in the past when there was no single advantage. Now it's so old that I think it's a very harmful content about the succession of the royal patriarchal system of the male, who is neither below nor below. I think Aladdin's live edition is trying to get better, but the creators nor consumers should not consume such narratives anymore. It's a 10-fold old version of Star Wars.    Well, from the original to Osamu, Tezuka's jungle master Jjap, and from the 1990s, it was said that it was bad luck, but it was the same story, so it's the same story. You can't play tricks on your own people, or tell hyenatte to jump into bait, you're a total loser, and you're described as a Hispanic, a real hippie.   In reality, it leads to the n-year-old chaebol, and circle ophthalmology can only be called JINJUNGSUNG when herbivores call it self-contradictory with HAN or hyenas outside the border as gangstraps. Don't sing it as a grand theme of the Baekje Kingdom. B-FREED, a popular song of the original, is really shabby and even the sun is shining.  If you want to carry through the circle op's philosophy of dog poop rather than the real-life Biffrey Fair, you can't just make a spin-off for rhinos or elephant families to protect their families from lions, or rather use a hyenatte outside the border to talk about it with its instinct, or in 2019, Mufasa will talk about it.  The Hakuna matata life of Timon Pumba Hippi Gay Began Couple is straight and has no future, but the circle op-life life is about the harmonious circulation of truth, and awakening it to the lioness Nala, the wise man of the East India who eventually visits and awakens the sexual desire, tells us that your mission is to succeed the patriarchal throne.\",\n",
       " \"A true decore doesn't even consider animals cute.\",\n",
       " \"I saw the disappointment and harsh criticism of the Lion King movie first, so I watched it in Yongamaek without much.  The conclusion is that although some regrets remain, it was enough to see, and I think the success of this film will determine the direction of Disney's animation live-action in the future. It is clearly the Lion King that can be heard, but what seems to be the National Geographic, so the concentration of cognitive dissonance resulting from the difference between sight and hearing is also reduced due to the lack of immersion due to the realistic portrayals of animals 3. The fear of the Lion King 3 When I met Hakuna Matata, who used to sing the melody in the past, I was so moved.\",\n",
       " \"Although it is not much different from animation, the CG of real life animals is amazing.  It was like watching a documentary, but personally, I expected a lot of musical scenes, but as I showed it in reality, I felt sorry that it didn't meet my expectations.\",\n",
       " 'Music has seen the kingdom of an animal.',\n",
       " \"I'd like to praise you for your excellent live-action technology, but I don't know the reproduction or impression of the original animation.\",\n",
       " \"an orgasm when Beyonce's breathing resonates throughout the theater.\",\n",
       " 'Timon and Pumba play the role of licorice.',\n",
       " \"I'd like to swear because it's so boring, but if it wasn't for Timon and Simba, I'd give you one or five. What kind of graphic king visual me king Beyonce king music video? It's not a big story, it's a king. He goes back and forth in the jungle, sings Beyonce pop songs, sings her emotions, and sings JAY Z together. Why didn't you just sing it?\",\n",
       " \"As I get older, I can't help but cry from the beginning of the movie, which is just music from 25 years ago on National Geographic.\",\n",
       " \"It was good just to be able to remind you of your childhood through a true story. Personally, the full-screen musical sequence alone is worth seeing as a dragon vein. I'm Jupyeongya Pabak Chihuahua Grandmother, because I also watched the trailer with the neo-stealer Timon and Pumba, respect for Pumbaeng. Let's go home with Yongsan CGV IMAX LASER 3D Watchout Festival Yongamac 3D.   Disney you guys are eating it all.\",\n",
       " \"While I was trying to empathize with the point where I was moved by the greatness of nature and the acting ability with awkward facial expressions, seeing him make only one expression throughout the movie, I couldn't concentrate well, and Drip was also funny, so his tension was a bit fluctuating.  The graphics were amazing, but it was too much to expect more than the original.\",\n",
       " 'Spidy Ma Nido is addicted to webbing.',\n",
       " \"After watching the movie, Peter Parker's growth period or the original Spider-Man element seems to be starting with Gao Gall. After the end game, I think the story should have started with Iron Man and Captain's empty space. For all-time Billon Thanos and the Avengers members who were dealing with the Cheetahs, this villain is just a criminal, the world is a prank.\",\n",
       " 'The Avengers, which started with Iron Man, deployed Jake Gyllenhaal, whose mid-actual genre is completely different from the legacy of Iron Man, and mixed hero and Highteen Movie, so there is no time to be bored with Marvelous Jokes doubled.Far from home seems to mean the loss of Tony Stark, the mentor, and the agony between the hero and Peter Parker.',\n",
       " 'Disney should buy Sony 1 story overall is distracting 2 Spider-Man has no unique action sequence 3 Cookie videos are the most fun 4 Tony Stark hidden all over the place',\n",
       " \"the growth of Tony Stark's 49th and his breakaway spiders.\",\n",
       " \"And I want to see the action scenes in Germany and London in 4D.There are a lot of scenes I want to see. Iron Man's shadow is too dark. Now I want to see more independent Spiddy. Marvel always says that people have to wait and listen to people's hearts. The opening music was very impressive. I had to admit Marvel's sense of humor.\",\n",
       " 'Spider-Man is perfect for weaving like a spider web while gliding between different stages and settings.',\n",
       " 'The perfect epilogue of Spider-Man MCU Phase 3, which is now flying higher in less space than limited space.',\n",
       " \"As we know, Spider-Man's complete work, PS Marvel Spider-Man, is really amazing, and while Hightin Movie's freshness is being melted into Marvel's worldview, Billons are not childish or heavy with characters from reality and non-realism, they're just two cool ps cookies.   There's one more behind the staff roll, so make sure you take it. I'm sorry to say that you're an old man named PS Nick Fury.\",\n",
       " \"I'm sorry, Toby. Holland seems more like Spider.\",\n",
       " 'The fresh leap forward of MCU under Marvel Cinematic Universe, to settle down to a whole new generation beyond \"The 1st Generation of the Avengers\" and now beyond \"The Age of Post-Iron Man.\" Personally, Sam Raimi\\'s Spider-Man Trilogy, Mark Webb\\'s Amazing Spider-Man Series, and Spider-Man New Universe were all impressive, so the Twenty-third work of MCU\\'s Spider-Man, Spider-Man, Spider-Man Home Star Award.',\n",
       " 'Tom Holland Erasing Toby',\n",
       " \"Let's rebuild it. High-teen Spiddy's great success with a small and cute story behind the Marvelous Geumja Tower.I don't think it's impossible to change the generation of Athen Marble.Jenda, please forgive me for doing MJ anti-homecoming exercises.  I can't miss the Spider-Man series. I can't lose it. Daily Viewers. LOL. I'm so happy to see you.lol lol ps2 height of height Hwang Seokki I love you. I respect you 👍\",\n",
       " \"Stark's internship is over. All about spectacles and spectacles that are as messy as their European school excursion. Spoil from here. Yes, the mystery tastes like this. JK Simmons, please make our Spiddy Cookie Movie a lot more fun in the future.  Marvel\",\n",
       " \"The first movie I watch on the opening day is this, and the second movie I haven't seen is this.\",\n",
       " \"Despite the fact that the production company felt a lot of pressure, Marvel proved again that Infinity Saga's 11-year-old history was so cute, lively, spectacular, and shocking that the movie was directly linked to the thrilling endgame incident.  Marvel's heyday is not the end, but the beginning, but rather the beginning, with the lively and freshness of Infinity War and the aftermath of the endgame, the brightest and best of Spider-Man's all-time solo-movies, and the exciting new action and the welcome production using augmented reality of Spider-Man, the main villain's poor performance.  And then there's a cookie video that's just shock and chaos.\",\n",
       " 'The reason I like Spider-Man the most, apart from perfection, thanks for being a complete member of Marvel.',\n",
       " \"After eating a course meal that wasn't bad but seemed a bit messy, I thought I left the dessert shop. You're good at cookies.\",\n",
       " '\"I\\'m just a friendly neighbor.\" For Spider-Man, who misses Peter Iron Man, who stepped on the carpet of a hero beyond his neighbor through this film, it\\'s been reborn as Tony Stark\\'s legacy.   The image of Spider-Man returning to his true adult appearance, along with the image of a boy who missed him in Infinite War, but was heartbroken for Tony in this Far From Home, was well portrayed, and the chemistry between Tom Holland and Jendea stood out.  A film that marks the beginning of a new story and a smooth start for a new hero after the endgame.',\n",
       " 'Spider-Man Far From Home 2019 is similar to the 1959 world. Spider-Man\\'s plane jump cut plays a key role in the editorial that reminds people of the last train bed scene in the North.   The reason why the main character, Sun Hill, was mistaken for Kaplan was because someone found out about the lake in Caplan\\'s hotel. The reason why MJ asked Peter Parker if he was a Spider-Man in this Marvel movie is because he was not there every time an incident occurred. It\\'s a trick that makes it look like there\\'s no welcoming use of the virtual world.  Peter Parker sees Tony Stark\\'s face when he wears an E.D.I.D.S.D.R. Downey Jr. and Jake Gyllenhaal\\'s faces overlap considerably,so E.D.S. is used as a means of visual deception for Mysteryo, but on the other hand, Parker uses it as a tool to look at the truth.  Transformation and welcoming is already a foreshadowing motif in Captain Marble, where Talos disguised as Nick Fury appeared, especially in this film, Spider-Man can vary from Iron Man to Captain America Black Widow through change and tools, which reminds us of Shakespeare\\'s Midsummer Night\\'s Dream.  But what\\'s interesting is that the welcoming technique that Mysteria uses is actually the essence of the movie, and characterizing that creates a vision with a projector can be read as a metaphor as a projection of a movie, but why we can easily divide Spider-Man into a hero with a villain is that this movie is linked to the human attitude toward truth.  We just look at the phenomenon as we like to believe, and we combine some facts and facts to create a true truth, and the truth is determined based on faith.\"  Whether MJ is confident that he always tells the truth or Happy believes that his relationship with Aunt May is love, as Nick Fury said, human beings need to believe.  Likewise, as soon as they entered the theater, the audience had already promised the movie to define Spider-Man as a hero.  Perhaps that\\'s why the scene of MJ and Parker going down the city together at the end of the film seems like Marvel\\'s playful question asking the audience, \"Do you still think this hero is true?\"  In the end, Spider-Man Far From Home is an interesting point in the relationship between the movie and the audience, as Hitchcock did, while at the same time taking an insight into the unique location of the superhero film in the exhaustion era.',\n",
       " 'The scene of Peter and Michelle confessing to each other was so cheesy that I thought I was going to die.',\n",
       " \"▶️ Rather than the collapse of the world right now, the first kiss of a teenager was better expressed.  In terms of youth growth, it's a failure in MCU's view, but if you look at it so well, Kevin Paii is a competent person among the abilities ▶ While his main work compares truth, false reality, and virtual chaos with modern times, watching this movie in 3D is almost like an optical illusion, the work begins with falsehood and falsehood.  The main film starring John Fabro, who plays the role of ▶ 해 Happy', is a Lion King trailer directed by him.  무료2019 07 02 080 CGV Myeong-dong 4-gwan SVIP free of charge. 2019 07 04 CGV Cheonho IMAX 3D parents, 2019 07 07 07 CGV reunion nephews.\",\n",
       " 'I love the bad guys and the action, but when is New York coming out?',\n",
       " \"Thanks to the love of the characters and the extension of Marvel's worldview, there were some pleasant scenes from time to time, but I have to doubt whether this movie itself is a great one or not because of the road that Marvel movies have paved.  In this way, it would be difficult to attract new audiences who failed to absorb the existing Marvel movie world view, and I think the next phase of Marvel series will be a crisis.  Of course, these characters have been loved for decades, and they're just a joke that doesn't pass by the brain of Yeopo in the corner of the room, but it was fun to watch the performance of Tom Holland's Highteen Spider-Man, the most unfortunate Marvel movie since Captain Marvel.  Jake Gyllenhaal seems to be exploring crazy characters in various genres, and it is regrettable that the character of the case antagonist, who felt sorry for the production and screenplay, is clumsy and forced.\",\n",
       " 'I was more than I expected, but I felt bigger than I thought because the vacancy of first-generation heroes was...',\n",
       " \"First of all, this movie is not a growth movie. I don't think Peter Parker at the beginning of the movie and Peter Parker at the end of the movie are any different.  Considering MCU's amazing growth story through the Iron Man Thor series, it's a bit disappointing to see this movie as a short break after the big event called Endgame rather than the final episode of Phase 3. Jake Gyllenhaal's mystery is just a big shot. There's a reason why he's such a big shot. Jendaya or Zenyatage's MJ was good, too. 3 The movie overall reminds me of Harry Potter and Dr. Strange based on the Iron Man series, I think of Peter Harry Potter, Harry Ned Ron MJ Hermione, so it's rather awkward to see a friendly neighbor Spider in Europe.  By the way, homecoming and this movie, Peter Parker seems to be constantly cleaning up Tony Stark's shit.  It's how soloists deal with the world view that has become too vast.  Nick Fury's excuse that something more important could happen to Captain Marvel or Dr. Strange if the Elementals could really destroy the Earth, or that something busier than that honestly doesn't make any sense. Besides that, if Capma or Docs are dispatched, there's a lot of things that might be solved in one queue, and in the long run, these parts will continue to be a burden to MCU. And it's a shame that the science and technology have now become completely fantasy, with no magic or boundaries, 7 Tony Stark tasted the bitter taste with Ultron, and left after doing exactly what Hydra did.  You even put a 16-year-old in charge of that massive thing.  The opposite is true. By the way, you were decorating something like this, but why were you angry at the captain in the end game? The first cookie bursts out laughing the best moment I saw it. I didn't think I'd see him as a cameo. The second cookie wasn't a small new multi-bus that was caught in a multi-bus, but now it's expanded to a space-scale movie, but it's time-spider movie.\",\n",
       " 'Spider Matrix Iron Man',\n",
       " \"I can't stop looking forward to Spider-Man because he's a Spider-Man.\",\n",
       " \"I solved the situation after Fingersnap the most like Spider-Man.Tony's empty seat and Peter Jake Gyllenhaal's Mysteria Cookie, who grew up one floor more, don't throw away either of them.\",\n",
       " \"Personally, I think it's the best Marvel movie with no action.  Although the narrative structure is somewhat less elaborate, the colorful graphics and Spider-Man's charm are already enough to offer. I was very disappointed to see the previous movie Homecoming. I didn't expect much, but I entered the theater, but it was so much fun that I couldn't wait for it to come out.  I'm just thankful to be born in an era where I can watch these movies like graphics that develop over time.  From the Marvel movie Avengers Infinity War, which is more delicate than the money that can be enjoyed by the eyes and ears, to our young hero Tom Holland, to Dr. Strange's spectacular graphics, to the way Peter misses Stark, the genius inventor, Iron Man, escaped from the cave and called for a cheeseburger, when did he become such a great new mentor?  I can't believe I can see Jake Gyllenhaal in Marvel and the appearance of the movie's famous movie, 🎬 1 Mystery, which was even more interesting because I only hope the young hero doesn't blame himself for the end of Iron Man's life because of him. It's so nice to see her in a suit like that, and she's just as powerful as Dr. Strange, and I can't keep my mouth shut.  Eliant's power was so great that I was worried that the confrontation between the hero and the hero might be a little weak, but the destructive power that I soon showed was so great that I was worried that it might not be necessary.  Early on, I really liked the synergy created by Mystery and Spider-Man. It turned out to be a hologram, which turned out to be a pretty amazing twist. The sequence of attacks on Peter using visions was graphic, but a mysterious atmosphere reminiscent of Dr. Strange was definitely the best.  Especially when the broken Iron Man walked with a limp blaming Peter, it hurt like a nail stuck in his chest. I was so afraid that Peter might really think so.  Spiddy, who was willing to sacrifice himself to protect the world more than anyone else, just did his best as the Avengers, but this is where the eye-blowing begins.  Avoiding the blow of countless drones with quick movements gives us the ultimate pleasure of seeing them as much more delicate and powerful combat power than before the option.  It's so different from homecoming. There are so many things to see. Even if I watch this action over and over for hours, the graphics were so great that I could not express the happiness that words could not express during this scene. It's also a scene that convinced me why Spider-Man was able to become a part of the Avengers at once. 4. Peter's thrilling. Yes, amazing.One of the reasons I liked Derman the most is because of his sense of spider, which is finally appearing in this series.  His name is rather childish, but it doesn't matter. He'll soon show us a subtle action that makes no sense, so which hero will see such a nimble move? His real ability is his charm and why so many people are enthusiastic about Spider-Man. His expression of carefully winning without being tricked to the end is still haunting me. If Tony Stark was alive, I would have smiled and hugged him for some reason.                                                                                 Cookie's video is literally chaos itself, he struggled to protect his neighbors, but it wasn't time for him to smile as if he was watching a high-teen romance with the danger of becoming a loner and being no longer able to reach his neighbors.   The real thing is, Spider-Man will be back in the next series.\",\n",
       " \"Don't bother Spider-Man. His eyes are red. It hurts. Anyway, please explain the cookies.\",\n",
       " 'The death of Peter Thingle, also known as Peter Tingle.',\n",
       " \"After joining the Iron Man Spider-Man Avengers, I liked Spider-Man New Universe, but the more I thought about it, the more I realized that Spider-Man's personality disappeared and only Marvel movies remained.\",\n",
       " \"I think I'm getting into Tom Holland's Spider-Man.\",\n",
       " \"Magic can't be magic.  Slowly reach the fundamental question of what to believe, as if shadow could not be a picture.\",\n",
       " \"A New Match by Reality Stone, which has melted Spider-Man's Hero Story and Peter Parker's Diary into clothes suitable for youth heroes by modern technology, a cookie video showing the growth story of friendly neighbor Spiddy, or looking forward to a difficult time.\",\n",
       " 'Peter Parker, not the Second Iron Man, and Step Up to Spider-Man IMAX 3D CGV Wangsimni IMAX Hall 3:00.',\n",
       " 'a roller coaster that started with an expectation of 5 points, then fell sharply to 0 points, then returned to 3 points.',\n",
       " \"So this is what Marvel's Phase 3 final movie is about, with Spiddy's awakening and Tony Stark's remnants all over the place, making Marvel and Spiddy's move so curious. The atmosphere after the end game is forgotten because there are so many comedy elements.Happy's expression on his face as he looked at Peter customizing the equipment with his Iron Man Ac Dc song playing from time to time on the road.  If you are watching this movie without watching the end game, I recommend you to watch the end game.\",\n",
       " \"Marvel Heroes' exclusive movies mostly went to famous franchise restaurants because they had a new menu, but the taste isn't as great as expected, but I'm going to try to do the usual thing, but the last cookie for dessert is the best, so I'm satisfied with it's like a restaurant.\",\n",
       " 'Spider-Man, whose misfortune begins.',\n",
       " \"I sincerely warn Sonny.  If you take our Spider-Dee and make him look like a Venom, we'll boycott him.\",\n",
       " \"After the movie, people didn't leave, so I thought they were welcome.\",\n",
       " \"Spoiler's Mystery seems to have saved Villan very well.  Especially, CG production was the best to attack using Spider-Man's psychology.  The scene of MJ flirting with Ned and Betty's love scene was really funny, but I felt a bit bored and stretched, so I'm very sad about that part.  And I was really happy to see a nice person watching the cookie video, and I'm looking forward to and worried about Spider-Man because of the cookie scene.   Night Monkey Red Jafflin Whiplash Fletcher\",\n",
       " \"After MCU Phase 3, he played a good role in keeping Marvel fans from leaving, but it was not enough to be considered an original and excellent starting point for the new phase 4.  It's good to keep the perfume of the Spider-Man series and the Marvel world view well, but what if we could have been more bold and independent?\",\n",
       " 'moving art shooting',\n",
       " \"I'm going to tell you a story like shit, and I'm going to use a body language like that.\",\n",
       " 'No wife, no car, no house, no dog name.',\n",
       " \"Even Keanu Reeves' stiff acting is a tailor-made suit for Johnwick's character.\",\n",
       " \"Congratulations on making Johnwick's third installment.\",\n",
       " \"Johnwick, stop bothering me, you bastards. Let's walk on the flower road.\",\n",
       " \"The killer's skill in killing shows the craftsmanship;\",\n",
       " \"You still can't remember when you're out of the theater like the first one, but the exact shooting and obsessive replacement of the bullets are definitely the color of this movie.\",\n",
       " 'Meeting Neo and Morpheus A few years ago, when you said you had met him, you laughed.',\n",
       " 'The pencil is this scary. Guys.',\n",
       " 'Stylish is more advanced than the storytelling war, which has gone further than before.',\n",
       " 'If you want to die, visit Johnwick. 2 hang around Johnwick. 3 pretend to take something out of the inner pocket. One shot at the bottom, one shot at the stomach.',\n",
       " 'a movie that evaporation 128 people by mishandling one person.',\n",
       " \"The reason why we're so into games\",\n",
       " \"When Johnwick's body asked him if he could be ill, he refused, and he thought he was going to die, so he ran away.\",\n",
       " \"Whoever touches John Wick will be X.  It's very X-raying.\",\n",
       " 'The action of Keanu Reeves, who constantly reloads the struggle of John Wick for retirement in the world as much as Hwang-hee and Jo Mal-saeng.',\n",
       " 'Even if the title is action and the genre is John Wick, it makes sense.',\n",
       " 'The last running of a man who seemed to have the guts was really miserable.',\n",
       " \"Just like I took a picture of myself doing nothing but what I'm good at, I'm only really good at what I'm good at.  That's why I'm greedy for this movie. If I wear a stylish suit called a well-organized story and refrain from shooting indiscriminately like John Wick's munchkin in a more luxurious way, I think I might have had another luxury action movie series. I think there's going to be part three, but I think I'll probably only do what I'm good at.Still, action scenes are enough to make you enjoy it.\",\n",
       " 'Storyworms cry',\n",
       " \"They say that the puppy they're going with was actually a killer.\",\n",
       " \"If you touch him, he's got a great audience.\",\n",
       " \"The production technique of shooting within one cut is attractive in itself, but it is also a metaphor for the fate of Johnwick, who cannot escape from the world despite his struggles. He is constantly given a choice from the opening scene, but he is a world subjugated to this world no matter which way he goes, is the story of John Wickman? The world of partners represented by his signature and rules resembles today's capitalist society, which binds individuals under the pretext of self-oriented society.  We see ourselves in John Wick, who struggles but can never escape from the box.\",\n",
       " 'Stylish Action 🐕 WATCHA PLAY',\n",
       " 'One action is neat and tidy.',\n",
       " \"People who are paid to kill people, they're shooting walls and floors right in front of them, so many people with hand tremor.\",\n",
       " 'It was a bit difficult, but I had high expectations that the story would become even bigger every time I put my gun in my head. It was simple, but it was easier to watch.',\n",
       " 'There is no way to stop laughing.',\n",
       " \"We reduced the elements that seemed to be stretched out in the previous one and filled in more vacancies with action.The emphasis seems to be better than the previous one, but personally, it is still a shame.Whether there is or not, the speciality of music or filming production that makes it look more like something is weak.It's a cruel and realistic action, but I regret trying to make it stand out.\",\n",
       " 'No one can come and go without results.',\n",
       " 'Somewhere between normal and worth seeing, but because of the action scenes, the second bridge-like series for the spectacular return of 3 5 John Wick is about to take place.',\n",
       " \"I'll be waiting quietly for Chad Stahelsky's third film, which replaced the gap with a flashy action.\",\n",
       " 'Simplicity and sexiness continue.',\n",
       " \"Now, the trend of middle-aged action has shifted from a daughter's stupid father to a dog-eating man.\",\n",
       " \"It was nice to see Neo and Morpheus again. I'm sure there's a follow-up.\",\n",
       " 'Interesting World Views and Actions',\n",
       " \"It's an effort-type movie that raises the main character with its own lines. It's invincible but always attacked old-fashioned legend. You must be tired.\",\n",
       " \"It's not exactly the same as the previous one, but it's basically well equipped with the good elements of the previous one. I'm not tired of the unique gunshot action.\",\n",
       " \"They're really good at selling a well, and action is action, but the music is also a part of it.  Personally, I'm happy to see Keanuribus back in his heyday with the Johnwick series.I can't help but look forward to the third episode after seeing the last scene of sadness and goosebumps.\",\n",
       " 'Massacre film',\n",
       " \"I can appreciate my previous work even if I don't watch it. I was a little overwhelmed by the pretty rough ending.  Maybe the next episode will surprise you just by hearing the ringtone.\",\n",
       " \"This crude and artistic sequence of action that never drags on seems like a combination of water and oil, but it's a different story from the John Wick series.\",\n",
       " ...]"
      ]
     },
     "execution_count": 5,
     "metadata": {},
     "output_type": "execute_result"
    }
   ],
   "source": [
    "en_review"
   ]
  },
  {
   "cell_type": "code",
   "execution_count": 7,
   "metadata": {},
   "outputs": [],
   "source": [
    "file['en_review']=en_review"
   ]
  },
  {
   "cell_type": "code",
   "execution_count": 9,
   "metadata": {},
   "outputs": [],
   "source": [
    "file.to_csv('movie_watcha_review.csv')"
   ]
  },
  {
   "cell_type": "code",
   "execution_count": 18,
   "metadata": {},
   "outputs": [
    {
     "data": {
      "text/plain": [
       "'사람들의 인생을 바꾼 이 신의 선물은\\n흰색에 진홍빛 줄무늬가 있었으며\\n모두의 인생을 뒤바꿔 놓았다.\\n.\\n.\\n.\\n재미있는데...평...왜...구래요....\\\\\\\\\\\\'"
      ]
     },
     "execution_count": 18,
     "metadata": {},
     "output_type": "execute_result"
    }
   ],
   "source": [
    "file.iloc[4817,4]"
   ]
  },
  {
   "cell_type": "code",
   "execution_count": 19,
   "metadata": {
    "scrolled": true
   },
   "outputs": [
    {
     "name": "stdout",
     "output_type": "stream",
     "text": [
      "323 5549\n",
      "1100 9995\n",
      "1106 6557\n",
      "1123 8147\n",
      "1134 8016\n",
      "1367 9389\n",
      "1369 9230\n",
      "1407 6311\n",
      "1480 8589\n",
      "3165 9087\n",
      "3167 7610\n",
      "3172 9999\n",
      "4468 4\n",
      "4817 88\n",
      "6098 5738\n",
      "6264 7441\n",
      "7020 6968\n",
      "7334 9515\n",
      "8497 6135\n",
      "9347 5039\n",
      "10006 9989\n",
      "11442 7197\n",
      "12004 7789\n",
      "12614 6341\n",
      "13532 177\n",
      "13616 3\n",
      "13952 828\n",
      "14610 3\n",
      "14771 1\n",
      "14893 194\n",
      "15214 1\n",
      "15681 1\n",
      "16271 168\n",
      "16288 1\n",
      "17308 7\n",
      "18052 3\n",
      "18299 1\n",
      "18508 1\n",
      "18737 1\n",
      "18814 3\n",
      "19065 5528\n",
      "19438 6334\n",
      "19670 3\n",
      "23717 28\n",
      "23744 41\n",
      "29641 3\n"
     ]
    }
   ],
   "source": [
    "for error in error_list:\n",
    "    print(error,len(file.iloc[error,4]))"
   ]
  }
 ],
 "metadata": {
  "kernelspec": {
   "display_name": "Python 3",
   "language": "python",
   "name": "python3"
  },
  "language_info": {
   "codemirror_mode": {
    "name": "ipython",
    "version": 3
   },
   "file_extension": ".py",
   "mimetype": "text/x-python",
   "name": "python",
   "nbconvert_exporter": "python",
   "pygments_lexer": "ipython3",
   "version": "3.7.6"
  }
 },
 "nbformat": 4,
 "nbformat_minor": 4
}
