{
 "cells": [
  {
   "cell_type": "code",
   "execution_count": 1,
   "metadata": {},
   "outputs": [],
   "source": [
    "import os\n",
    "import modules as md\n",
    "import pandas as pd\n",
    "from pypapago import Translator\n",
    "ts = Translator()     "
   ]
  },
  {
   "cell_type": "code",
   "execution_count": 2,
   "metadata": {},
   "outputs": [],
   "source": [
    "a=1\n",
    "for i in os.listdir(\"../../data/koreatour_reviews\"):\n",
    "    get_df = pd.read_csv(f'../../data/koreatour_reviews/{i}')\n",
    "    if 'review_en' not in get_df.columns:\n",
    "        get_df['review_en'] = 0;\n",
    "        for j in range(0, len(get_df)):\n",
    "            ko = get_df['review'][j]\n",
    "            try:\n",
    "                en = ts.translate(ko, source='ko', target='en', verbose=False)\n",
    "                get_df['review_en'][j]=en\n",
    "            except:\n",
    "                print('Cant translate file: ', i,'/','review: ', j);\n",
    "        try:\n",
    "            get_df.to_csv(f'../../data/koreatour_reviews/{i}', index=False)\n",
    "        except:\n",
    "            print('Cant save: file', i)\n",
    "    else:\n",
    "        a=a+1"
   ]
  },
  {
   "cell_type": "code",
   "execution_count": 3,
   "metadata": {},
   "outputs": [
    {
     "name": "stderr",
     "output_type": "stream",
     "text": [
      "/Users/ryeonju/miniconda3/envs/reco_base/lib/python3.6/site-packages/ipykernel_launcher.py:14: SettingWithCopyWarning: \n",
      "A value is trying to be set on a copy of a slice from a DataFrame\n",
      "\n",
      "See the caveats in the documentation: http://pandas.pydata.org/pandas-docs/stable/user_guide/indexing.html#returning-a-view-versus-a-copy\n",
      "  \n"
     ]
    },
    {
     "name": "stdout",
     "output_type": "stream",
     "text": [
      "Cant translate file:  1059.csv / review:  126\n",
      "Cant translate file:  22.csv / review:  1098\n",
      "Cant translate file:  121.csv / review:  1098\n",
      "Cant translate file:  34.csv / review:  462\n",
      "Cant translate file:  34.csv / review:  1133\n",
      "Cant translate file:  120.csv / review:  1093\n",
      "Cant translate file:  981.csv / review:  34\n",
      "Cant translate file:  823.csv / review:  1098\n",
      "Cant translate file:  159.csv / review:  972\n",
      "Cant translate file:  159.csv / review:  1155\n",
      "Cant translate file:  603.csv / review:  4\n"
     ]
    }
   ],
   "source": [
    "count = 0\n",
    "for i in os.listdir(\"../../data/koreatour_reviews\"):\n",
    "    get_df = pd.read_csv(f'../../data/koreatour_reviews/{i}')\n",
    "    for j in range(0, len(get_df)):\n",
    "        ko = get_df['review'][j]\n",
    "        en = get_df['review_en'][j]\n",
    "        if en == '0':\n",
    "            try:\n",
    "                ko = md.delete_punctuations(ko)\n",
    "                ko_ls = ko.split(\". \")\n",
    "                for k in ko_ls:\n",
    "                    en_k = ts.translate(str(k+'. '), source='ko', target='en', verbose=False)\n",
    "                    en = en + en_k;\n",
    "                get_df['review_en'][j]=en\n",
    "            except:\n",
    "                print('Cant translate file: ', i,'/','review: ', j);\n",
    "    try:   \n",
    "        get_df.to_csv(f'../../data/koreatour_reviews/{i}', index=False)\n",
    "        count = count+1;\n",
    "    except:\n",
    "        print('Cant save: file', i)"
   ]
  },
  {
   "cell_type": "code",
   "execution_count": null,
   "metadata": {},
   "outputs": [],
   "source": [
    "Cant translate file:  1059.csv / review:  126\n",
    "#Cant translate file:  22.csv / review:  1098\n",
    "#Cant translate file:  121.csv / review:  1098\n",
    "#Cant translate file:  34.csv / review:  462\n",
    "#Cant translate file:  34.csv / review:  1133\n",
    "#Cant translate file:  120.csv / review:  1093\n",
    "#Cant translate file:  981.csv / review:  34\n",
    "#Cant translate file:  823.csv / review:  1098\n",
    "#Cant translate file:  159.csv / review:  972\n",
    "#Cant translate file:  159.csv / review:  1155\n",
    "#Cant translate file:  603.csv / review:  4\n"
   ]
  }
 ],
 "metadata": {
  "kernelspec": {
   "display_name": "Python reco_base",
   "language": "python",
   "name": "my_env_name"
  },
  "language_info": {
   "codemirror_mode": {
    "name": "ipython",
    "version": 3
   },
   "file_extension": ".py",
   "mimetype": "text/x-python",
   "name": "python",
   "nbconvert_exporter": "python",
   "pygments_lexer": "ipython3",
   "version": "3.6.10"
  }
 },
 "nbformat": 4,
 "nbformat_minor": 4
}
