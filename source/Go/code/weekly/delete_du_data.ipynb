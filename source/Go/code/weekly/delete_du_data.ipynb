{
 "cells": [
  {
   "cell_type": "code",
   "execution_count": 1,
   "metadata": {},
   "outputs": [],
   "source": [
    "deleted_seoul_data = [1404,843,34,823,506,881,1414,1503,881,1,591,418,\n",
    "                      492,236,556,581,1202,1228,592,519,1134,938,63,\n",
    "                      668,1133,1135,844,1475,397,157,1186,319,1122,460,\n",
    "                      1225,95,485,16,410,772,1220,1232,1378,213,661,1136]"
   ]
  },
  {
   "cell_type": "code",
   "execution_count": 2,
   "metadata": {},
   "outputs": [
    {
     "data": {
      "text/plain": [
       "[1404,\n",
       " 843,\n",
       " 34,\n",
       " 823,\n",
       " 506,\n",
       " 881,\n",
       " 1414,\n",
       " 1503,\n",
       " 881,\n",
       " 1,\n",
       " 591,\n",
       " 418,\n",
       " 492,\n",
       " 236,\n",
       " 556,\n",
       " 581,\n",
       " 1202,\n",
       " 1228,\n",
       " 592,\n",
       " 519,\n",
       " 1134,\n",
       " 938,\n",
       " 63,\n",
       " 668,\n",
       " 1133,\n",
       " 1135,\n",
       " 844,\n",
       " 1475,\n",
       " 397,\n",
       " 157,\n",
       " 1186,\n",
       " 319,\n",
       " 1122,\n",
       " 460,\n",
       " 1225,\n",
       " 95,\n",
       " 485,\n",
       " 16,\n",
       " 410,\n",
       " 772,\n",
       " 1220,\n",
       " 1232,\n",
       " 1378]"
      ]
     },
     "execution_count": 2,
     "metadata": {},
     "output_type": "execute_result"
    }
   ],
   "source": [
    "deleted_seoul_data"
   ]
  },
  {
   "cell_type": "code",
   "execution_count": null,
   "metadata": {},
   "outputs": [],
   "source": []
  }
 ],
 "metadata": {
  "kernelspec": {
   "display_name": "Python reco_base",
   "language": "python",
   "name": "my_env_name"
  },
  "language_info": {
   "codemirror_mode": {
    "name": "ipython",
    "version": 3
   },
   "file_extension": ".py",
   "mimetype": "text/x-python",
   "name": "python",
   "nbconvert_exporter": "python",
   "pygments_lexer": "ipython3",
   "version": "3.6.10"
  }
 },
 "nbformat": 4,
 "nbformat_minor": 4
}
