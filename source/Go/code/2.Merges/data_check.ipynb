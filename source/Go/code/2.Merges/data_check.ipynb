{
 "cells": [
  {
   "cell_type": "code",
   "execution_count": 1,
   "metadata": {},
   "outputs": [],
   "source": [
    "import pandas as pd"
   ]
  },
  {
   "cell_type": "code",
   "execution_count": 24,
   "metadata": {},
   "outputs": [],
   "source": [
    "kt_ls = pd.read_csv(\"../../data/seoul_to_go.csv\")"
   ]
  },
  {
   "cell_type": "code",
   "execution_count": 28,
   "metadata": {},
   "outputs": [],
   "source": [
    "ftd_kt_ls = kt_ls[kt_ls['reviews'].isnull() == False]"
   ]
  },
  {
   "cell_type": "code",
   "execution_count": 32,
   "metadata": {},
   "outputs": [],
   "source": [
    "filter_list= list(ftd_kt_ls['id'])"
   ]
  },
  {
   "cell_type": "code",
   "execution_count": 39,
   "metadata": {},
   "outputs": [],
   "source": [
    "ap = pd.read_csv(\"../../data/tmp.csv\")"
   ]
  },
  {
   "cell_type": "code",
   "execution_count": 43,
   "metadata": {},
   "outputs": [],
   "source": [
    "for i in range (0, len(ap)):\n",
    "    if(ap['p_id'][i] not in filter_list):\n",
    "        ap.drop(i, inplace=True)"
   ]
  },
  {
   "cell_type": "code",
   "execution_count": 44,
   "metadata": {},
   "outputs": [
    {
     "data": {
      "text/html": [
       "<div>\n",
       "<style scoped>\n",
       "    .dataframe tbody tr th:only-of-type {\n",
       "        vertical-align: middle;\n",
       "    }\n",
       "\n",
       "    .dataframe tbody tr th {\n",
       "        vertical-align: top;\n",
       "    }\n",
       "\n",
       "    .dataframe thead th {\n",
       "        text-align: right;\n",
       "    }\n",
       "</style>\n",
       "<table border=\"1\" class=\"dataframe\">\n",
       "  <thead>\n",
       "    <tr style=\"text-align: right;\">\n",
       "      <th></th>\n",
       "      <th>p_id</th>\n",
       "      <th>review</th>\n",
       "      <th>review_en</th>\n",
       "    </tr>\n",
       "  </thead>\n",
       "  <tbody>\n",
       "    <tr>\n",
       "      <th>0</th>\n",
       "      <td>0</td>\n",
       "      <td>. 도심 한가운데 이렇게 사찰이 있을줄 몰랐는데, 너무너무 멋집니다. 특히 저녁에 ...</td>\n",
       "      <td>. I didn't know there would be a temple like t...</td>\n",
       "    </tr>\n",
       "    <tr>\n",
       "      <th>2</th>\n",
       "      <td>2</td>\n",
       "      <td>. 덕수궁은 조선시대의 궁과 일본식 근대 건물이 함께 존재하는 공간이다. 역사적인 ...</td>\n",
       "      <td>. Deoksugung Palace is a space where Joseon-er...</td>\n",
       "    </tr>\n",
       "    <tr>\n",
       "      <th>3</th>\n",
       "      <td>3</td>\n",
       "      <td>. 국내인들도 그냥 가볼만 하다. 경복궁 한바퀴 돌고 사진찍고 나오면 있는 곳인데 ...</td>\n",
       "      <td>. Koreans deserve to just go. If you go around...</td>\n",
       "    </tr>\n",
       "    <tr>\n",
       "      <th>4</th>\n",
       "      <td>4</td>\n",
       "      <td>. 친구들과 산책할겸 방문했어요. 도심 속 역사가 살아있어서 너무 좋았어요~ 등도 ...</td>\n",
       "      <td>. I visited with my friends for a walk. I was ...</td>\n",
       "    </tr>\n",
       "    <tr>\n",
       "      <th>6</th>\n",
       "      <td>6</td>\n",
       "      <td>. 유아동반 가족에게는 꽤 괜찮은 선택이다. 수온이 너무 차지않아 유아들 추워하지 ...</td>\n",
       "      <td>. It's a pretty good choice for the infant fam...</td>\n",
       "    </tr>\n",
       "    <tr>\n",
       "      <th>...</th>\n",
       "      <td>...</td>\n",
       "      <td>...</td>\n",
       "      <td>...</td>\n",
       "    </tr>\n",
       "    <tr>\n",
       "      <th>1326</th>\n",
       "      <td>1485</td>\n",
       "      <td>. 방학역과는 거리가 좀 있습니다. 시장이 크지는 않고요. 커다란 호떡과 시장맛나는...</td>\n",
       "      <td>. It's a little far from the vacation station....</td>\n",
       "    </tr>\n",
       "    <tr>\n",
       "      <th>1341</th>\n",
       "      <td>1500</td>\n",
       "      <td>. 저렴한 곳과 고급스러운 곳들이 다 뒤섞여있습니다. 종로가격을 유지하면서 고급스러...</td>\n",
       "      <td>. Cheap and luxurious places are all mixed up....</td>\n",
       "    </tr>\n",
       "    <tr>\n",
       "      <th>1347</th>\n",
       "      <td>1508</td>\n",
       "      <td>NaN</td>\n",
       "      <td>NaN</td>\n",
       "    </tr>\n",
       "    <tr>\n",
       "      <th>1349</th>\n",
       "      <td>1510</td>\n",
       "      <td>. 시장 중앙에 떡볶이집이 몰려있는데 오뎅도 너무 맛있고 떡볶이도 저렴하면서 양도 ...</td>\n",
       "      <td>. There are a lot of tteokbokki restaurants in...</td>\n",
       "    </tr>\n",
       "    <tr>\n",
       "      <th>1350</th>\n",
       "      <td>1511</td>\n",
       "      <td>NaN</td>\n",
       "      <td>NaN</td>\n",
       "    </tr>\n",
       "  </tbody>\n",
       "</table>\n",
       "<p>426 rows × 3 columns</p>\n",
       "</div>"
      ],
      "text/plain": [
       "      p_id                                             review  \\\n",
       "0        0  . 도심 한가운데 이렇게 사찰이 있을줄 몰랐는데, 너무너무 멋집니다. 특히 저녁에 ...   \n",
       "2        2  . 덕수궁은 조선시대의 궁과 일본식 근대 건물이 함께 존재하는 공간이다. 역사적인 ...   \n",
       "3        3  . 국내인들도 그냥 가볼만 하다. 경복궁 한바퀴 돌고 사진찍고 나오면 있는 곳인데 ...   \n",
       "4        4  . 친구들과 산책할겸 방문했어요. 도심 속 역사가 살아있어서 너무 좋았어요~ 등도 ...   \n",
       "6        6  . 유아동반 가족에게는 꽤 괜찮은 선택이다. 수온이 너무 차지않아 유아들 추워하지 ...   \n",
       "...    ...                                                ...   \n",
       "1326  1485  . 방학역과는 거리가 좀 있습니다. 시장이 크지는 않고요. 커다란 호떡과 시장맛나는...   \n",
       "1341  1500  . 저렴한 곳과 고급스러운 곳들이 다 뒤섞여있습니다. 종로가격을 유지하면서 고급스러...   \n",
       "1347  1508                                                NaN   \n",
       "1349  1510  . 시장 중앙에 떡볶이집이 몰려있는데 오뎅도 너무 맛있고 떡볶이도 저렴하면서 양도 ...   \n",
       "1350  1511                                                NaN   \n",
       "\n",
       "                                              review_en  \n",
       "0     . I didn't know there would be a temple like t...  \n",
       "2     . Deoksugung Palace is a space where Joseon-er...  \n",
       "3     . Koreans deserve to just go. If you go around...  \n",
       "4     . I visited with my friends for a walk. I was ...  \n",
       "6     . It's a pretty good choice for the infant fam...  \n",
       "...                                                 ...  \n",
       "1326  . It's a little far from the vacation station....  \n",
       "1341  . Cheap and luxurious places are all mixed up....  \n",
       "1347                                                NaN  \n",
       "1349  . There are a lot of tteokbokki restaurants in...  \n",
       "1350                                                NaN  \n",
       "\n",
       "[426 rows x 3 columns]"
      ]
     },
     "execution_count": 44,
     "metadata": {},
     "output_type": "execute_result"
    }
   ],
   "source": [
    "ap"
   ]
  },
  {
   "cell_type": "code",
   "execution_count": 45,
   "metadata": {},
   "outputs": [
    {
     "data": {
      "text/plain": [
       "set()"
      ]
     },
     "execution_count": 45,
     "metadata": {},
     "output_type": "execute_result"
    }
   ],
   "source": [
    "set(list(ap['p_id']))-set(filter_list)"
   ]
  },
  {
   "cell_type": "code",
   "execution_count": 46,
   "metadata": {},
   "outputs": [],
   "source": [
    "ap.to_csv(\"../../data/tmp.csv\", index=False)"
   ]
  },
  {
   "cell_type": "code",
   "execution_count": null,
   "metadata": {},
   "outputs": [],
   "source": []
  }
 ],
 "metadata": {
  "kernelspec": {
   "display_name": "Python reco",
   "language": "python",
   "name": "reco_base"
  },
  "language_info": {
   "codemirror_mode": {
    "name": "ipython",
    "version": 3
   },
   "file_extension": ".py",
   "mimetype": "text/x-python",
   "name": "python",
   "nbconvert_exporter": "python",
   "pygments_lexer": "ipython3",
   "version": "3.6.10"
  }
 },
 "nbformat": 4,
 "nbformat_minor": 4
}
